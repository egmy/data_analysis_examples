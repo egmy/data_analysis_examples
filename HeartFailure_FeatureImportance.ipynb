{
 "cells": [
  {
   "cell_type": "markdown",
   "id": "f5074219-7448-4bc3-b680-63c7e7315f39",
   "metadata": {},
   "source": [
    "# Heart Failure Feature Importance"
   ]
  },
  {
   "cell_type": "markdown",
   "id": "c4b547a0-4f0d-4156-9989-14bb151bc7cb",
   "metadata": {},
   "source": [
    "---"
   ]
  },
  {
   "cell_type": "markdown",
   "id": "4ca93d6b-9ac8-4d4e-91fa-31b950d692c1",
   "metadata": {},
   "source": [
    "### Overview\n",
    "\n",
    "We'll use the heart_failures.csv dataset for this analysis.  The target variable we are interested in is **DEATH_EVENT**.\n",
    "\n",
    "We are not only interested in predicting DEATH_EVENT.  We are also interested in figuring out which features impact this target variable the most.\n"
   ]
  },
  {
   "cell_type": "markdown",
   "id": "0239fcf9-ef34-4453-bcb5-dab029370316",
   "metadata": {},
   "source": [
    "---\n",
    "\n",
    "**Prepare the data for modeling**"
   ]
  },
  {
   "cell_type": "markdown",
   "id": "4f260f5b-e60e-46e4-9d96-808c98c04384",
   "metadata": {},
   "source": [
    "Remove the \"time\" variable. This feature does not determine heart failure, so it is unimportant"
   ]
  },
  {
   "cell_type": "code",
   "execution_count": 3,
   "id": "c6461e6e-bd69-4313-90fa-896ea90052e4",
   "metadata": {},
   "outputs": [],
   "source": [
    "import pandas, seaborn\n",
    "\n",
    "data = pandas.read_csv('../Datasets/heart_failures.csv')"
   ]
  },
  {
   "cell_type": "code",
   "execution_count": 4,
   "id": "902ad0bb-df10-4774-addf-30dcb792113a",
   "metadata": {},
   "outputs": [
    {
     "data": {
      "text/html": [
       "<div>\n",
       "<style scoped>\n",
       "    .dataframe tbody tr th:only-of-type {\n",
       "        vertical-align: middle;\n",
       "    }\n",
       "\n",
       "    .dataframe tbody tr th {\n",
       "        vertical-align: top;\n",
       "    }\n",
       "\n",
       "    .dataframe thead th {\n",
       "        text-align: right;\n",
       "    }\n",
       "</style>\n",
       "<table border=\"1\" class=\"dataframe\">\n",
       "  <thead>\n",
       "    <tr style=\"text-align: right;\">\n",
       "      <th></th>\n",
       "      <th>age</th>\n",
       "      <th>anaemia</th>\n",
       "      <th>creatinine_phosphokinase</th>\n",
       "      <th>diabetes</th>\n",
       "      <th>ejection_fraction</th>\n",
       "      <th>high_blood_pressure</th>\n",
       "      <th>platelets</th>\n",
       "      <th>serum_creatinine</th>\n",
       "      <th>serum_sodium</th>\n",
       "      <th>sex</th>\n",
       "      <th>smoking</th>\n",
       "      <th>time</th>\n",
       "      <th>DEATH_EVENT</th>\n",
       "    </tr>\n",
       "  </thead>\n",
       "  <tbody>\n",
       "    <tr>\n",
       "      <th>0</th>\n",
       "      <td>75.0</td>\n",
       "      <td>0</td>\n",
       "      <td>582</td>\n",
       "      <td>0</td>\n",
       "      <td>20</td>\n",
       "      <td>1</td>\n",
       "      <td>265000.00</td>\n",
       "      <td>1.9</td>\n",
       "      <td>130</td>\n",
       "      <td>1</td>\n",
       "      <td>0</td>\n",
       "      <td>4</td>\n",
       "      <td>1</td>\n",
       "    </tr>\n",
       "    <tr>\n",
       "      <th>1</th>\n",
       "      <td>55.0</td>\n",
       "      <td>0</td>\n",
       "      <td>7861</td>\n",
       "      <td>0</td>\n",
       "      <td>38</td>\n",
       "      <td>0</td>\n",
       "      <td>263358.03</td>\n",
       "      <td>1.1</td>\n",
       "      <td>136</td>\n",
       "      <td>1</td>\n",
       "      <td>0</td>\n",
       "      <td>6</td>\n",
       "      <td>1</td>\n",
       "    </tr>\n",
       "    <tr>\n",
       "      <th>2</th>\n",
       "      <td>65.0</td>\n",
       "      <td>0</td>\n",
       "      <td>146</td>\n",
       "      <td>0</td>\n",
       "      <td>20</td>\n",
       "      <td>0</td>\n",
       "      <td>162000.00</td>\n",
       "      <td>1.3</td>\n",
       "      <td>129</td>\n",
       "      <td>1</td>\n",
       "      <td>1</td>\n",
       "      <td>7</td>\n",
       "      <td>1</td>\n",
       "    </tr>\n",
       "    <tr>\n",
       "      <th>3</th>\n",
       "      <td>50.0</td>\n",
       "      <td>1</td>\n",
       "      <td>111</td>\n",
       "      <td>0</td>\n",
       "      <td>20</td>\n",
       "      <td>0</td>\n",
       "      <td>210000.00</td>\n",
       "      <td>1.9</td>\n",
       "      <td>137</td>\n",
       "      <td>1</td>\n",
       "      <td>0</td>\n",
       "      <td>7</td>\n",
       "      <td>1</td>\n",
       "    </tr>\n",
       "    <tr>\n",
       "      <th>4</th>\n",
       "      <td>65.0</td>\n",
       "      <td>1</td>\n",
       "      <td>160</td>\n",
       "      <td>1</td>\n",
       "      <td>20</td>\n",
       "      <td>0</td>\n",
       "      <td>327000.00</td>\n",
       "      <td>2.7</td>\n",
       "      <td>116</td>\n",
       "      <td>0</td>\n",
       "      <td>0</td>\n",
       "      <td>8</td>\n",
       "      <td>1</td>\n",
       "    </tr>\n",
       "    <tr>\n",
       "      <th>...</th>\n",
       "      <td>...</td>\n",
       "      <td>...</td>\n",
       "      <td>...</td>\n",
       "      <td>...</td>\n",
       "      <td>...</td>\n",
       "      <td>...</td>\n",
       "      <td>...</td>\n",
       "      <td>...</td>\n",
       "      <td>...</td>\n",
       "      <td>...</td>\n",
       "      <td>...</td>\n",
       "      <td>...</td>\n",
       "      <td>...</td>\n",
       "    </tr>\n",
       "    <tr>\n",
       "      <th>294</th>\n",
       "      <td>62.0</td>\n",
       "      <td>0</td>\n",
       "      <td>61</td>\n",
       "      <td>1</td>\n",
       "      <td>38</td>\n",
       "      <td>1</td>\n",
       "      <td>155000.00</td>\n",
       "      <td>1.1</td>\n",
       "      <td>143</td>\n",
       "      <td>1</td>\n",
       "      <td>1</td>\n",
       "      <td>270</td>\n",
       "      <td>0</td>\n",
       "    </tr>\n",
       "    <tr>\n",
       "      <th>295</th>\n",
       "      <td>55.0</td>\n",
       "      <td>0</td>\n",
       "      <td>1820</td>\n",
       "      <td>0</td>\n",
       "      <td>38</td>\n",
       "      <td>0</td>\n",
       "      <td>270000.00</td>\n",
       "      <td>1.2</td>\n",
       "      <td>139</td>\n",
       "      <td>0</td>\n",
       "      <td>0</td>\n",
       "      <td>271</td>\n",
       "      <td>0</td>\n",
       "    </tr>\n",
       "    <tr>\n",
       "      <th>296</th>\n",
       "      <td>45.0</td>\n",
       "      <td>0</td>\n",
       "      <td>2060</td>\n",
       "      <td>1</td>\n",
       "      <td>60</td>\n",
       "      <td>0</td>\n",
       "      <td>742000.00</td>\n",
       "      <td>0.8</td>\n",
       "      <td>138</td>\n",
       "      <td>0</td>\n",
       "      <td>0</td>\n",
       "      <td>278</td>\n",
       "      <td>0</td>\n",
       "    </tr>\n",
       "    <tr>\n",
       "      <th>297</th>\n",
       "      <td>45.0</td>\n",
       "      <td>0</td>\n",
       "      <td>2413</td>\n",
       "      <td>0</td>\n",
       "      <td>38</td>\n",
       "      <td>0</td>\n",
       "      <td>140000.00</td>\n",
       "      <td>1.4</td>\n",
       "      <td>140</td>\n",
       "      <td>1</td>\n",
       "      <td>1</td>\n",
       "      <td>280</td>\n",
       "      <td>0</td>\n",
       "    </tr>\n",
       "    <tr>\n",
       "      <th>298</th>\n",
       "      <td>50.0</td>\n",
       "      <td>0</td>\n",
       "      <td>196</td>\n",
       "      <td>0</td>\n",
       "      <td>45</td>\n",
       "      <td>0</td>\n",
       "      <td>395000.00</td>\n",
       "      <td>1.6</td>\n",
       "      <td>136</td>\n",
       "      <td>1</td>\n",
       "      <td>1</td>\n",
       "      <td>285</td>\n",
       "      <td>0</td>\n",
       "    </tr>\n",
       "  </tbody>\n",
       "</table>\n",
       "<p>299 rows × 13 columns</p>\n",
       "</div>"
      ],
      "text/plain": [
       "      age  anaemia  creatinine_phosphokinase  diabetes  ejection_fraction  \\\n",
       "0    75.0        0                       582         0                 20   \n",
       "1    55.0        0                      7861         0                 38   \n",
       "2    65.0        0                       146         0                 20   \n",
       "3    50.0        1                       111         0                 20   \n",
       "4    65.0        1                       160         1                 20   \n",
       "..    ...      ...                       ...       ...                ...   \n",
       "294  62.0        0                        61         1                 38   \n",
       "295  55.0        0                      1820         0                 38   \n",
       "296  45.0        0                      2060         1                 60   \n",
       "297  45.0        0                      2413         0                 38   \n",
       "298  50.0        0                       196         0                 45   \n",
       "\n",
       "     high_blood_pressure  platelets  serum_creatinine  serum_sodium  sex  \\\n",
       "0                      1  265000.00               1.9           130    1   \n",
       "1                      0  263358.03               1.1           136    1   \n",
       "2                      0  162000.00               1.3           129    1   \n",
       "3                      0  210000.00               1.9           137    1   \n",
       "4                      0  327000.00               2.7           116    0   \n",
       "..                   ...        ...               ...           ...  ...   \n",
       "294                    1  155000.00               1.1           143    1   \n",
       "295                    0  270000.00               1.2           139    0   \n",
       "296                    0  742000.00               0.8           138    0   \n",
       "297                    0  140000.00               1.4           140    1   \n",
       "298                    0  395000.00               1.6           136    1   \n",
       "\n",
       "     smoking  time  DEATH_EVENT  \n",
       "0          0     4            1  \n",
       "1          0     6            1  \n",
       "2          1     7            1  \n",
       "3          0     7            1  \n",
       "4          0     8            1  \n",
       "..       ...   ...          ...  \n",
       "294        1   270            0  \n",
       "295        0   271            0  \n",
       "296        0   278            0  \n",
       "297        1   280            0  \n",
       "298        1   285            0  \n",
       "\n",
       "[299 rows x 13 columns]"
      ]
     },
     "execution_count": 4,
     "metadata": {},
     "output_type": "execute_result"
    }
   ],
   "source": [
    "data"
   ]
  },
  {
   "cell_type": "code",
   "execution_count": 5,
   "id": "046b86d3-1a56-4e6a-be25-16bcce0c27e7",
   "metadata": {},
   "outputs": [],
   "source": [
    "data.drop(columns=['time'], inplace=True)"
   ]
  },
  {
   "cell_type": "markdown",
   "id": "1cdbd703-f7bc-4b89-aa94-82587f54587f",
   "metadata": {},
   "source": [
    "Now we remove any missing data"
   ]
  },
  {
   "cell_type": "code",
   "execution_count": 6,
   "id": "c12d4453-9552-4475-b4bb-51f7c597b2e6",
   "metadata": {},
   "outputs": [],
   "source": [
    "data=data.dropna()"
   ]
  },
  {
   "cell_type": "code",
   "execution_count": 7,
   "id": "a8641dc0-a766-465c-87be-820db4901950",
   "metadata": {},
   "outputs": [
    {
     "data": {
      "text/html": [
       "<div>\n",
       "<style scoped>\n",
       "    .dataframe tbody tr th:only-of-type {\n",
       "        vertical-align: middle;\n",
       "    }\n",
       "\n",
       "    .dataframe tbody tr th {\n",
       "        vertical-align: top;\n",
       "    }\n",
       "\n",
       "    .dataframe thead th {\n",
       "        text-align: right;\n",
       "    }\n",
       "</style>\n",
       "<table border=\"1\" class=\"dataframe\">\n",
       "  <thead>\n",
       "    <tr style=\"text-align: right;\">\n",
       "      <th></th>\n",
       "      <th>age</th>\n",
       "      <th>anaemia</th>\n",
       "      <th>creatinine_phosphokinase</th>\n",
       "      <th>diabetes</th>\n",
       "      <th>ejection_fraction</th>\n",
       "      <th>high_blood_pressure</th>\n",
       "      <th>platelets</th>\n",
       "      <th>serum_creatinine</th>\n",
       "      <th>serum_sodium</th>\n",
       "      <th>sex</th>\n",
       "      <th>smoking</th>\n",
       "      <th>DEATH_EVENT</th>\n",
       "    </tr>\n",
       "  </thead>\n",
       "  <tbody>\n",
       "    <tr>\n",
       "      <th>0</th>\n",
       "      <td>75.0</td>\n",
       "      <td>0</td>\n",
       "      <td>582</td>\n",
       "      <td>0</td>\n",
       "      <td>20</td>\n",
       "      <td>1</td>\n",
       "      <td>265000.00</td>\n",
       "      <td>1.9</td>\n",
       "      <td>130</td>\n",
       "      <td>1</td>\n",
       "      <td>0</td>\n",
       "      <td>1</td>\n",
       "    </tr>\n",
       "    <tr>\n",
       "      <th>1</th>\n",
       "      <td>55.0</td>\n",
       "      <td>0</td>\n",
       "      <td>7861</td>\n",
       "      <td>0</td>\n",
       "      <td>38</td>\n",
       "      <td>0</td>\n",
       "      <td>263358.03</td>\n",
       "      <td>1.1</td>\n",
       "      <td>136</td>\n",
       "      <td>1</td>\n",
       "      <td>0</td>\n",
       "      <td>1</td>\n",
       "    </tr>\n",
       "    <tr>\n",
       "      <th>2</th>\n",
       "      <td>65.0</td>\n",
       "      <td>0</td>\n",
       "      <td>146</td>\n",
       "      <td>0</td>\n",
       "      <td>20</td>\n",
       "      <td>0</td>\n",
       "      <td>162000.00</td>\n",
       "      <td>1.3</td>\n",
       "      <td>129</td>\n",
       "      <td>1</td>\n",
       "      <td>1</td>\n",
       "      <td>1</td>\n",
       "    </tr>\n",
       "    <tr>\n",
       "      <th>3</th>\n",
       "      <td>50.0</td>\n",
       "      <td>1</td>\n",
       "      <td>111</td>\n",
       "      <td>0</td>\n",
       "      <td>20</td>\n",
       "      <td>0</td>\n",
       "      <td>210000.00</td>\n",
       "      <td>1.9</td>\n",
       "      <td>137</td>\n",
       "      <td>1</td>\n",
       "      <td>0</td>\n",
       "      <td>1</td>\n",
       "    </tr>\n",
       "    <tr>\n",
       "      <th>4</th>\n",
       "      <td>65.0</td>\n",
       "      <td>1</td>\n",
       "      <td>160</td>\n",
       "      <td>1</td>\n",
       "      <td>20</td>\n",
       "      <td>0</td>\n",
       "      <td>327000.00</td>\n",
       "      <td>2.7</td>\n",
       "      <td>116</td>\n",
       "      <td>0</td>\n",
       "      <td>0</td>\n",
       "      <td>1</td>\n",
       "    </tr>\n",
       "    <tr>\n",
       "      <th>...</th>\n",
       "      <td>...</td>\n",
       "      <td>...</td>\n",
       "      <td>...</td>\n",
       "      <td>...</td>\n",
       "      <td>...</td>\n",
       "      <td>...</td>\n",
       "      <td>...</td>\n",
       "      <td>...</td>\n",
       "      <td>...</td>\n",
       "      <td>...</td>\n",
       "      <td>...</td>\n",
       "      <td>...</td>\n",
       "    </tr>\n",
       "    <tr>\n",
       "      <th>294</th>\n",
       "      <td>62.0</td>\n",
       "      <td>0</td>\n",
       "      <td>61</td>\n",
       "      <td>1</td>\n",
       "      <td>38</td>\n",
       "      <td>1</td>\n",
       "      <td>155000.00</td>\n",
       "      <td>1.1</td>\n",
       "      <td>143</td>\n",
       "      <td>1</td>\n",
       "      <td>1</td>\n",
       "      <td>0</td>\n",
       "    </tr>\n",
       "    <tr>\n",
       "      <th>295</th>\n",
       "      <td>55.0</td>\n",
       "      <td>0</td>\n",
       "      <td>1820</td>\n",
       "      <td>0</td>\n",
       "      <td>38</td>\n",
       "      <td>0</td>\n",
       "      <td>270000.00</td>\n",
       "      <td>1.2</td>\n",
       "      <td>139</td>\n",
       "      <td>0</td>\n",
       "      <td>0</td>\n",
       "      <td>0</td>\n",
       "    </tr>\n",
       "    <tr>\n",
       "      <th>296</th>\n",
       "      <td>45.0</td>\n",
       "      <td>0</td>\n",
       "      <td>2060</td>\n",
       "      <td>1</td>\n",
       "      <td>60</td>\n",
       "      <td>0</td>\n",
       "      <td>742000.00</td>\n",
       "      <td>0.8</td>\n",
       "      <td>138</td>\n",
       "      <td>0</td>\n",
       "      <td>0</td>\n",
       "      <td>0</td>\n",
       "    </tr>\n",
       "    <tr>\n",
       "      <th>297</th>\n",
       "      <td>45.0</td>\n",
       "      <td>0</td>\n",
       "      <td>2413</td>\n",
       "      <td>0</td>\n",
       "      <td>38</td>\n",
       "      <td>0</td>\n",
       "      <td>140000.00</td>\n",
       "      <td>1.4</td>\n",
       "      <td>140</td>\n",
       "      <td>1</td>\n",
       "      <td>1</td>\n",
       "      <td>0</td>\n",
       "    </tr>\n",
       "    <tr>\n",
       "      <th>298</th>\n",
       "      <td>50.0</td>\n",
       "      <td>0</td>\n",
       "      <td>196</td>\n",
       "      <td>0</td>\n",
       "      <td>45</td>\n",
       "      <td>0</td>\n",
       "      <td>395000.00</td>\n",
       "      <td>1.6</td>\n",
       "      <td>136</td>\n",
       "      <td>1</td>\n",
       "      <td>1</td>\n",
       "      <td>0</td>\n",
       "    </tr>\n",
       "  </tbody>\n",
       "</table>\n",
       "<p>299 rows × 12 columns</p>\n",
       "</div>"
      ],
      "text/plain": [
       "      age  anaemia  creatinine_phosphokinase  diabetes  ejection_fraction  \\\n",
       "0    75.0        0                       582         0                 20   \n",
       "1    55.0        0                      7861         0                 38   \n",
       "2    65.0        0                       146         0                 20   \n",
       "3    50.0        1                       111         0                 20   \n",
       "4    65.0        1                       160         1                 20   \n",
       "..    ...      ...                       ...       ...                ...   \n",
       "294  62.0        0                        61         1                 38   \n",
       "295  55.0        0                      1820         0                 38   \n",
       "296  45.0        0                      2060         1                 60   \n",
       "297  45.0        0                      2413         0                 38   \n",
       "298  50.0        0                       196         0                 45   \n",
       "\n",
       "     high_blood_pressure  platelets  serum_creatinine  serum_sodium  sex  \\\n",
       "0                      1  265000.00               1.9           130    1   \n",
       "1                      0  263358.03               1.1           136    1   \n",
       "2                      0  162000.00               1.3           129    1   \n",
       "3                      0  210000.00               1.9           137    1   \n",
       "4                      0  327000.00               2.7           116    0   \n",
       "..                   ...        ...               ...           ...  ...   \n",
       "294                    1  155000.00               1.1           143    1   \n",
       "295                    0  270000.00               1.2           139    0   \n",
       "296                    0  742000.00               0.8           138    0   \n",
       "297                    0  140000.00               1.4           140    1   \n",
       "298                    0  395000.00               1.6           136    1   \n",
       "\n",
       "     smoking  DEATH_EVENT  \n",
       "0          0            1  \n",
       "1          0            1  \n",
       "2          1            1  \n",
       "3          0            1  \n",
       "4          0            1  \n",
       "..       ...          ...  \n",
       "294        1            0  \n",
       "295        0            0  \n",
       "296        0            0  \n",
       "297        1            0  \n",
       "298        1            0  \n",
       "\n",
       "[299 rows x 12 columns]"
      ]
     },
     "execution_count": 7,
     "metadata": {},
     "output_type": "execute_result"
    }
   ],
   "source": [
    "data"
   ]
  },
  {
   "cell_type": "markdown",
   "id": "83ee622d-5902-4b4a-b0ee-911b10452fb7",
   "metadata": {},
   "source": [
    "Looks like there is no missing data"
   ]
  },
  {
   "cell_type": "code",
   "execution_count": 16,
   "id": "b4de04fe-5206-4e37-93ba-dfe6248e5f25",
   "metadata": {},
   "outputs": [
    {
     "name": "stdout",
     "output_type": "stream",
     "text": [
      "age                         float64\n",
      "anaemia                       int64\n",
      "creatinine_phosphokinase      int64\n",
      "diabetes                      int64\n",
      "ejection_fraction             int64\n",
      "high_blood_pressure           int64\n",
      "platelets                   float64\n",
      "serum_creatinine            float64\n",
      "serum_sodium                  int64\n",
      "sex                           int64\n",
      "smoking                       int64\n",
      "DEATH_EVENT                   int64\n",
      "dtype: object\n"
     ]
    }
   ],
   "source": [
    "print(data.dtypes)"
   ]
  },
  {
   "cell_type": "markdown",
   "id": "86557bcd-e240-4c12-80c7-4b0e97ba0651",
   "metadata": {},
   "source": [
    "Looks like all variables are numerical, so no need to convert any for analysis. "
   ]
  },
  {
   "cell_type": "markdown",
   "id": "f0b46b6d-3d8a-4976-a5d0-331564e912fa",
   "metadata": {},
   "source": [
    "Let's our features and target variable as X and y. "
   ]
  },
  {
   "cell_type": "code",
   "execution_count": 1,
   "id": "c4829165-9d18-47d7-a0ff-4596675292ec",
   "metadata": {},
   "outputs": [],
   "source": [
    "from sklearn.preprocessing import MinMaxScaler"
   ]
  },
  {
   "cell_type": "code",
   "execution_count": 8,
   "id": "ddaa8a76-e0fe-4890-a930-0882d3b43f4a",
   "metadata": {},
   "outputs": [
    {
     "data": {
      "text/html": [
       "<div>\n",
       "<style scoped>\n",
       "    .dataframe tbody tr th:only-of-type {\n",
       "        vertical-align: middle;\n",
       "    }\n",
       "\n",
       "    .dataframe tbody tr th {\n",
       "        vertical-align: top;\n",
       "    }\n",
       "\n",
       "    .dataframe thead th {\n",
       "        text-align: right;\n",
       "    }\n",
       "</style>\n",
       "<table border=\"1\" class=\"dataframe\">\n",
       "  <thead>\n",
       "    <tr style=\"text-align: right;\">\n",
       "      <th></th>\n",
       "      <th>age</th>\n",
       "      <th>anaemia</th>\n",
       "      <th>creatinine_phosphokinase</th>\n",
       "      <th>diabetes</th>\n",
       "      <th>ejection_fraction</th>\n",
       "      <th>high_blood_pressure</th>\n",
       "      <th>platelets</th>\n",
       "      <th>serum_creatinine</th>\n",
       "      <th>serum_sodium</th>\n",
       "      <th>sex</th>\n",
       "      <th>smoking</th>\n",
       "    </tr>\n",
       "  </thead>\n",
       "  <tbody>\n",
       "    <tr>\n",
       "      <th>0</th>\n",
       "      <td>0.636364</td>\n",
       "      <td>0.0</td>\n",
       "      <td>0.071319</td>\n",
       "      <td>0.0</td>\n",
       "      <td>0.090909</td>\n",
       "      <td>1.0</td>\n",
       "      <td>0.290823</td>\n",
       "      <td>0.157303</td>\n",
       "      <td>0.485714</td>\n",
       "      <td>1.0</td>\n",
       "      <td>0.0</td>\n",
       "    </tr>\n",
       "    <tr>\n",
       "      <th>1</th>\n",
       "      <td>0.272727</td>\n",
       "      <td>0.0</td>\n",
       "      <td>1.000000</td>\n",
       "      <td>0.0</td>\n",
       "      <td>0.363636</td>\n",
       "      <td>0.0</td>\n",
       "      <td>0.288833</td>\n",
       "      <td>0.067416</td>\n",
       "      <td>0.657143</td>\n",
       "      <td>1.0</td>\n",
       "      <td>0.0</td>\n",
       "    </tr>\n",
       "    <tr>\n",
       "      <th>2</th>\n",
       "      <td>0.454545</td>\n",
       "      <td>0.0</td>\n",
       "      <td>0.015693</td>\n",
       "      <td>0.0</td>\n",
       "      <td>0.090909</td>\n",
       "      <td>0.0</td>\n",
       "      <td>0.165960</td>\n",
       "      <td>0.089888</td>\n",
       "      <td>0.457143</td>\n",
       "      <td>1.0</td>\n",
       "      <td>1.0</td>\n",
       "    </tr>\n",
       "    <tr>\n",
       "      <th>3</th>\n",
       "      <td>0.181818</td>\n",
       "      <td>1.0</td>\n",
       "      <td>0.011227</td>\n",
       "      <td>0.0</td>\n",
       "      <td>0.090909</td>\n",
       "      <td>0.0</td>\n",
       "      <td>0.224148</td>\n",
       "      <td>0.157303</td>\n",
       "      <td>0.685714</td>\n",
       "      <td>1.0</td>\n",
       "      <td>0.0</td>\n",
       "    </tr>\n",
       "    <tr>\n",
       "      <th>4</th>\n",
       "      <td>0.454545</td>\n",
       "      <td>1.0</td>\n",
       "      <td>0.017479</td>\n",
       "      <td>1.0</td>\n",
       "      <td>0.090909</td>\n",
       "      <td>0.0</td>\n",
       "      <td>0.365984</td>\n",
       "      <td>0.247191</td>\n",
       "      <td>0.085714</td>\n",
       "      <td>0.0</td>\n",
       "      <td>0.0</td>\n",
       "    </tr>\n",
       "    <tr>\n",
       "      <th>...</th>\n",
       "      <td>...</td>\n",
       "      <td>...</td>\n",
       "      <td>...</td>\n",
       "      <td>...</td>\n",
       "      <td>...</td>\n",
       "      <td>...</td>\n",
       "      <td>...</td>\n",
       "      <td>...</td>\n",
       "      <td>...</td>\n",
       "      <td>...</td>\n",
       "      <td>...</td>\n",
       "    </tr>\n",
       "    <tr>\n",
       "      <th>294</th>\n",
       "      <td>0.400000</td>\n",
       "      <td>0.0</td>\n",
       "      <td>0.004848</td>\n",
       "      <td>1.0</td>\n",
       "      <td>0.363636</td>\n",
       "      <td>1.0</td>\n",
       "      <td>0.157474</td>\n",
       "      <td>0.067416</td>\n",
       "      <td>0.857143</td>\n",
       "      <td>1.0</td>\n",
       "      <td>1.0</td>\n",
       "    </tr>\n",
       "    <tr>\n",
       "      <th>295</th>\n",
       "      <td>0.272727</td>\n",
       "      <td>0.0</td>\n",
       "      <td>0.229268</td>\n",
       "      <td>0.0</td>\n",
       "      <td>0.363636</td>\n",
       "      <td>0.0</td>\n",
       "      <td>0.296884</td>\n",
       "      <td>0.078652</td>\n",
       "      <td>0.742857</td>\n",
       "      <td>0.0</td>\n",
       "      <td>0.0</td>\n",
       "    </tr>\n",
       "    <tr>\n",
       "      <th>296</th>\n",
       "      <td>0.090909</td>\n",
       "      <td>0.0</td>\n",
       "      <td>0.259888</td>\n",
       "      <td>1.0</td>\n",
       "      <td>0.696970</td>\n",
       "      <td>0.0</td>\n",
       "      <td>0.869075</td>\n",
       "      <td>0.033708</td>\n",
       "      <td>0.714286</td>\n",
       "      <td>0.0</td>\n",
       "      <td>0.0</td>\n",
       "    </tr>\n",
       "    <tr>\n",
       "      <th>297</th>\n",
       "      <td>0.090909</td>\n",
       "      <td>0.0</td>\n",
       "      <td>0.304925</td>\n",
       "      <td>0.0</td>\n",
       "      <td>0.363636</td>\n",
       "      <td>0.0</td>\n",
       "      <td>0.139290</td>\n",
       "      <td>0.101124</td>\n",
       "      <td>0.771429</td>\n",
       "      <td>1.0</td>\n",
       "      <td>1.0</td>\n",
       "    </tr>\n",
       "    <tr>\n",
       "      <th>298</th>\n",
       "      <td>0.181818</td>\n",
       "      <td>0.0</td>\n",
       "      <td>0.022072</td>\n",
       "      <td>0.0</td>\n",
       "      <td>0.469697</td>\n",
       "      <td>0.0</td>\n",
       "      <td>0.448418</td>\n",
       "      <td>0.123596</td>\n",
       "      <td>0.657143</td>\n",
       "      <td>1.0</td>\n",
       "      <td>1.0</td>\n",
       "    </tr>\n",
       "  </tbody>\n",
       "</table>\n",
       "<p>299 rows × 11 columns</p>\n",
       "</div>"
      ],
      "text/plain": [
       "          age  anaemia  creatinine_phosphokinase  diabetes  ejection_fraction  \\\n",
       "0    0.636364      0.0                  0.071319       0.0           0.090909   \n",
       "1    0.272727      0.0                  1.000000       0.0           0.363636   \n",
       "2    0.454545      0.0                  0.015693       0.0           0.090909   \n",
       "3    0.181818      1.0                  0.011227       0.0           0.090909   \n",
       "4    0.454545      1.0                  0.017479       1.0           0.090909   \n",
       "..        ...      ...                       ...       ...                ...   \n",
       "294  0.400000      0.0                  0.004848       1.0           0.363636   \n",
       "295  0.272727      0.0                  0.229268       0.0           0.363636   \n",
       "296  0.090909      0.0                  0.259888       1.0           0.696970   \n",
       "297  0.090909      0.0                  0.304925       0.0           0.363636   \n",
       "298  0.181818      0.0                  0.022072       0.0           0.469697   \n",
       "\n",
       "     high_blood_pressure  platelets  serum_creatinine  serum_sodium  sex  \\\n",
       "0                    1.0   0.290823          0.157303      0.485714  1.0   \n",
       "1                    0.0   0.288833          0.067416      0.657143  1.0   \n",
       "2                    0.0   0.165960          0.089888      0.457143  1.0   \n",
       "3                    0.0   0.224148          0.157303      0.685714  1.0   \n",
       "4                    0.0   0.365984          0.247191      0.085714  0.0   \n",
       "..                   ...        ...               ...           ...  ...   \n",
       "294                  1.0   0.157474          0.067416      0.857143  1.0   \n",
       "295                  0.0   0.296884          0.078652      0.742857  0.0   \n",
       "296                  0.0   0.869075          0.033708      0.714286  0.0   \n",
       "297                  0.0   0.139290          0.101124      0.771429  1.0   \n",
       "298                  0.0   0.448418          0.123596      0.657143  1.0   \n",
       "\n",
       "     smoking  \n",
       "0        0.0  \n",
       "1        0.0  \n",
       "2        1.0  \n",
       "3        0.0  \n",
       "4        0.0  \n",
       "..       ...  \n",
       "294      1.0  \n",
       "295      0.0  \n",
       "296      0.0  \n",
       "297      1.0  \n",
       "298      1.0  \n",
       "\n",
       "[299 rows x 11 columns]"
      ]
     },
     "execution_count": 8,
     "metadata": {},
     "output_type": "execute_result"
    }
   ],
   "source": [
    "X, y = data.drop(columns=['DEATH_EVENT']), data['DEATH_EVENT']\n",
    "X_scaled = pandas.DataFrame(MinMaxScaler().fit_transform(X), columns=X.columns)\n",
    "X_scaled"
   ]
  },
  {
   "cell_type": "markdown",
   "id": "b73698d8-20ab-40b1-8b7d-5df430df1336",
   "metadata": {},
   "source": [
    "We have set death event as our target variable and rescaled features for X using MinMaxScaler"
   ]
  },
  {
   "cell_type": "markdown",
   "id": "0741d634-9457-408c-a824-4dc638ce0c6f",
   "metadata": {},
   "source": [
    "---\n",
    "\n",
    "**Pre-modeling Analysis: what are the 5 features that correlate most to DEATH_EVENT?**\n",
    "\n"
   ]
  },
  {
   "cell_type": "code",
   "execution_count": 30,
   "id": "8facefea-4c21-48b4-b492-4eac3560ff90",
   "metadata": {},
   "outputs": [
    {
     "data": {
      "text/html": [
       "<div>\n",
       "<style scoped>\n",
       "    .dataframe tbody tr th:only-of-type {\n",
       "        vertical-align: middle;\n",
       "    }\n",
       "\n",
       "    .dataframe tbody tr th {\n",
       "        vertical-align: top;\n",
       "    }\n",
       "\n",
       "    .dataframe thead th {\n",
       "        text-align: right;\n",
       "    }\n",
       "</style>\n",
       "<table border=\"1\" class=\"dataframe\">\n",
       "  <thead>\n",
       "    <tr style=\"text-align: right;\">\n",
       "      <th></th>\n",
       "      <th>DEATH_EVENT</th>\n",
       "    </tr>\n",
       "  </thead>\n",
       "  <tbody>\n",
       "    <tr>\n",
       "      <th>ejection_fraction</th>\n",
       "      <td>-0.269</td>\n",
       "    </tr>\n",
       "    <tr>\n",
       "      <th>serum_sodium</th>\n",
       "      <td>-0.195</td>\n",
       "    </tr>\n",
       "    <tr>\n",
       "      <th>platelets</th>\n",
       "      <td>-0.049</td>\n",
       "    </tr>\n",
       "    <tr>\n",
       "      <th>smoking</th>\n",
       "      <td>-0.013</td>\n",
       "    </tr>\n",
       "    <tr>\n",
       "      <th>sex</th>\n",
       "      <td>-0.004</td>\n",
       "    </tr>\n",
       "    <tr>\n",
       "      <th>diabetes</th>\n",
       "      <td>-0.002</td>\n",
       "    </tr>\n",
       "    <tr>\n",
       "      <th>creatinine_phosphokinase</th>\n",
       "      <td>0.063</td>\n",
       "    </tr>\n",
       "    <tr>\n",
       "      <th>anaemia</th>\n",
       "      <td>0.066</td>\n",
       "    </tr>\n",
       "    <tr>\n",
       "      <th>high_blood_pressure</th>\n",
       "      <td>0.079</td>\n",
       "    </tr>\n",
       "    <tr>\n",
       "      <th>age</th>\n",
       "      <td>0.254</td>\n",
       "    </tr>\n",
       "    <tr>\n",
       "      <th>serum_creatinine</th>\n",
       "      <td>0.294</td>\n",
       "    </tr>\n",
       "    <tr>\n",
       "      <th>DEATH_EVENT</th>\n",
       "      <td>1.000</td>\n",
       "    </tr>\n",
       "  </tbody>\n",
       "</table>\n",
       "</div>"
      ],
      "text/plain": [
       "                          DEATH_EVENT\n",
       "ejection_fraction              -0.269\n",
       "serum_sodium                   -0.195\n",
       "platelets                      -0.049\n",
       "smoking                        -0.013\n",
       "sex                            -0.004\n",
       "diabetes                       -0.002\n",
       "creatinine_phosphokinase        0.063\n",
       "anaemia                         0.066\n",
       "high_blood_pressure             0.079\n",
       "age                             0.254\n",
       "serum_creatinine                0.294\n",
       "DEATH_EVENT                     1.000"
      ]
     },
     "execution_count": 30,
     "metadata": {},
     "output_type": "execute_result"
    }
   ],
   "source": [
    "data.corr().round(3)[[\"DEATH_EVENT\"]].sort_values(by=\"DEATH_EVENT\")"
   ]
  },
  {
   "cell_type": "markdown",
   "id": "183f904f-d356-4f28-ad00-899206c09214",
   "metadata": {},
   "source": [
    "Looks like the five features data with the highest correlation to death event are:\n",
    "1. serum_creatinine (0.294)- this is a positive correlation, meaning the higher serum_creatinine is the more likely that DEATH_EVENT is 1.\n",
    "2. ejection_fraction (-0.269)- this is a negative correlation, meaning the lower ejection_fraction is the more likely that DEATH_EVENT is 1.\n",
    "3. age (0.254)\n",
    "4. serum_sodium(-0.195)\n",
    "5. high_blood_pressure(0.079)"
   ]
  },
  {
   "cell_type": "markdown",
   "id": "f4a2cca6-01f1-493d-88a9-be6e96309da3",
   "metadata": {},
   "source": [
    "---\n",
    "\n",
    "**Pre-modeling Analysis: for each of these 5 features, visualize the difference between the two groups of DEATH_EVENT**\n",
    "\n"
   ]
  },
  {
   "cell_type": "code",
   "execution_count": 47,
   "id": "b325ae8c-14de-46e7-8da6-e459e85d4be9",
   "metadata": {},
   "outputs": [
    {
     "data": {
      "text/plain": [
       "<seaborn.axisgrid.FacetGrid at 0x7f7aa8f4ac70>"
      ]
     },
     "execution_count": 47,
     "metadata": {},
     "output_type": "execute_result"
    },
    {
     "data": {
      "image/png": "[encoded data removed]",
      "text/plain": [
       "<Figure size 432x432 with 1 Axes>"
      ]
     },
     "metadata": {
      "needs_background": "light"
     },
     "output_type": "display_data"
    }
   ],
   "source": [
    "seaborn.catplot(data=data, x=\"DEATH_EVENT\", y=\"serum_creatinine\", kind=\"boxen\", height=6)"
   ]
  },
  {
   "cell_type": "code",
   "execution_count": 38,
   "id": "6968e99b-e01f-4381-aa04-fb7787ade95c",
   "metadata": {},
   "outputs": [
    {
     "data": {
      "text/plain": [
       "<seaborn.axisgrid.FacetGrid at 0x7f7ac7c3f0a0>"
      ]
     },
     "execution_count": 38,
     "metadata": {},
     "output_type": "execute_result"
    },
    {
     "data": {
      "image/png": "[encoded data removed]",
      "text/plain": [
       "<Figure size 432x432 with 1 Axes>"
      ]
     },
     "metadata": {
      "needs_background": "light"
     },
     "output_type": "display_data"
    }
   ],
   "source": [
    "seaborn.catplot(data=data, x=\"DEATH_EVENT\", y=\"ejection_fraction\", kind=\"boxen\", height=6)"
   ]
  },
  {
   "cell_type": "code",
   "execution_count": 41,
   "id": "29fdeadb-43c7-4c08-81a7-d7526211bc7f",
   "metadata": {},
   "outputs": [
    {
     "data": {
      "text/plain": [
       "<seaborn.axisgrid.FacetGrid at 0x7f7aa885f2b0>"
      ]
     },
     "execution_count": 41,
     "metadata": {},
     "output_type": "execute_result"
    },
    {
     "data": {
      "image/png": "[encoded data removed]",
      "text/plain": [
       "<Figure size 432x432 with 1 Axes>"
      ]
     },
     "metadata": {
      "needs_background": "light"
     },
     "output_type": "display_data"
    }
   ],
   "source": [
    "seaborn.catplot(data=data, x=\"DEATH_EVENT\", y=\"age\", kind=\"box\", height=6)"
   ]
  },
  {
   "cell_type": "code",
   "execution_count": 54,
   "id": "c4d7c77b-36c9-4d41-986e-6770ddb65e49",
   "metadata": {},
   "outputs": [
    {
     "data": {
      "text/plain": [
       "<seaborn.axisgrid.FacetGrid at 0x7f7aa9e54f10>"
      ]
     },
     "execution_count": 54,
     "metadata": {},
     "output_type": "execute_result"
    },
    {
     "data": {
      "image/png": "[encoded data removed]",
      "text/plain": [
       "<Figure size 432x432 with 1 Axes>"
      ]
     },
     "metadata": {
      "needs_background": "light"
     },
     "output_type": "display_data"
    }
   ],
   "source": [
    "seaborn.catplot(data=data, x=\"DEATH_EVENT\", y=\"serum_sodium\", kind=\"box\", height=6)"
   ]
  },
  {
   "cell_type": "code",
   "execution_count": 52,
   "id": "03da1b17-8370-4840-8bc3-28d14d2ad7e1",
   "metadata": {},
   "outputs": [
    {
     "data": {
      "text/plain": [
       "<seaborn.axisgrid.FacetGrid at 0x7f7aa896cd30>"
      ]
     },
     "execution_count": 52,
     "metadata": {},
     "output_type": "execute_result"
    },
    {
     "data": {
      "image/png": "[encoded data removed]",
      "text/plain": [
       "<Figure size 432x432 with 1 Axes>"
      ]
     },
     "metadata": {
      "needs_background": "light"
     },
     "output_type": "display_data"
    }
   ],
   "source": [
    "seaborn.catplot(data=data, x=\"DEATH_EVENT\", y=\"high_blood_pressure\", kind= \"violin\", height=6)"
   ]
  },
  {
   "cell_type": "markdown",
   "id": "7faae5fd-749d-4732-90ac-9dd2d86cf790",
   "metadata": {},
   "source": [
    "---\n",
    "\n",
    "**Performance Metric: f1 or accuracy?**"
   ]
  },
  {
   "cell_type": "code",
   "execution_count": 11,
   "id": "eda0cc22-fb78-4051-8bd5-53f1d58683b0",
   "metadata": {},
   "outputs": [],
   "source": [
    "from sklearn.model_selection import RepeatedKFold, cross_validate\n",
    "from sklearn.svm import LinearSVC"
   ]
  },
  {
   "cell_type": "code",
   "execution_count": 59,
   "id": "a3ef8110-1a99-409b-9ac8-40b06581c7aa",
   "metadata": {},
   "outputs": [
    {
     "data": {
      "text/plain": [
       "0    0.67893\n",
       "1    0.32107\n",
       "Name: DEATH_EVENT, dtype: float64"
      ]
     },
     "execution_count": 59,
     "metadata": {},
     "output_type": "execute_result"
    }
   ],
   "source": [
    "y.value_counts(1)"
   ]
  },
  {
   "cell_type": "markdown",
   "id": "4cebb81b-7744-4ff8-afc5-ab1420d9a5e1",
   "metadata": {},
   "source": [
    "data is imbalanced, with 0 having 68% and 1 having 32%, so f1 would be a better measure than accuracy"
   ]
  },
  {
   "cell_type": "markdown",
   "id": "906c365e-4948-4dc9-ba6e-4939503f50e5",
   "metadata": {},
   "source": [
    "---\n",
    "\n",
    "**Which two models perform the best?**\n",
    "\n",
    "Comparing the performance of these models:\n",
    "* DummyClassifier\n",
    "* LinearSVC, set \"dual\" to False.\n",
    "* LogisticRegression\n",
    "* DecisionTreeClassifier"
   ]
  },
  {
   "cell_type": "code",
   "execution_count": 9,
   "id": "c8bcdf98-7e01-4482-9605-049bc2bced2a",
   "metadata": {},
   "outputs": [],
   "source": [
    "from sklearn.dummy import DummyClassifier\n",
    "from sklearn.svm import LinearSVC\n",
    "from sklearn.linear_model import LogisticRegression\n",
    "from sklearn.tree import DecisionTreeClassifier\n",
    "\n",
    "baseline = DummyClassifier(strategy='stratified')\n",
    "svm = LinearSVC(dual=False)\n",
    "logit = LogisticRegression(max_iter=10000)\n",
    "dt = DecisionTreeClassifier(min_samples_leaf=int(0.1*len(data)))"
   ]
  },
  {
   "cell_type": "code",
   "execution_count": 13,
   "id": "ec2d5ec5-a5aa-412f-8a17-d633d89717f5",
   "metadata": {},
   "outputs": [],
   "source": [
    "def eval(model, X, y, cv):\n",
    "    r = cross_validate(model, X, y, cv=cv, scoring=['f1'])\n",
    "    return(r['test_f1'].mean())\n",
    "\n",
    "cv = RepeatedKFold(n_splits=5, n_repeats=10, random_state=2022)"
   ]
  },
  {
   "cell_type": "markdown",
   "id": "b079399f-c204-4e61-8788-076ac1474bb5",
   "metadata": {},
   "source": [
    "## Dummy Classifier"
   ]
  },
  {
   "cell_type": "code",
   "execution_count": 15,
   "id": "8aae64f6-0a19-42ec-ac4c-a3842eb5dc37",
   "metadata": {},
   "outputs": [
    {
     "data": {
      "text/plain": [
       "0.3312878771400712"
      ]
     },
     "execution_count": 15,
     "metadata": {},
     "output_type": "execute_result"
    }
   ],
   "source": [
    "eval(baseline, X_scaled, y, cv)"
   ]
  },
  {
   "cell_type": "markdown",
   "id": "f1b856d0-6476-485d-a5e4-aba7c93b18fa",
   "metadata": {},
   "source": [
    "## Linear SVC"
   ]
  },
  {
   "cell_type": "code",
   "execution_count": 17,
   "id": "2edf8f54-39e1-49ff-b558-a46a5497da52",
   "metadata": {},
   "outputs": [
    {
     "data": {
      "text/plain": [
       "0.4790981823924204"
      ]
     },
     "execution_count": 17,
     "metadata": {},
     "output_type": "execute_result"
    }
   ],
   "source": [
    "eval(svm, X_scaled, y, cv)"
   ]
  },
  {
   "cell_type": "markdown",
   "id": "79706475-912c-414a-a22a-693db5bd249e",
   "metadata": {},
   "source": [
    "## Logistic Regression"
   ]
  },
  {
   "cell_type": "code",
   "execution_count": 19,
   "id": "dc7c6194-894a-4886-aebf-c203807c755f",
   "metadata": {},
   "outputs": [
    {
     "data": {
      "text/plain": [
       "0.3274463055844547"
      ]
     },
     "execution_count": 19,
     "metadata": {},
     "output_type": "execute_result"
    }
   ],
   "source": [
    "eval(logit, X_scaled, y, cv)"
   ]
  },
  {
   "cell_type": "markdown",
   "id": "ac48caa4-7c39-41b1-b0f7-109a3005f0b3",
   "metadata": {},
   "source": [
    "## DecisionTreeClassifier"
   ]
  },
  {
   "cell_type": "code",
   "execution_count": 20,
   "id": "a16485bb-7e2a-4392-a04a-fc9f00974da7",
   "metadata": {},
   "outputs": [
    {
     "data": {
      "text/plain": [
       "0.5392740473985309"
      ]
     },
     "execution_count": 20,
     "metadata": {},
     "output_type": "execute_result"
    }
   ],
   "source": [
    "eval(dt, X_scaled, y, cv)"
   ]
  },
  {
   "cell_type": "markdown",
   "id": "8f6ef19e-bbf9-430b-b2a7-d4433a6cab40",
   "metadata": {},
   "source": [
    "According to f1 score, the two models that perform the best are Linear SVC and DecisionTreeClassifer"
   ]
  },
  {
   "cell_type": "markdown",
   "id": "2846bf96-fb83-470b-a8ce-631a84bf072f",
   "metadata": {},
   "source": [
    "---\n",
    "\n",
    "**Which are the top most important features? How do they correlate to DEATH_EVENT?**\n",
    "\n"
   ]
  },
  {
   "cell_type": "code",
   "execution_count": 21,
   "id": "eea46de8-f771-4924-9dbd-174e640c73c0",
   "metadata": {},
   "outputs": [
    {
     "data": {
      "text/plain": [
       "LinearSVC(dual=False)"
      ]
     },
     "execution_count": 21,
     "metadata": {},
     "output_type": "execute_result"
    }
   ],
   "source": [
    "svm.fit(X_scaled, y)"
   ]
  },
  {
   "cell_type": "code",
   "execution_count": 22,
   "id": "229b4a93-90b0-449e-ad40-ea9bb96dad5f",
   "metadata": {},
   "outputs": [],
   "source": [
    "w, b = svm.coef_, svm.intercept_"
   ]
  },
  {
   "cell_type": "code",
   "execution_count": 23,
   "id": "9425013e-043b-4286-8bfc-6265e46b88f6",
   "metadata": {},
   "outputs": [
    {
     "data": {
      "text/plain": [
       "[(-1.4790012328885231, 'ejection_fraction'),\n",
       " (-0.7182822365579782, 'serum_sodium'),\n",
       " (-0.12943636199798172, 'platelets'),\n",
       " (-0.11836414468424765, 'sex'),\n",
       " (0.03665330595877689, 'diabetes'),\n",
       " (0.03991492690249603, 'smoking'),\n",
       " (0.1357051069152821, 'anaemia'),\n",
       " (0.15427985094919253, 'high_blood_pressure'),\n",
       " (0.7096058459454551, 'creatinine_phosphokinase'),\n",
       " (1.0442680000141833, 'age'),\n",
       " (1.9287483288347729, 'serum_creatinine')]"
      ]
     },
     "execution_count": 23,
     "metadata": {},
     "output_type": "execute_result"
    }
   ],
   "source": [
    "sorted(list(zip(w[0], X_scaled.columns)))"
   ]
  },
  {
   "cell_type": "markdown",
   "id": "9adef766-48fc-41b1-8914-df7f0cd28a8f",
   "metadata": {},
   "source": [
    "According to SVM, serum_creatinine has the highest impact on DEATH_EVENT; and  ejection_fraction has the 2nd highest impact."
   ]
  },
  {
   "cell_type": "code",
   "execution_count": 29,
   "id": "580d8bfe-3794-49cb-bdd3-379ac5d58d68",
   "metadata": {},
   "outputs": [],
   "source": [
    "import seaborn\n",
    "import matplotlib.pyplot as plt\n",
    "import pandas\n",
    "import numpy as np\n",
    "\n",
    "def plot_feature_importance(\n",
    "    importances, \n",
    "    feature_names,\n",
    "    output_file=None, \n",
    "    rounding=2, \n",
    "    label_adjustment=0.1, \n",
    "    dpi=200,\n",
    "):\n",
    "    importance = np.abs(importances) / sum(np.abs(importances))\n",
    "    df = pandas.DataFrame({\n",
    "        'Feature': feature_names,\n",
    "        'Importance': importance, \n",
    "    })\n",
    "    data = df.round(rounding).sort_values(by='Importance', ascending=False)\n",
    "    seaborn.set_style('whitegrid')\n",
    "    fig = seaborn.barplot(data=data, x='Importance', y='Feature')\n",
    "    fig.set(ylabel='', xlabel='Importance (normalized)')\n",
    "    fig.bar_label(fig.containers[0])\n",
    "    plt.gcf().subplots_adjust(left=label_adjustment)\n",
    "    if output_file is not None:\n",
    "        plt.savefig(output_file, dpi=dpi)\n",
    "    plt.show()"
   ]
  },
  {
   "cell_type": "code",
   "execution_count": 30,
   "id": "2fe37f38-b491-4777-83fd-4c70b47a52dd",
   "metadata": {},
   "outputs": [
    {
     "data": {
      "text/plain": [
       "DecisionTreeClassifier(min_samples_leaf=29)"
      ]
     },
     "execution_count": 30,
     "metadata": {},
     "output_type": "execute_result"
    }
   ],
   "source": [
    "dt.fit(X_scaled, y)"
   ]
  },
  {
   "cell_type": "markdown",
   "id": "808d91e3-ec08-4e31-a54c-525982e18322",
   "metadata": {},
   "source": [
    "### Decision Tree"
   ]
  },
  {
   "cell_type": "code",
   "execution_count": 31,
   "id": "a6e98a30-0bab-4941-ac18-e4027e6923db",
   "metadata": {},
   "outputs": [
    {
     "data": {
      "image/png": "[encoded data removed]",
      "text/plain": [
       "<Figure size 432x288 with 1 Axes>"
      ]
     },
     "metadata": {},
     "output_type": "display_data"
    }
   ],
   "source": [
    "plot_feature_importance(\n",
    "    dt.feature_importances_,\n",
    "    feature_names = X_scaled.columns,\n",
    "    output_file = 'feature_importance',\n",
    "    label_adjustment=0.3\n",
    ")"
   ]
  },
  {
   "cell_type": "markdown",
   "id": "78015dca-4f1a-4c0e-91ee-4dd64ad3f651",
   "metadata": {},
   "source": [
    "### SVM"
   ]
  },
  {
   "cell_type": "code",
   "execution_count": 32,
   "id": "1056f30f-51d4-40f8-8e41-9b0f96a3810e",
   "metadata": {},
   "outputs": [
    {
     "data": {
      "image/png": "[encoded data removed]",
      "text/plain": [
       "<Figure size 432x288 with 1 Axes>"
      ]
     },
     "metadata": {},
     "output_type": "display_data"
    }
   ],
   "source": [
    "plot_feature_importance(\n",
    "    svm.coef_[0], \n",
    "    feature_names = X.columns,\n",
    ")"
   ]
  },
  {
   "cell_type": "markdown",
   "id": "427d3751-983a-4f30-846c-efb0062be1a1",
   "metadata": {},
   "source": [
    "According to decision tree model, serum_creatinine has the most impact on the target, followed by ejection_fraction"
   ]
  },
  {
   "cell_type": "markdown",
   "id": "61f76989-b99a-4379-9a76-75f68bf301f3",
   "metadata": {},
   "source": [
    "---\n",
    "\n",
    "**Analysis of all Features vs. Top 3**\n",
    "\n"
   ]
  },
  {
   "cell_type": "markdown",
   "id": "1cb1aba8-9bad-49f7-998f-3648aa8f5147",
   "metadata": {},
   "source": [
    "The top three most important features are \n",
    "1. serum_creatinine\n",
    "2. ejection_fraction\n",
    "3. age"
   ]
  },
  {
   "cell_type": "markdown",
   "id": "89278434-d8b1-4807-b819-c1f672adad28",
   "metadata": {},
   "source": [
    "Decision Tree performs slightly better than Linear SVC, so let's use Decision Tree for classification. "
   ]
  },
  {
   "cell_type": "markdown",
   "id": "508465eb-f010-40bf-bca2-a35f2e0851c1",
   "metadata": {},
   "source": [
    "When using all features, the performance of decision tree is:"
   ]
  },
  {
   "cell_type": "code",
   "execution_count": 107,
   "id": "9338994b-f8c2-4f3b-a6e6-530df0f966d8",
   "metadata": {},
   "outputs": [
    {
     "name": "stdout",
     "output_type": "stream",
     "text": [
      "0.4985668770858285\n"
     ]
    }
   ],
   "source": [
    "r1 = cross_validate(\n",
    "    dtree, \n",
    "    X_scaled, \n",
    "    y, \n",
    "    cv = cv,\n",
    "    scoring = ['f1'])\n",
    "print(r1['test_f1'].mean())"
   ]
  },
  {
   "cell_type": "markdown",
   "id": "b03f8014-1217-47f0-a6c0-917380fa62c4",
   "metadata": {},
   "source": [
    "Let's redefine X to just have the three most important features"
   ]
  },
  {
   "cell_type": "code",
   "execution_count": 126,
   "id": "5e41188c-0f7d-40ac-b1d4-1dbdedf016c1",
   "metadata": {},
   "outputs": [],
   "source": [
    "X= X_scaled[['serum_creatinine', 'ejection_fraction', 'age']]"
   ]
  },
  {
   "cell_type": "code",
   "execution_count": 125,
   "id": "42cfe3bb-c26f-45df-a7ce-746e1ccd998a",
   "metadata": {},
   "outputs": [
    {
     "data": {
      "text/html": [
       "<div>\n",
       "<style scoped>\n",
       "    .dataframe tbody tr th:only-of-type {\n",
       "        vertical-align: middle;\n",
       "    }\n",
       "\n",
       "    .dataframe tbody tr th {\n",
       "        vertical-align: top;\n",
       "    }\n",
       "\n",
       "    .dataframe thead th {\n",
       "        text-align: right;\n",
       "    }\n",
       "</style>\n",
       "<table border=\"1\" class=\"dataframe\">\n",
       "  <thead>\n",
       "    <tr style=\"text-align: right;\">\n",
       "      <th></th>\n",
       "      <th>serum_creatinine</th>\n",
       "      <th>ejection_fraction</th>\n",
       "      <th>age</th>\n",
       "    </tr>\n",
       "  </thead>\n",
       "  <tbody>\n",
       "    <tr>\n",
       "      <th>0</th>\n",
       "      <td>0.157303</td>\n",
       "      <td>0.090909</td>\n",
       "      <td>0.636364</td>\n",
       "    </tr>\n",
       "    <tr>\n",
       "      <th>1</th>\n",
       "      <td>0.067416</td>\n",
       "      <td>0.363636</td>\n",
       "      <td>0.272727</td>\n",
       "    </tr>\n",
       "    <tr>\n",
       "      <th>2</th>\n",
       "      <td>0.089888</td>\n",
       "      <td>0.090909</td>\n",
       "      <td>0.454545</td>\n",
       "    </tr>\n",
       "    <tr>\n",
       "      <th>3</th>\n",
       "      <td>0.157303</td>\n",
       "      <td>0.090909</td>\n",
       "      <td>0.181818</td>\n",
       "    </tr>\n",
       "    <tr>\n",
       "      <th>4</th>\n",
       "      <td>0.247191</td>\n",
       "      <td>0.090909</td>\n",
       "      <td>0.454545</td>\n",
       "    </tr>\n",
       "    <tr>\n",
       "      <th>...</th>\n",
       "      <td>...</td>\n",
       "      <td>...</td>\n",
       "      <td>...</td>\n",
       "    </tr>\n",
       "    <tr>\n",
       "      <th>294</th>\n",
       "      <td>0.067416</td>\n",
       "      <td>0.363636</td>\n",
       "      <td>0.400000</td>\n",
       "    </tr>\n",
       "    <tr>\n",
       "      <th>295</th>\n",
       "      <td>0.078652</td>\n",
       "      <td>0.363636</td>\n",
       "      <td>0.272727</td>\n",
       "    </tr>\n",
       "    <tr>\n",
       "      <th>296</th>\n",
       "      <td>0.033708</td>\n",
       "      <td>0.696970</td>\n",
       "      <td>0.090909</td>\n",
       "    </tr>\n",
       "    <tr>\n",
       "      <th>297</th>\n",
       "      <td>0.101124</td>\n",
       "      <td>0.363636</td>\n",
       "      <td>0.090909</td>\n",
       "    </tr>\n",
       "    <tr>\n",
       "      <th>298</th>\n",
       "      <td>0.123596</td>\n",
       "      <td>0.469697</td>\n",
       "      <td>0.181818</td>\n",
       "    </tr>\n",
       "  </tbody>\n",
       "</table>\n",
       "<p>299 rows × 3 columns</p>\n",
       "</div>"
      ],
      "text/plain": [
       "     serum_creatinine  ejection_fraction       age\n",
       "0            0.157303           0.090909  0.636364\n",
       "1            0.067416           0.363636  0.272727\n",
       "2            0.089888           0.090909  0.454545\n",
       "3            0.157303           0.090909  0.181818\n",
       "4            0.247191           0.090909  0.454545\n",
       "..                ...                ...       ...\n",
       "294          0.067416           0.363636  0.400000\n",
       "295          0.078652           0.363636  0.272727\n",
       "296          0.033708           0.696970  0.090909\n",
       "297          0.101124           0.363636  0.090909\n",
       "298          0.123596           0.469697  0.181818\n",
       "\n",
       "[299 rows x 3 columns]"
      ]
     },
     "execution_count": 125,
     "metadata": {},
     "output_type": "execute_result"
    }
   ],
   "source": [
    "X"
   ]
  },
  {
   "cell_type": "code",
   "execution_count": 124,
   "id": "8167314f-7a01-452d-ab6f-cf47943fabd8",
   "metadata": {},
   "outputs": [
    {
     "name": "stdout",
     "output_type": "stream",
     "text": [
      "0.5526097438396239\n"
     ]
    }
   ],
   "source": [
    "r1 = cross_validate(\n",
    "    dtree, \n",
    "    X, \n",
    "    y, \n",
    "    cv = cv,\n",
    "    scoring = ['f1'])\n",
    "print(r1['test_f1'].mean())"
   ]
  },
  {
   "cell_type": "markdown",
   "id": "ca6b44dc-e2bd-48fb-99c4-ea534355d386",
   "metadata": {},
   "source": [
    "The model with just the three most important features seems to perform a little better than the model with all the features. "
   ]
  },
  {
   "cell_type": "markdown",
   "id": "39b51837-2de5-4cdb-9e03-f2ffae1074ab",
   "metadata": {},
   "source": [
    "---\n",
    "\n",
    "**Conclusion**\n",
    "\n",
    "This dataset comes from a research article published in 2020: https://bmcmedinformdecismak.biomedcentral.com/articles/10.1186/s12911-020-1023-5\n"
   ]
  },
  {
   "cell_type": "markdown",
   "id": "9a8de129-5ea0-447a-83d3-81f0a2cdcd01",
   "metadata": {},
   "source": [
    "The authors' said that classification can be performed solely using the features ejection_fraction and serum_creatinine. They also said that predictions performed on just those two features alone is more accurate than predicitions performed on the complete dataset\n",
    "\n",
    "\n",
    "I agree that the most important features are serum_creatinine and ejection_fraction. I also agree that based off of these two features, a more accurate prediction can be performed on predicting failure, as the decision tree model with just the three most important features performed better than the model with all features. "
   ]
  }
 ],
 "metadata": {
  "kernelspec": {
   "display_name": "Python 3 (ipykernel)",
   "language": "python",
   "name": "python3"
  },
  "language_info": {
   "codemirror_mode": {
    "name": "ipython",
    "version": 3
   },
   "file_extension": ".py",
   "mimetype": "text/x-python",
   "name": "python",
   "nbconvert_exporter": "python",
   "pygments_lexer": "ipython3",
   "version": "3.9.12"
  }
 },
 "nbformat": 4,
 "nbformat_minor": 5
}
