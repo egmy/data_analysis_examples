{
 "cells": [
  {
   "cell_type": "markdown",
   "id": "f5074219-7448-4bc3-b680-63c7e7315f39",
   "metadata": {},
   "source": [
    "# Assignment 2 - COMP 4151 / 6151\n",
    "\n",
    "**Deadline**: 12:30PM September 20, 2022"
   ]
  },
  {
   "cell_type": "markdown",
   "id": "37b32ec3-3ec5-4c27-ae64-0d40609a26d4",
   "metadata": {},
   "source": [
    "**NAME**: Eric Myers"
   ]
  },
  {
   "cell_type": "markdown",
   "id": "c4b547a0-4f0d-4156-9989-14bb151bc7cb",
   "metadata": {},
   "source": [
    "**Instructions**:\n",
    "\n",
    "* Do your work with Jupyter notebooks.  Create new cell(s) after each problem, place your code/explanation/solution in these cell(s).\n",
    "\n",
    "* When you're done, export your Jupyter notebook to an HTML file.\n",
    "\n",
    "* Upload the HMTL file to Canvas."
   ]
  },
  {
   "cell_type": "markdown",
   "id": "8550a881-20bf-43e1-8138-63035a29b814",
   "metadata": {},
   "source": [
    "In this assignment, you will analyze the \"diabetes\" dataset, which can be downloaded from Canvas. This dataset has these columns:\n",
    "\n",
    "1. Number of times pregnant\n",
    "2. Plasma glucose concentration a 2 hours in an oral glucose tolerance test\n",
    "3. Diastolic blood pressure (mm Hg)\n",
    "4. Triceps skin fold thickness (mm)\n",
    "5. 2-Hour serum insulin (mu U/ml)\n",
    "6. Body mass index (weight in kg/(height in m)^2)\n",
    "7. Diabetes pedigree function\n",
    "8. Age (years)\n",
    "9. Outcome, which is 1 if the patient is tested positive for diabetes."
   ]
  },
  {
   "cell_type": "markdown",
   "id": "2b01db34-395b-4fc9-aa65-d3afde945939",
   "metadata": {},
   "source": [
    "---\n",
    "\n",
    "## Pregnancies\n",
    "\n",
    "Analyzing the Pregnancies variable.\n"
   ]
  },
  {
   "cell_type": "code",
   "execution_count": 1,
   "id": "c06727c6-fb14-4cf3-83e6-dce0b9e2af87",
   "metadata": {},
   "outputs": [],
   "source": [
    "import pandas, seaborn\n",
    "\n",
    "data = pandas.read_csv('../Datasets/diabetes.csv')"
   ]
  },
  {
   "cell_type": "code",
   "execution_count": 2,
   "id": "aaa79014-674a-44c1-85bb-34bba15a72ed",
   "metadata": {},
   "outputs": [
    {
     "data": {
      "text/html": [
       "<div>\n",
       "<style scoped>\n",
       "    .dataframe tbody tr th:only-of-type {\n",
       "        vertical-align: middle;\n",
       "    }\n",
       "\n",
       "    .dataframe tbody tr th {\n",
       "        vertical-align: top;\n",
       "    }\n",
       "\n",
       "    .dataframe thead th {\n",
       "        text-align: right;\n",
       "    }\n",
       "</style>\n",
       "<table border=\"1\" class=\"dataframe\">\n",
       "  <thead>\n",
       "    <tr style=\"text-align: right;\">\n",
       "      <th></th>\n",
       "      <th>Pregnancies</th>\n",
       "      <th>Glucose</th>\n",
       "      <th>BloodPressure</th>\n",
       "      <th>SkinThickness</th>\n",
       "      <th>Insulin</th>\n",
       "      <th>BMI</th>\n",
       "      <th>DiabetesPedigreeFunction</th>\n",
       "      <th>Age</th>\n",
       "      <th>Outcome</th>\n",
       "    </tr>\n",
       "  </thead>\n",
       "  <tbody>\n",
       "    <tr>\n",
       "      <th>count</th>\n",
       "      <td>768.000000</td>\n",
       "      <td>768.000000</td>\n",
       "      <td>768.000000</td>\n",
       "      <td>768.000000</td>\n",
       "      <td>768.000000</td>\n",
       "      <td>768.000000</td>\n",
       "      <td>768.000000</td>\n",
       "      <td>768.000000</td>\n",
       "      <td>768.000000</td>\n",
       "    </tr>\n",
       "    <tr>\n",
       "      <th>mean</th>\n",
       "      <td>3.845052</td>\n",
       "      <td>120.894531</td>\n",
       "      <td>69.105469</td>\n",
       "      <td>20.536458</td>\n",
       "      <td>79.799479</td>\n",
       "      <td>31.992578</td>\n",
       "      <td>0.471876</td>\n",
       "      <td>33.240885</td>\n",
       "      <td>0.348958</td>\n",
       "    </tr>\n",
       "    <tr>\n",
       "      <th>std</th>\n",
       "      <td>3.369578</td>\n",
       "      <td>31.972618</td>\n",
       "      <td>19.355807</td>\n",
       "      <td>15.952218</td>\n",
       "      <td>115.244002</td>\n",
       "      <td>7.884160</td>\n",
       "      <td>0.331329</td>\n",
       "      <td>11.760232</td>\n",
       "      <td>0.476951</td>\n",
       "    </tr>\n",
       "    <tr>\n",
       "      <th>min</th>\n",
       "      <td>0.000000</td>\n",
       "      <td>0.000000</td>\n",
       "      <td>0.000000</td>\n",
       "      <td>0.000000</td>\n",
       "      <td>0.000000</td>\n",
       "      <td>0.000000</td>\n",
       "      <td>0.078000</td>\n",
       "      <td>21.000000</td>\n",
       "      <td>0.000000</td>\n",
       "    </tr>\n",
       "    <tr>\n",
       "      <th>25%</th>\n",
       "      <td>1.000000</td>\n",
       "      <td>99.000000</td>\n",
       "      <td>62.000000</td>\n",
       "      <td>0.000000</td>\n",
       "      <td>0.000000</td>\n",
       "      <td>27.300000</td>\n",
       "      <td>0.243750</td>\n",
       "      <td>24.000000</td>\n",
       "      <td>0.000000</td>\n",
       "    </tr>\n",
       "    <tr>\n",
       "      <th>50%</th>\n",
       "      <td>3.000000</td>\n",
       "      <td>117.000000</td>\n",
       "      <td>72.000000</td>\n",
       "      <td>23.000000</td>\n",
       "      <td>30.500000</td>\n",
       "      <td>32.000000</td>\n",
       "      <td>0.372500</td>\n",
       "      <td>29.000000</td>\n",
       "      <td>0.000000</td>\n",
       "    </tr>\n",
       "    <tr>\n",
       "      <th>75%</th>\n",
       "      <td>6.000000</td>\n",
       "      <td>140.250000</td>\n",
       "      <td>80.000000</td>\n",
       "      <td>32.000000</td>\n",
       "      <td>127.250000</td>\n",
       "      <td>36.600000</td>\n",
       "      <td>0.626250</td>\n",
       "      <td>41.000000</td>\n",
       "      <td>1.000000</td>\n",
       "    </tr>\n",
       "    <tr>\n",
       "      <th>max</th>\n",
       "      <td>17.000000</td>\n",
       "      <td>199.000000</td>\n",
       "      <td>122.000000</td>\n",
       "      <td>99.000000</td>\n",
       "      <td>846.000000</td>\n",
       "      <td>67.100000</td>\n",
       "      <td>2.420000</td>\n",
       "      <td>81.000000</td>\n",
       "      <td>1.000000</td>\n",
       "    </tr>\n",
       "  </tbody>\n",
       "</table>\n",
       "</div>"
      ],
      "text/plain": [
       "       Pregnancies     Glucose  BloodPressure  SkinThickness     Insulin  \\\n",
       "count   768.000000  768.000000     768.000000     768.000000  768.000000   \n",
       "mean      3.845052  120.894531      69.105469      20.536458   79.799479   \n",
       "std       3.369578   31.972618      19.355807      15.952218  115.244002   \n",
       "min       0.000000    0.000000       0.000000       0.000000    0.000000   \n",
       "25%       1.000000   99.000000      62.000000       0.000000    0.000000   \n",
       "50%       3.000000  117.000000      72.000000      23.000000   30.500000   \n",
       "75%       6.000000  140.250000      80.000000      32.000000  127.250000   \n",
       "max      17.000000  199.000000     122.000000      99.000000  846.000000   \n",
       "\n",
       "              BMI  DiabetesPedigreeFunction         Age     Outcome  \n",
       "count  768.000000                768.000000  768.000000  768.000000  \n",
       "mean    31.992578                  0.471876   33.240885    0.348958  \n",
       "std      7.884160                  0.331329   11.760232    0.476951  \n",
       "min      0.000000                  0.078000   21.000000    0.000000  \n",
       "25%     27.300000                  0.243750   24.000000    0.000000  \n",
       "50%     32.000000                  0.372500   29.000000    0.000000  \n",
       "75%     36.600000                  0.626250   41.000000    1.000000  \n",
       "max     67.100000                  2.420000   81.000000    1.000000  "
      ]
     },
     "execution_count": 2,
     "metadata": {},
     "output_type": "execute_result"
    }
   ],
   "source": [
    "data.describe()"
   ]
  },
  {
   "cell_type": "code",
   "execution_count": 3,
   "id": "6088fbfd-db76-427b-b273-813ee76cdf90",
   "metadata": {},
   "outputs": [
    {
     "data": {
      "text/plain": [
       "count    768.000000\n",
       "mean       3.845052\n",
       "std        3.369578\n",
       "min        0.000000\n",
       "25%        1.000000\n",
       "50%        3.000000\n",
       "75%        6.000000\n",
       "max       17.000000\n",
       "Name: Pregnancies, dtype: float64"
      ]
     },
     "execution_count": 3,
     "metadata": {},
     "output_type": "execute_result"
    }
   ],
   "source": [
    "data['Pregnancies'].describe()"
   ]
  },
  {
   "cell_type": "code",
   "execution_count": 5,
   "id": "4892f97e-c29d-404c-b5b5-04a60ce99dd6",
   "metadata": {},
   "outputs": [
    {
     "data": {
      "text/plain": [
       "<seaborn.axisgrid.FacetGrid at 0x7facad9bbc40>"
      ]
     },
     "execution_count": 5,
     "metadata": {},
     "output_type": "execute_result"
    },
    {
     "data": {
      "image/png": "[encoded data removed]",
      "text/plain": [
       "<Figure size 360x360 with 1 Axes>"
      ]
     },
     "metadata": {
      "needs_background": "light"
     },
     "output_type": "display_data"
    }
   ],
   "source": [
    "seaborn.relplot(data=data, x='Age', y=\"Pregnancies\", kind=\"line\")"
   ]
  },
  {
   "cell_type": "code",
   "execution_count": 6,
   "id": "8b70f10f-524c-47ec-9f3d-ecb79d329290",
   "metadata": {},
   "outputs": [
    {
     "data": {
      "text/plain": [
       "Age\n",
       "21    1.079365\n",
       "22    1.555556\n",
       "23    1.578947\n",
       "24    1.891304\n",
       "25    1.770833\n",
       "26    1.969697\n",
       "27    2.562500\n",
       "28    3.028571\n",
       "29    3.310345\n",
       "30    3.619048\n",
       "31    3.875000\n",
       "32    4.437500\n",
       "33    4.058824\n",
       "34    5.857143\n",
       "35    5.000000\n",
       "36    5.187500\n",
       "37    5.263158\n",
       "38    6.875000\n",
       "39    7.416667\n",
       "40    6.230769\n",
       "41    6.500000\n",
       "42    6.888889\n",
       "43    7.769231\n",
       "44    7.250000\n",
       "45    7.333333\n",
       "46    6.384615\n",
       "47    8.333333\n",
       "48    8.800000\n",
       "49    7.600000\n",
       "50    6.750000\n",
       "51    8.625000\n",
       "52    4.625000\n",
       "53    5.400000\n",
       "54    7.000000\n",
       "55    5.500000\n",
       "56    8.000000\n",
       "57    8.800000\n",
       "58    7.142857\n",
       "59    2.333333\n",
       "60    6.000000\n",
       "61    5.500000\n",
       "62    3.750000\n",
       "63    5.500000\n",
       "64    8.000000\n",
       "65    3.333333\n",
       "66    5.000000\n",
       "67    4.000000\n",
       "68    8.000000\n",
       "69    5.000000\n",
       "70    4.000000\n",
       "72    2.000000\n",
       "81    9.000000\n",
       "Name: Pregnancies, dtype: float64"
      ]
     },
     "execution_count": 6,
     "metadata": {},
     "output_type": "execute_result"
    }
   ],
   "source": [
    "data.groupby(['Age']).mean()['Pregnancies']"
   ]
  },
  {
   "cell_type": "code",
   "execution_count": 7,
   "id": "d6cfbfd2-cb61-4e03-8678-c67d92d9e934",
   "metadata": {},
   "outputs": [
    {
     "data": {
      "text/plain": [
       "Age\n",
       "21    63\n",
       "22    72\n",
       "23    38\n",
       "24    46\n",
       "25    48\n",
       "26    33\n",
       "27    32\n",
       "28    35\n",
       "29    29\n",
       "30    21\n",
       "31    24\n",
       "32    16\n",
       "33    17\n",
       "34    14\n",
       "35    10\n",
       "36    16\n",
       "37    19\n",
       "38    16\n",
       "39    12\n",
       "40    13\n",
       "41    22\n",
       "42    18\n",
       "43    13\n",
       "44     8\n",
       "45    15\n",
       "46    13\n",
       "47     6\n",
       "48     5\n",
       "49     5\n",
       "50     8\n",
       "51     8\n",
       "52     8\n",
       "53     5\n",
       "54     6\n",
       "55     4\n",
       "56     3\n",
       "57     5\n",
       "58     7\n",
       "59     3\n",
       "60     5\n",
       "61     2\n",
       "62     4\n",
       "63     4\n",
       "64     1\n",
       "65     3\n",
       "66     4\n",
       "67     3\n",
       "68     1\n",
       "69     2\n",
       "70     1\n",
       "72     1\n",
       "81     1\n",
       "Name: Pregnancies, dtype: int64"
      ]
     },
     "execution_count": 7,
     "metadata": {},
     "output_type": "execute_result"
    }
   ],
   "source": [
    "data.groupby(['Age']).count()['Pregnancies']"
   ]
  },
  {
   "cell_type": "markdown",
   "id": "12f4fc9e-2137-4cf3-b93a-a2c553ac3dd5",
   "metadata": {},
   "source": [
    "Older patients have had more pregnancies, as expected "
   ]
  },
  {
   "cell_type": "markdown",
   "id": "c743bb0b-83b1-4eb6-a661-97d4415f3e69",
   "metadata": {},
   "source": [
    "Most people Had between 1-4 pregnancies, and are between the ages of 20-30. If older than 30, those are the people who have had more than 4 pregnancies"
   ]
  },
  {
   "cell_type": "code",
   "execution_count": 14,
   "id": "e4f3833d-b8b7-45e4-a7b5-2f80f6faa1ce",
   "metadata": {},
   "outputs": [
    {
     "data": {
      "text/plain": [
       "<seaborn.axisgrid.FacetGrid at 0x7fdbaf690340>"
      ]
     },
     "execution_count": 14,
     "metadata": {},
     "output_type": "execute_result"
    },
    {
     "data": {
      "image/png": "[encoded data removed]",
      "text/plain": [
       "<Figure size 360x360 with 1 Axes>"
      ]
     },
     "metadata": {
      "needs_background": "light"
     },
     "output_type": "display_data"
    }
   ],
   "source": [
    "seaborn.displot(data=data, x='Pregnancies')"
   ]
  },
  {
   "cell_type": "markdown",
   "id": "27d8b99f-a3b2-4d2d-bb59-253d8cdf01c9",
   "metadata": {},
   "source": [
    "Most people who were pregnant did not have more than 2.5 pregnancies"
   ]
  },
  {
   "cell_type": "code",
   "execution_count": 30,
   "id": "6c0d4c04-61ba-42af-8b99-736d13acb6b4",
   "metadata": {},
   "outputs": [
    {
     "data": {
      "text/plain": [
       "1     135\n",
       "0     111\n",
       "2     103\n",
       "3      75\n",
       "4      68\n",
       "5      57\n",
       "6      50\n",
       "7      45\n",
       "8      38\n",
       "9      28\n",
       "10     24\n",
       "11     11\n",
       "13     10\n",
       "12      9\n",
       "14      2\n",
       "15      1\n",
       "17      1\n",
       "Name: Pregnancies, dtype: int64"
      ]
     },
     "execution_count": 30,
     "metadata": {},
     "output_type": "execute_result"
    }
   ],
   "source": [
    "data.Pregnancies.value_counts()"
   ]
  },
  {
   "cell_type": "markdown",
   "id": "b12696d3-b5b7-442c-bde4-a386d63e379b",
   "metadata": {},
   "source": [
    "1 Pregnancy is the most common number of pregnancies"
   ]
  },
  {
   "cell_type": "code",
   "execution_count": 32,
   "id": "b320dbdd-5ae7-4c8e-aaea-4f430004cf19",
   "metadata": {},
   "outputs": [
    {
     "data": {
      "text/plain": [
       "22    72\n",
       "21    63\n",
       "25    48\n",
       "24    46\n",
       "23    38\n",
       "28    35\n",
       "26    33\n",
       "27    32\n",
       "29    29\n",
       "31    24\n",
       "41    22\n",
       "30    21\n",
       "37    19\n",
       "42    18\n",
       "33    17\n",
       "38    16\n",
       "36    16\n",
       "32    16\n",
       "45    15\n",
       "34    14\n",
       "46    13\n",
       "43    13\n",
       "40    13\n",
       "39    12\n",
       "35    10\n",
       "50     8\n",
       "51     8\n",
       "52     8\n",
       "44     8\n",
       "58     7\n",
       "47     6\n",
       "54     6\n",
       "49     5\n",
       "48     5\n",
       "57     5\n",
       "53     5\n",
       "60     5\n",
       "66     4\n",
       "63     4\n",
       "62     4\n",
       "55     4\n",
       "67     3\n",
       "56     3\n",
       "59     3\n",
       "65     3\n",
       "69     2\n",
       "61     2\n",
       "72     1\n",
       "81     1\n",
       "64     1\n",
       "70     1\n",
       "68     1\n",
       "Name: Age, dtype: int64"
      ]
     },
     "execution_count": 32,
     "metadata": {},
     "output_type": "execute_result"
    }
   ],
   "source": [
    "data.Age.value_counts()"
   ]
  },
  {
   "cell_type": "markdown",
   "id": "4c99f5ed-4f9e-4229-87d5-3ccf1d308b1d",
   "metadata": {},
   "source": [
    "This is likely because most people are in this study are in their 20s, which is too young for people to have more than 1 pregnancy"
   ]
  },
  {
   "cell_type": "markdown",
   "id": "ae49d93b-c848-40e8-b6d0-297e8e5dd114",
   "metadata": {},
   "source": [
    "\n",
    "\n",
    "---\n",
    "\n",
    "## Glucose\n",
    "\n",
    "Analyzing the Glucose variable."
   ]
  },
  {
   "cell_type": "code",
   "execution_count": 33,
   "id": "cd2e04ad-539e-4b79-b708-4564bcdd0f87",
   "metadata": {},
   "outputs": [
    {
     "data": {
      "text/plain": [
       "count    768.000000\n",
       "mean     120.894531\n",
       "std       31.972618\n",
       "min        0.000000\n",
       "25%       99.000000\n",
       "50%      117.000000\n",
       "75%      140.250000\n",
       "max      199.000000\n",
       "Name: Glucose, dtype: float64"
      ]
     },
     "execution_count": 33,
     "metadata": {},
     "output_type": "execute_result"
    }
   ],
   "source": [
    "data['Glucose'].describe()"
   ]
  },
  {
   "cell_type": "code",
   "execution_count": 37,
   "id": "5bf731bb-f4f8-47ea-850c-6713289123f1",
   "metadata": {},
   "outputs": [
    {
     "data": {
      "text/plain": [
       "<seaborn.axisgrid.FacetGrid at 0x7fdb92e0b2b0>"
      ]
     },
     "execution_count": 37,
     "metadata": {},
     "output_type": "execute_result"
    },
    {
     "data": {
      "image/png": "[encoded data removed]",
      "text/plain": [
       "<Figure size 360x360 with 1 Axes>"
      ]
     },
     "metadata": {
      "needs_background": "light"
     },
     "output_type": "display_data"
    }
   ],
   "source": [
    "seaborn.displot(data=data, x='Glucose')"
   ]
  },
  {
   "cell_type": "markdown",
   "id": "3209ece0-860c-4d25-9b63-d3a664b791fd",
   "metadata": {},
   "source": [
    "This shows the spread of Glucose levels for the dataset. Looks like most ar between 80 and 150. "
   ]
  },
  {
   "cell_type": "code",
   "execution_count": 251,
   "id": "a99dd351-ae52-4481-98ec-5a6b6b645de9",
   "metadata": {},
   "outputs": [
    {
     "data": {
      "text/plain": [
       "120.89453125"
      ]
     },
     "execution_count": 251,
     "metadata": {},
     "output_type": "execute_result"
    }
   ],
   "source": [
    "data[\"Glucose\"].mean()"
   ]
  },
  {
   "cell_type": "markdown",
   "id": "fff332e8-21c1-4c4a-86e5-bb85d13bf611",
   "metadata": {},
   "source": [
    "120 is the Glucose mean, which correlated to what we see in the graph regarding Glucose levels"
   ]
  },
  {
   "cell_type": "code",
   "execution_count": 8,
   "id": "f05e999e-46d4-44f1-9305-c6b4a8e2e85e",
   "metadata": {},
   "outputs": [
    {
     "data": {
      "text/plain": [
       "<seaborn.axisgrid.FacetGrid at 0x7facadaffa00>"
      ]
     },
     "execution_count": 8,
     "metadata": {},
     "output_type": "execute_result"
    },
    {
     "data": {
      "image/png": "[encoded data removed]",
      "text/plain": [
       "<Figure size 768.75x360 with 1 Axes>"
      ]
     },
     "metadata": {
      "needs_background": "light"
     },
     "output_type": "display_data"
    }
   ],
   "source": [
    "seaborn.relplot(data=data, x=\"Glucose\", y=\"BMI\", hue=\"Age\", aspect=2)"
   ]
  },
  {
   "cell_type": "markdown",
   "id": "063814b2-b0dd-4a16-b8fe-58cef5a8809f",
   "metadata": {},
   "source": [
    "This shows that BMI and Glucose do not necessarily have a correlation, because BMI seems to stay pretty consistent between 30-40. Those with a higher BMI do not necessarily have higher glucose"
   ]
  },
  {
   "cell_type": "code",
   "execution_count": 9,
   "id": "0ab64ff7-bf96-4be2-9b48-bc6cf3719387",
   "metadata": {},
   "outputs": [
    {
     "data": {
      "text/plain": [
       "<seaborn.axisgrid.FacetGrid at 0x7facadde1ac0>"
      ]
     },
     "execution_count": 9,
     "metadata": {},
     "output_type": "execute_result"
    },
    {
     "data": {
      "image/png": "[encoded data removed]",
      "text/plain": [
       "<Figure size 720x360 with 1 Axes>"
      ]
     },
     "metadata": {
      "needs_background": "light"
     },
     "output_type": "display_data"
    }
   ],
   "source": [
    "seaborn.relplot(data=data, x=\"Glucose\", y=\"Age\", aspect=2)"
   ]
  },
  {
   "cell_type": "markdown",
   "id": "1dc4b986-e92a-47e6-84c0-b539e099db97",
   "metadata": {},
   "source": [
    "There is a pretty even spread of glucose levels between Ages as well, this just reiterates that most people in the dataset are between the ages of 20 and 30 and glucose levels are between 75 and 150"
   ]
  },
  {
   "cell_type": "code",
   "execution_count": 55,
   "id": "fc7f945b-7bde-4ce6-aaea-d27fd23e6fb3",
   "metadata": {},
   "outputs": [
    {
     "data": {
      "text/plain": [
       "<seaborn.axisgrid.FacetGrid at 0x7fdb947bf3d0>"
      ]
     },
     "execution_count": 55,
     "metadata": {},
     "output_type": "execute_result"
    },
    {
     "data": {
      "image/png": "[encoded data removed]",
      "text/plain": [
       "<Figure size 360x360 with 1 Axes>"
      ]
     },
     "metadata": {
      "needs_background": "light"
     },
     "output_type": "display_data"
    }
   ],
   "source": [
    "seaborn.catplot(data=data, x=\"Outcome\", y=\"Glucose\", kind='box')"
   ]
  },
  {
   "cell_type": "markdown",
   "id": "314c9cbd-3522-4623-9086-35704e5e2fe4",
   "metadata": {},
   "source": [
    "People with a higher glucose concentration are more likely to have diabetes, based on this graph"
   ]
  },
  {
   "cell_type": "markdown",
   "id": "1fce8c83-8e8a-4f44-bd9d-c0d3fd41b116",
   "metadata": {},
   "source": [
    "Let's identify those with high Glucose"
   ]
  },
  {
   "cell_type": "code",
   "execution_count": 61,
   "id": "2ff0ce22-c383-4bcc-885e-eb8139f59bd6",
   "metadata": {},
   "outputs": [
    {
     "data": {
      "text/html": [
       "<div>\n",
       "<style scoped>\n",
       "    .dataframe tbody tr th:only-of-type {\n",
       "        vertical-align: middle;\n",
       "    }\n",
       "\n",
       "    .dataframe tbody tr th {\n",
       "        vertical-align: top;\n",
       "    }\n",
       "\n",
       "    .dataframe thead th {\n",
       "        text-align: right;\n",
       "    }\n",
       "</style>\n",
       "<table border=\"1\" class=\"dataframe\">\n",
       "  <thead>\n",
       "    <tr style=\"text-align: right;\">\n",
       "      <th></th>\n",
       "      <th>Pregnancies</th>\n",
       "      <th>Glucose</th>\n",
       "      <th>BloodPressure</th>\n",
       "      <th>SkinThickness</th>\n",
       "      <th>Insulin</th>\n",
       "      <th>BMI</th>\n",
       "      <th>DiabetesPedigreeFunction</th>\n",
       "      <th>Age</th>\n",
       "      <th>Outcome</th>\n",
       "    </tr>\n",
       "  </thead>\n",
       "  <tbody>\n",
       "    <tr>\n",
       "      <th>0</th>\n",
       "      <td>6</td>\n",
       "      <td>148</td>\n",
       "      <td>72</td>\n",
       "      <td>35</td>\n",
       "      <td>0</td>\n",
       "      <td>33.6</td>\n",
       "      <td>0.627</td>\n",
       "      <td>50</td>\n",
       "      <td>1</td>\n",
       "    </tr>\n",
       "    <tr>\n",
       "      <th>2</th>\n",
       "      <td>8</td>\n",
       "      <td>183</td>\n",
       "      <td>64</td>\n",
       "      <td>0</td>\n",
       "      <td>0</td>\n",
       "      <td>23.3</td>\n",
       "      <td>0.672</td>\n",
       "      <td>32</td>\n",
       "      <td>1</td>\n",
       "    </tr>\n",
       "    <tr>\n",
       "      <th>4</th>\n",
       "      <td>0</td>\n",
       "      <td>137</td>\n",
       "      <td>40</td>\n",
       "      <td>35</td>\n",
       "      <td>168</td>\n",
       "      <td>43.1</td>\n",
       "      <td>2.288</td>\n",
       "      <td>33</td>\n",
       "      <td>1</td>\n",
       "    </tr>\n",
       "    <tr>\n",
       "      <th>8</th>\n",
       "      <td>2</td>\n",
       "      <td>197</td>\n",
       "      <td>70</td>\n",
       "      <td>45</td>\n",
       "      <td>543</td>\n",
       "      <td>30.5</td>\n",
       "      <td>0.158</td>\n",
       "      <td>53</td>\n",
       "      <td>1</td>\n",
       "    </tr>\n",
       "    <tr>\n",
       "      <th>9</th>\n",
       "      <td>8</td>\n",
       "      <td>125</td>\n",
       "      <td>96</td>\n",
       "      <td>0</td>\n",
       "      <td>0</td>\n",
       "      <td>0.0</td>\n",
       "      <td>0.232</td>\n",
       "      <td>54</td>\n",
       "      <td>1</td>\n",
       "    </tr>\n",
       "    <tr>\n",
       "      <th>...</th>\n",
       "      <td>...</td>\n",
       "      <td>...</td>\n",
       "      <td>...</td>\n",
       "      <td>...</td>\n",
       "      <td>...</td>\n",
       "      <td>...</td>\n",
       "      <td>...</td>\n",
       "      <td>...</td>\n",
       "      <td>...</td>\n",
       "    </tr>\n",
       "    <tr>\n",
       "      <th>759</th>\n",
       "      <td>6</td>\n",
       "      <td>190</td>\n",
       "      <td>92</td>\n",
       "      <td>0</td>\n",
       "      <td>0</td>\n",
       "      <td>35.5</td>\n",
       "      <td>0.278</td>\n",
       "      <td>66</td>\n",
       "      <td>1</td>\n",
       "    </tr>\n",
       "    <tr>\n",
       "      <th>761</th>\n",
       "      <td>9</td>\n",
       "      <td>170</td>\n",
       "      <td>74</td>\n",
       "      <td>31</td>\n",
       "      <td>0</td>\n",
       "      <td>44.0</td>\n",
       "      <td>0.403</td>\n",
       "      <td>43</td>\n",
       "      <td>1</td>\n",
       "    </tr>\n",
       "    <tr>\n",
       "      <th>764</th>\n",
       "      <td>2</td>\n",
       "      <td>122</td>\n",
       "      <td>70</td>\n",
       "      <td>27</td>\n",
       "      <td>0</td>\n",
       "      <td>36.8</td>\n",
       "      <td>0.340</td>\n",
       "      <td>27</td>\n",
       "      <td>0</td>\n",
       "    </tr>\n",
       "    <tr>\n",
       "      <th>765</th>\n",
       "      <td>5</td>\n",
       "      <td>121</td>\n",
       "      <td>72</td>\n",
       "      <td>23</td>\n",
       "      <td>112</td>\n",
       "      <td>26.2</td>\n",
       "      <td>0.245</td>\n",
       "      <td>30</td>\n",
       "      <td>0</td>\n",
       "    </tr>\n",
       "    <tr>\n",
       "      <th>766</th>\n",
       "      <td>1</td>\n",
       "      <td>126</td>\n",
       "      <td>60</td>\n",
       "      <td>0</td>\n",
       "      <td>0</td>\n",
       "      <td>30.1</td>\n",
       "      <td>0.349</td>\n",
       "      <td>47</td>\n",
       "      <td>1</td>\n",
       "    </tr>\n",
       "  </tbody>\n",
       "</table>\n",
       "<p>349 rows × 9 columns</p>\n",
       "</div>"
      ],
      "text/plain": [
       "     Pregnancies  Glucose  BloodPressure  SkinThickness  Insulin   BMI  \\\n",
       "0              6      148             72             35        0  33.6   \n",
       "2              8      183             64              0        0  23.3   \n",
       "4              0      137             40             35      168  43.1   \n",
       "8              2      197             70             45      543  30.5   \n",
       "9              8      125             96              0        0   0.0   \n",
       "..           ...      ...            ...            ...      ...   ...   \n",
       "759            6      190             92              0        0  35.5   \n",
       "761            9      170             74             31        0  44.0   \n",
       "764            2      122             70             27        0  36.8   \n",
       "765            5      121             72             23      112  26.2   \n",
       "766            1      126             60              0        0  30.1   \n",
       "\n",
       "     DiabetesPedigreeFunction  Age  Outcome  \n",
       "0                       0.627   50        1  \n",
       "2                       0.672   32        1  \n",
       "4                       2.288   33        1  \n",
       "8                       0.158   53        1  \n",
       "9                       0.232   54        1  \n",
       "..                        ...  ...      ...  \n",
       "759                     0.278   66        1  \n",
       "761                     0.403   43        1  \n",
       "764                     0.340   27        0  \n",
       "765                     0.245   30        0  \n",
       "766                     0.349   47        1  \n",
       "\n",
       "[349 rows x 9 columns]"
      ]
     },
     "execution_count": 61,
     "metadata": {},
     "output_type": "execute_result"
    }
   ],
   "source": [
    "s=(data['Glucose'])>(data['Glucose'].mean())\n",
    "high_glucose=data[s]\n",
    "high_glucose"
   ]
  },
  {
   "cell_type": "code",
   "execution_count": 67,
   "id": "49db1677-8ad8-4eb2-8f6f-c12f541dee22",
   "metadata": {},
   "outputs": [
    {
     "data": {
      "text/plain": [
       "36.44412607449857"
      ]
     },
     "execution_count": 67,
     "metadata": {},
     "output_type": "execute_result"
    }
   ],
   "source": [
    "high_glucose[\"Age\"].mean()"
   ]
  },
  {
   "cell_type": "markdown",
   "id": "5ab4e43c-0eeb-4759-b4d5-252e209a55ae",
   "metadata": {},
   "source": [
    "Those with high glucose have an average Age of 36"
   ]
  },
  {
   "cell_type": "code",
   "execution_count": 201,
   "id": "37221661-f9df-46c4-bb17-8a3312dd079c",
   "metadata": {},
   "outputs": [
    {
     "data": {
      "text/plain": [
       "<seaborn.axisgrid.FacetGrid at 0x7fdb9f5d7760>"
      ]
     },
     "execution_count": 201,
     "metadata": {},
     "output_type": "execute_result"
    },
    {
     "data": {
      "image/png": "[encoded data removed]",
      "text/plain": [
       "<Figure size 360x360 with 1 Axes>"
      ]
     },
     "metadata": {
      "needs_background": "light"
     },
     "output_type": "display_data"
    }
   ],
   "source": [
    "seaborn.catplot(data=high_glucose, x=\"Outcome\", y=\"Glucose\", kind=\"box\")"
   ]
  },
  {
   "cell_type": "markdown",
   "id": "2edd8a76-f7db-47c5-8445-dba31891fcc0",
   "metadata": {},
   "source": [
    "This reiterates that those with high glucose have diabetes"
   ]
  },
  {
   "cell_type": "markdown",
   "id": "6f57ad4c-bd45-4212-b341-b21c86a5fc5f",
   "metadata": {},
   "source": [
    "There is a couple of Glucose data points with value 0, Or lower than 40. We can remove these abnormalities."
   ]
  },
  {
   "cell_type": "code",
   "execution_count": 110,
   "id": "350450f3-b3b3-4103-b31a-804a78987d9d",
   "metadata": {},
   "outputs": [],
   "source": [
    "new_glucose=data[\"Glucose\"]>30\n",
    "df=data[new_glucose]"
   ]
  },
  {
   "cell_type": "code",
   "execution_count": 111,
   "id": "5568ab02-ac86-414a-8b47-2fd3db323cf5",
   "metadata": {},
   "outputs": [
    {
     "data": {
      "text/plain": [
       "<seaborn.axisgrid.FacetGrid at 0x7fdb9aba65b0>"
      ]
     },
     "execution_count": 111,
     "metadata": {},
     "output_type": "execute_result"
    },
    {
     "data": {
      "image/png": "[encoded data removed]",
      "text/plain": [
       "<Figure size 360x360 with 1 Axes>"
      ]
     },
     "metadata": {
      "needs_background": "light"
     },
     "output_type": "display_data"
    }
   ],
   "source": [
    "seaborn.displot(data=df, x=\"Glucose\")"
   ]
  },
  {
   "cell_type": "markdown",
   "id": "e0c1ccbe-5261-424b-8ede-aba42f946a48",
   "metadata": {},
   "source": [
    "---\n",
    "\n",
    "## Insulin\n",
    "\n",
    "Analyzing the Insulin variable."
   ]
  },
  {
   "cell_type": "code",
   "execution_count": 10,
   "id": "d3625233-521f-4b1e-8299-68667c047f18",
   "metadata": {},
   "outputs": [
    {
     "data": {
      "text/plain": [
       "count    768.000000\n",
       "mean      79.799479\n",
       "std      115.244002\n",
       "min        0.000000\n",
       "25%        0.000000\n",
       "50%       30.500000\n",
       "75%      127.250000\n",
       "max      846.000000\n",
       "Name: Insulin, dtype: float64"
      ]
     },
     "execution_count": 10,
     "metadata": {},
     "output_type": "execute_result"
    }
   ],
   "source": [
    "data[\"Insulin\"].describe()"
   ]
  },
  {
   "cell_type": "code",
   "execution_count": 11,
   "id": "fc3ab7ac-91c7-429f-b8f5-e7b269f485cd",
   "metadata": {},
   "outputs": [
    {
     "data": {
      "text/plain": [
       "<seaborn.axisgrid.FacetGrid at 0x7facad9128b0>"
      ]
     },
     "execution_count": 11,
     "metadata": {},
     "output_type": "execute_result"
    },
    {
     "data": {
      "image/png": "[encoded data removed]",
      "text/plain": [
       "<Figure size 360x360 with 1 Axes>"
      ]
     },
     "metadata": {
      "needs_background": "light"
     },
     "output_type": "display_data"
    }
   ],
   "source": [
    "seaborn.relplot(data=data, x=\"BloodPressure\", y=\"Insulin\")"
   ]
  },
  {
   "cell_type": "markdown",
   "id": "88b38b5c-ac53-40c5-bfca-394460b85aa6",
   "metadata": {},
   "source": [
    "High Insulin does not neceessarily correlate to high blood pressure"
   ]
  },
  {
   "cell_type": "markdown",
   "id": "37273c42-59a3-4163-8fa7-50e76deac9e9",
   "metadata": {},
   "source": [
    "There is a number of people whose Insulin is 0. This is likely missing data"
   ]
  },
  {
   "cell_type": "code",
   "execution_count": 12,
   "id": "91f9d4c1-d9ad-4df8-8d53-93c38a3596df",
   "metadata": {},
   "outputs": [
    {
     "data": {
      "text/plain": [
       "<seaborn.axisgrid.FacetGrid at 0x7facad9bb760>"
      ]
     },
     "execution_count": 12,
     "metadata": {},
     "output_type": "execute_result"
    },
    {
     "data": {
      "image/png": "[encoded data removed]",
      "text/plain": [
       "<Figure size 360x360 with 1 Axes>"
      ]
     },
     "metadata": {
      "needs_background": "light"
     },
     "output_type": "display_data"
    }
   ],
   "source": [
    "seaborn.displot(data=data, x=\"Insulin\")"
   ]
  },
  {
   "cell_type": "markdown",
   "id": "d1660fa4-3938-4fcc-b5d8-47cd1f85f7ca",
   "metadata": {},
   "source": [
    "Let's try to remove these abnormalities "
   ]
  },
  {
   "cell_type": "code",
   "execution_count": 13,
   "id": "821dd662-8d41-4103-b2e2-c0f113717d50",
   "metadata": {},
   "outputs": [],
   "source": [
    "new_data=(data[\"Insulin\"]>0)\n",
    "Q=data[new_data]"
   ]
  },
  {
   "cell_type": "code",
   "execution_count": 14,
   "id": "919244fb-16cc-4821-8b9f-017e3af194c6",
   "metadata": {},
   "outputs": [
    {
     "data": {
      "text/plain": [
       "<seaborn.axisgrid.FacetGrid at 0x7facad9ef880>"
      ]
     },
     "execution_count": 14,
     "metadata": {},
     "output_type": "execute_result"
    },
    {
     "data": {
      "image/png": "[encoded data removed]",
      "text/plain": [
       "<Figure size 360x360 with 1 Axes>"
      ]
     },
     "metadata": {
      "needs_background": "light"
     },
     "output_type": "display_data"
    }
   ],
   "source": [
    "seaborn.displot(data=Q, x=\"Insulin\")"
   ]
  },
  {
   "cell_type": "code",
   "execution_count": 15,
   "id": "dea3930c-3a6f-4f85-a575-4a2804021d5b",
   "metadata": {},
   "outputs": [
    {
     "data": {
      "text/plain": [
       "768"
      ]
     },
     "execution_count": 15,
     "metadata": {},
     "output_type": "execute_result"
    }
   ],
   "source": [
    "data[\"Insulin\"].count()"
   ]
  },
  {
   "cell_type": "code",
   "execution_count": 16,
   "id": "0f1b87a5-6374-43ef-b957-815bd0d7b3f2",
   "metadata": {},
   "outputs": [
    {
     "data": {
      "text/plain": [
       "394"
      ]
     },
     "execution_count": 16,
     "metadata": {},
     "output_type": "execute_result"
    }
   ],
   "source": [
    "Q[\"Insulin\"].count()"
   ]
  },
  {
   "cell_type": "markdown",
   "id": "2641798b-4c88-4187-ba45-eee253e8a1e7",
   "metadata": {},
   "source": [
    "Almost half of the Insulin data counts were zero. This seems like either a flaw in the data, or a data point that is not necessary, as it only applies to half of the data"
   ]
  },
  {
   "cell_type": "code",
   "execution_count": 17,
   "id": "08fa4331-0b76-4a9d-a1f2-0ab76ea80f95",
   "metadata": {},
   "outputs": [
    {
     "data": {
      "text/plain": [
       "<seaborn.axisgrid.FacetGrid at 0x7facae53dfa0>"
      ]
     },
     "execution_count": 17,
     "metadata": {},
     "output_type": "execute_result"
    },
    {
     "data": {
      "image/png": "[encoded data removed]",
      "text/plain": [
       "<Figure size 360x360 with 1 Axes>"
      ]
     },
     "metadata": {
      "needs_background": "light"
     },
     "output_type": "display_data"
    }
   ],
   "source": [
    "seaborn.catplot(data=Q, x=\"Outcome\", y=\"Insulin\", kind=\"box\")"
   ]
  },
  {
   "cell_type": "markdown",
   "id": "105087f2-a27e-4765-8469-0af4edb43f49",
   "metadata": {},
   "source": [
    "It's easier to see now that higher Insulin corresponds with an Outcome of 1"
   ]
  },
  {
   "cell_type": "markdown",
   "id": "69191fec-cc55-45f9-af3b-de2c57e16b66",
   "metadata": {},
   "source": [
    "Let's identify those with high insulin "
   ]
  },
  {
   "cell_type": "code",
   "execution_count": 178,
   "id": "99846197-3a04-4513-b568-bc9ee59a5557",
   "metadata": {},
   "outputs": [],
   "source": [
    "high_insulin=Q[\"Insulin\"]>Q[\"Insulin\"].mean()\n",
    "new_Q=Q[high_insulin]"
   ]
  },
  {
   "cell_type": "code",
   "execution_count": 180,
   "id": "b1dee7d5-f9f0-484f-a0e0-79f255d48c59",
   "metadata": {},
   "outputs": [
    {
     "data": {
      "text/html": [
       "<div>\n",
       "<style scoped>\n",
       "    .dataframe tbody tr th:only-of-type {\n",
       "        vertical-align: middle;\n",
       "    }\n",
       "\n",
       "    .dataframe tbody tr th {\n",
       "        vertical-align: top;\n",
       "    }\n",
       "\n",
       "    .dataframe thead th {\n",
       "        text-align: right;\n",
       "    }\n",
       "</style>\n",
       "<table border=\"1\" class=\"dataframe\">\n",
       "  <thead>\n",
       "    <tr style=\"text-align: right;\">\n",
       "      <th></th>\n",
       "      <th>Pregnancies</th>\n",
       "      <th>Glucose</th>\n",
       "      <th>BloodPressure</th>\n",
       "      <th>SkinThickness</th>\n",
       "      <th>Insulin</th>\n",
       "      <th>BMI</th>\n",
       "      <th>DiabetesPedigreeFunction</th>\n",
       "      <th>Age</th>\n",
       "      <th>Outcome</th>\n",
       "    </tr>\n",
       "    <tr>\n",
       "      <th>Outcome</th>\n",
       "      <th></th>\n",
       "      <th></th>\n",
       "      <th></th>\n",
       "      <th></th>\n",
       "      <th></th>\n",
       "      <th></th>\n",
       "      <th></th>\n",
       "      <th></th>\n",
       "      <th></th>\n",
       "    </tr>\n",
       "  </thead>\n",
       "  <tbody>\n",
       "    <tr>\n",
       "      <th>False</th>\n",
       "      <td>70</td>\n",
       "      <td>70</td>\n",
       "      <td>70</td>\n",
       "      <td>70</td>\n",
       "      <td>70</td>\n",
       "      <td>70</td>\n",
       "      <td>70</td>\n",
       "      <td>70</td>\n",
       "      <td>70</td>\n",
       "    </tr>\n",
       "    <tr>\n",
       "      <th>True</th>\n",
       "      <td>77</td>\n",
       "      <td>77</td>\n",
       "      <td>77</td>\n",
       "      <td>77</td>\n",
       "      <td>77</td>\n",
       "      <td>77</td>\n",
       "      <td>77</td>\n",
       "      <td>77</td>\n",
       "      <td>77</td>\n",
       "    </tr>\n",
       "  </tbody>\n",
       "</table>\n",
       "</div>"
      ],
      "text/plain": [
       "         Pregnancies  Glucose  BloodPressure  SkinThickness  Insulin  BMI  \\\n",
       "Outcome                                                                     \n",
       "False             70       70             70             70       70   70   \n",
       "True              77       77             77             77       77   77   \n",
       "\n",
       "         DiabetesPedigreeFunction  Age  Outcome  \n",
       "Outcome                                          \n",
       "False                          70   70       70  \n",
       "True                           77   77       77  "
      ]
     },
     "execution_count": 180,
     "metadata": {},
     "output_type": "execute_result"
    }
   ],
   "source": [
    "Q.groupby(new_Q[\"Outcome\"]==1).count()"
   ]
  },
  {
   "cell_type": "code",
   "execution_count": 183,
   "id": "31020c6a-f5ad-49dc-8bb7-288bf765512e",
   "metadata": {},
   "outputs": [
    {
     "data": {
      "text/html": [
       "<div>\n",
       "<style scoped>\n",
       "    .dataframe tbody tr th:only-of-type {\n",
       "        vertical-align: middle;\n",
       "    }\n",
       "\n",
       "    .dataframe tbody tr th {\n",
       "        vertical-align: top;\n",
       "    }\n",
       "\n",
       "    .dataframe thead th {\n",
       "        text-align: right;\n",
       "    }\n",
       "</style>\n",
       "<table border=\"1\" class=\"dataframe\">\n",
       "  <thead>\n",
       "    <tr style=\"text-align: right;\">\n",
       "      <th></th>\n",
       "      <th>Pregnancies</th>\n",
       "      <th>Glucose</th>\n",
       "      <th>BloodPressure</th>\n",
       "      <th>SkinThickness</th>\n",
       "      <th>Insulin</th>\n",
       "      <th>BMI</th>\n",
       "      <th>DiabetesPedigreeFunction</th>\n",
       "      <th>Age</th>\n",
       "      <th>Outcome</th>\n",
       "    </tr>\n",
       "    <tr>\n",
       "      <th>Outcome</th>\n",
       "      <th></th>\n",
       "      <th></th>\n",
       "      <th></th>\n",
       "      <th></th>\n",
       "      <th></th>\n",
       "      <th></th>\n",
       "      <th></th>\n",
       "      <th></th>\n",
       "      <th></th>\n",
       "    </tr>\n",
       "  </thead>\n",
       "  <tbody>\n",
       "    <tr>\n",
       "      <th>False</th>\n",
       "      <td>264</td>\n",
       "      <td>264</td>\n",
       "      <td>264</td>\n",
       "      <td>264</td>\n",
       "      <td>264</td>\n",
       "      <td>264</td>\n",
       "      <td>264</td>\n",
       "      <td>264</td>\n",
       "      <td>264</td>\n",
       "    </tr>\n",
       "    <tr>\n",
       "      <th>True</th>\n",
       "      <td>130</td>\n",
       "      <td>130</td>\n",
       "      <td>130</td>\n",
       "      <td>130</td>\n",
       "      <td>130</td>\n",
       "      <td>130</td>\n",
       "      <td>130</td>\n",
       "      <td>130</td>\n",
       "      <td>130</td>\n",
       "    </tr>\n",
       "  </tbody>\n",
       "</table>\n",
       "</div>"
      ],
      "text/plain": [
       "         Pregnancies  Glucose  BloodPressure  SkinThickness  Insulin  BMI  \\\n",
       "Outcome                                                                     \n",
       "False            264      264            264            264      264  264   \n",
       "True             130      130            130            130      130  130   \n",
       "\n",
       "         DiabetesPedigreeFunction  Age  Outcome  \n",
       "Outcome                                          \n",
       "False                         264  264      264  \n",
       "True                          130  130      130  "
      ]
     },
     "execution_count": 183,
     "metadata": {},
     "output_type": "execute_result"
    }
   ],
   "source": [
    "Q.groupby(Q[\"Outcome\"]==1).count()"
   ]
  },
  {
   "cell_type": "code",
   "execution_count": 182,
   "id": "73b02360-5fab-42ab-b954-fe2687758e64",
   "metadata": {},
   "outputs": [
    {
     "data": {
      "text/plain": [
       "0.5238095238095238"
      ]
     },
     "execution_count": 182,
     "metadata": {},
     "output_type": "execute_result"
    }
   ],
   "source": [
    "77/147"
   ]
  },
  {
   "cell_type": "markdown",
   "id": "cb005576-98b9-4575-bdfe-3f7438261e57",
   "metadata": {},
   "source": [
    "People with high insulin have a 52% chance in testing positive for diabetes"
   ]
  },
  {
   "cell_type": "code",
   "execution_count": 184,
   "id": "09095b73-4ba0-4689-a1b8-286345dfef05",
   "metadata": {},
   "outputs": [
    {
     "data": {
      "text/plain": [
       "0.3299492385786802"
      ]
     },
     "execution_count": 184,
     "metadata": {},
     "output_type": "execute_result"
    }
   ],
   "source": [
    "130/394"
   ]
  },
  {
   "cell_type": "markdown",
   "id": "1e117c9f-56f0-4f4f-b0d2-586bdb021da2",
   "metadata": {},
   "source": [
    "Compared to those with average Insulin, who have 32% chance of testing positive for diabetes"
   ]
  },
  {
   "cell_type": "markdown",
   "id": "941230f2-b77e-4054-8336-795bbc3e9bc1",
   "metadata": {},
   "source": [
    "So this reaffirms that people with higher insulin are more likely to have diabetes "
   ]
  },
  {
   "cell_type": "markdown",
   "id": "3d9e53b6-0eff-445a-b507-e751264fd39d",
   "metadata": {},
   "source": [
    "---\n",
    "\n",
    "## Blood Pressure\n",
    "\n",
    "Analyzing the Blood Pressure variable\n",
    "\n"
   ]
  },
  {
   "cell_type": "code",
   "execution_count": 112,
   "id": "de0b2a42-085b-48bb-bf54-76c024b452a6",
   "metadata": {},
   "outputs": [
    {
     "data": {
      "text/plain": [
       "count    768.000000\n",
       "mean      69.105469\n",
       "std       19.355807\n",
       "min        0.000000\n",
       "25%       62.000000\n",
       "50%       72.000000\n",
       "75%       80.000000\n",
       "max      122.000000\n",
       "Name: BloodPressure, dtype: float64"
      ]
     },
     "execution_count": 112,
     "metadata": {},
     "output_type": "execute_result"
    }
   ],
   "source": [
    "data[\"BloodPressure\"].describe()"
   ]
  },
  {
   "cell_type": "code",
   "execution_count": 115,
   "id": "5f790eea-04c4-4f3c-bbc2-3bd4d73f5980",
   "metadata": {},
   "outputs": [
    {
     "data": {
      "text/plain": [
       "<seaborn.axisgrid.FacetGrid at 0x7fdb9abda6a0>"
      ]
     },
     "execution_count": 115,
     "metadata": {},
     "output_type": "execute_result"
    },
    {
     "data": {
      "image/png": "[encoded data removed]",
      "text/plain": [
       "<Figure size 360x360 with 1 Axes>"
      ]
     },
     "metadata": {
      "needs_background": "light"
     },
     "output_type": "display_data"
    }
   ],
   "source": [
    "seaborn.displot(data=data, x=\"BloodPressure\")"
   ]
  },
  {
   "cell_type": "markdown",
   "id": "05bd0931-9c5e-4fc4-83ee-bc9d4b18ec7b",
   "metadata": {},
   "source": [
    "First, let's remove the zeroes and BloodPressure less than 40"
   ]
  },
  {
   "cell_type": "code",
   "execution_count": 116,
   "id": "7b1a11b9-304e-44a3-8414-db4b6194bb3c",
   "metadata": {},
   "outputs": [
    {
     "data": {
      "text/plain": [
       "<seaborn.axisgrid.FacetGrid at 0x7fdb9afb2310>"
      ]
     },
     "execution_count": 116,
     "metadata": {},
     "output_type": "execute_result"
    },
    {
     "data": {
      "image/png": "[encoded data removed]",
      "text/plain": [
       "<Figure size 360x360 with 1 Axes>"
      ]
     },
     "metadata": {
      "needs_background": "light"
     },
     "output_type": "display_data"
    }
   ],
   "source": [
    "new_blood=data[\"BloodPressure\"]>40\n",
    "new=data[new_blood]\n",
    "seaborn.displot(data=new, x=\"BloodPressure\")"
   ]
  },
  {
   "cell_type": "markdown",
   "id": "a20f4063-17db-47d8-b617-64ba93d3856d",
   "metadata": {},
   "source": [
    "Now let's calculate the average."
   ]
  },
  {
   "cell_type": "code",
   "execution_count": 117,
   "id": "058bb4d5-abe6-4f28-942b-85353143f377",
   "metadata": {},
   "outputs": [
    {
     "data": {
      "text/plain": [
       "72.67994505494505"
      ]
     },
     "execution_count": 117,
     "metadata": {},
     "output_type": "execute_result"
    }
   ],
   "source": [
    "new[\"BloodPressure\"].mean()"
   ]
  },
  {
   "cell_type": "markdown",
   "id": "17c0cfbd-b12f-4067-b475-20cf94467181",
   "metadata": {},
   "source": [
    "Let's see if there is any correlation for having high blood pressure."
   ]
  },
  {
   "cell_type": "code",
   "execution_count": 127,
   "id": "61c8dc52-a69b-4975-802e-f319626d65fb",
   "metadata": {},
   "outputs": [],
   "source": [
    "high_blood=new[\"BloodPressure\"]>new[\"BloodPressure\"].mean()\n",
    "high=new[high_blood]"
   ]
  },
  {
   "cell_type": "code",
   "execution_count": 126,
   "id": "d3cdb317-ad19-4686-8fdb-6310f71005c9",
   "metadata": {},
   "outputs": [
    {
     "data": {
      "text/plain": [
       "<seaborn.axisgrid.FacetGrid at 0x7fdb9aeeb9a0>"
      ]
     },
     "execution_count": 126,
     "metadata": {},
     "output_type": "execute_result"
    },
    {
     "data": {
      "image/png": "[encoded data removed]",
      "text/plain": [
       "<Figure size 360x360 with 1 Axes>"
      ]
     },
     "metadata": {
      "needs_background": "light"
     },
     "output_type": "display_data"
    }
   ],
   "source": [
    "seaborn.relplot(data=new, x=\"Outcome\", y=\"BloodPressure\")"
   ]
  },
  {
   "cell_type": "code",
   "execution_count": 133,
   "id": "46f2f540-cf86-4932-a84b-4e9bc7030e0b",
   "metadata": {},
   "outputs": [
    {
     "data": {
      "text/html": [
       "<div>\n",
       "<style scoped>\n",
       "    .dataframe tbody tr th:only-of-type {\n",
       "        vertical-align: middle;\n",
       "    }\n",
       "\n",
       "    .dataframe tbody tr th {\n",
       "        vertical-align: top;\n",
       "    }\n",
       "\n",
       "    .dataframe thead th {\n",
       "        text-align: right;\n",
       "    }\n",
       "</style>\n",
       "<table border=\"1\" class=\"dataframe\">\n",
       "  <thead>\n",
       "    <tr style=\"text-align: right;\">\n",
       "      <th></th>\n",
       "      <th>Pregnancies</th>\n",
       "      <th>Glucose</th>\n",
       "      <th>BloodPressure</th>\n",
       "      <th>SkinThickness</th>\n",
       "      <th>Insulin</th>\n",
       "      <th>BMI</th>\n",
       "      <th>DiabetesPedigreeFunction</th>\n",
       "      <th>Age</th>\n",
       "      <th>Outcome</th>\n",
       "      <th>high_blood</th>\n",
       "    </tr>\n",
       "    <tr>\n",
       "      <th>Outcome</th>\n",
       "      <th></th>\n",
       "      <th></th>\n",
       "      <th></th>\n",
       "      <th></th>\n",
       "      <th></th>\n",
       "      <th></th>\n",
       "      <th></th>\n",
       "      <th></th>\n",
       "      <th></th>\n",
       "      <th></th>\n",
       "    </tr>\n",
       "  </thead>\n",
       "  <tbody>\n",
       "    <tr>\n",
       "      <th>False</th>\n",
       "      <td>478</td>\n",
       "      <td>478</td>\n",
       "      <td>478</td>\n",
       "      <td>478</td>\n",
       "      <td>478</td>\n",
       "      <td>478</td>\n",
       "      <td>478</td>\n",
       "      <td>478</td>\n",
       "      <td>478</td>\n",
       "      <td>478</td>\n",
       "    </tr>\n",
       "    <tr>\n",
       "      <th>True</th>\n",
       "      <td>250</td>\n",
       "      <td>250</td>\n",
       "      <td>250</td>\n",
       "      <td>250</td>\n",
       "      <td>250</td>\n",
       "      <td>250</td>\n",
       "      <td>250</td>\n",
       "      <td>250</td>\n",
       "      <td>250</td>\n",
       "      <td>250</td>\n",
       "    </tr>\n",
       "  </tbody>\n",
       "</table>\n",
       "</div>"
      ],
      "text/plain": [
       "         Pregnancies  Glucose  BloodPressure  SkinThickness  Insulin  BMI  \\\n",
       "Outcome                                                                     \n",
       "False            478      478            478            478      478  478   \n",
       "True             250      250            250            250      250  250   \n",
       "\n",
       "         DiabetesPedigreeFunction  Age  Outcome  high_blood  \n",
       "Outcome                                                      \n",
       "False                         478  478      478         478  \n",
       "True                          250  250      250         250  "
      ]
     },
     "execution_count": 133,
     "metadata": {},
     "output_type": "execute_result"
    }
   ],
   "source": [
    "new.groupby(new[\"Outcome\"]==1.0).count()"
   ]
  },
  {
   "cell_type": "markdown",
   "id": "a253d8d3-8795-41a3-92e9-a49edad56ce8",
   "metadata": {},
   "source": [
    "Percentage of People with diabetes without abnormalites in data="
   ]
  },
  {
   "cell_type": "code",
   "execution_count": 160,
   "id": "f4846ecb-f6ea-4392-aeb5-1b2e4811b2e5",
   "metadata": {},
   "outputs": [
    {
     "data": {
      "text/plain": [
       "0.375"
      ]
     },
     "execution_count": 160,
     "metadata": {},
     "output_type": "execute_result"
    }
   ],
   "source": [
    "270/720"
   ]
  },
  {
   "cell_type": "code",
   "execution_count": 132,
   "id": "5b0b4597-d996-4309-b471-d89b07be8046",
   "metadata": {},
   "outputs": [
    {
     "data": {
      "text/html": [
       "<div>\n",
       "<style scoped>\n",
       "    .dataframe tbody tr th:only-of-type {\n",
       "        vertical-align: middle;\n",
       "    }\n",
       "\n",
       "    .dataframe tbody tr th {\n",
       "        vertical-align: top;\n",
       "    }\n",
       "\n",
       "    .dataframe thead th {\n",
       "        text-align: right;\n",
       "    }\n",
       "</style>\n",
       "<table border=\"1\" class=\"dataframe\">\n",
       "  <thead>\n",
       "    <tr style=\"text-align: right;\">\n",
       "      <th></th>\n",
       "      <th>Pregnancies</th>\n",
       "      <th>Glucose</th>\n",
       "      <th>BloodPressure</th>\n",
       "      <th>SkinThickness</th>\n",
       "      <th>Insulin</th>\n",
       "      <th>BMI</th>\n",
       "      <th>DiabetesPedigreeFunction</th>\n",
       "      <th>Age</th>\n",
       "      <th>Outcome</th>\n",
       "      <th>high_blood</th>\n",
       "    </tr>\n",
       "    <tr>\n",
       "      <th>Outcome</th>\n",
       "      <th></th>\n",
       "      <th></th>\n",
       "      <th></th>\n",
       "      <th></th>\n",
       "      <th></th>\n",
       "      <th></th>\n",
       "      <th></th>\n",
       "      <th></th>\n",
       "      <th></th>\n",
       "      <th></th>\n",
       "    </tr>\n",
       "  </thead>\n",
       "  <tbody>\n",
       "    <tr>\n",
       "      <th>False</th>\n",
       "      <td>206</td>\n",
       "      <td>206</td>\n",
       "      <td>206</td>\n",
       "      <td>206</td>\n",
       "      <td>206</td>\n",
       "      <td>206</td>\n",
       "      <td>206</td>\n",
       "      <td>206</td>\n",
       "      <td>206</td>\n",
       "      <td>206</td>\n",
       "    </tr>\n",
       "    <tr>\n",
       "      <th>True</th>\n",
       "      <td>143</td>\n",
       "      <td>143</td>\n",
       "      <td>143</td>\n",
       "      <td>143</td>\n",
       "      <td>143</td>\n",
       "      <td>143</td>\n",
       "      <td>143</td>\n",
       "      <td>143</td>\n",
       "      <td>143</td>\n",
       "      <td>143</td>\n",
       "    </tr>\n",
       "  </tbody>\n",
       "</table>\n",
       "</div>"
      ],
      "text/plain": [
       "         Pregnancies  Glucose  BloodPressure  SkinThickness  Insulin  BMI  \\\n",
       "Outcome                                                                     \n",
       "False            206      206            206            206      206  206   \n",
       "True             143      143            143            143      143  143   \n",
       "\n",
       "         DiabetesPedigreeFunction  Age  Outcome  high_blood  \n",
       "Outcome                                                      \n",
       "False                         206  206      206         206  \n",
       "True                          143  143      143         143  "
      ]
     },
     "execution_count": 132,
     "metadata": {},
     "output_type": "execute_result"
    },
    {
     "data": {
      "image/png": "[encoded data removed]",
      "text/plain": [
       "<Figure size 360x360 with 1 Axes>"
      ]
     },
     "metadata": {
      "needs_background": "light"
     },
     "output_type": "display_data"
    }
   ],
   "source": [
    "seaborn.relplot(data=high, x=\"Outcome\", y=\"BloodPressure\")\n",
    "high.groupby(high[\"Outcome\"]==1.0).count()"
   ]
  },
  {
   "cell_type": "markdown",
   "id": "1b6a7b9d-b20b-4c66-9628-07d2b36ba406",
   "metadata": {},
   "source": [
    "Percentage of People with diabetes with high blood pressure"
   ]
  },
  {
   "cell_type": "code",
   "execution_count": 159,
   "id": "e11ad76b-3316-4e6c-82d7-6d37b704d3f5",
   "metadata": {},
   "outputs": [
    {
     "data": {
      "text/plain": [
       "0.40974212034383956"
      ]
     },
     "execution_count": 159,
     "metadata": {},
     "output_type": "execute_result"
    }
   ],
   "source": [
    "143/349"
   ]
  },
  {
   "cell_type": "markdown",
   "id": "a7ad1024-eeed-4d13-ab28-1d2f52efa949",
   "metadata": {},
   "source": [
    "So chances that people with high blood pressure have diabetes is slightly higher than those with with normal blood pressure"
   ]
  },
  {
   "cell_type": "markdown",
   "id": "b72048e9-017e-46be-8c55-0d06c0ea7079",
   "metadata": {},
   "source": [
    "---\n",
    "\n",
    "## BMI\n",
    "\n",
    "Analyzing the BMI variable."
   ]
  },
  {
   "cell_type": "code",
   "execution_count": 138,
   "id": "d93e1cc8-ba01-49ca-baa2-3e04d63ece2a",
   "metadata": {},
   "outputs": [
    {
     "data": {
      "text/plain": [
       "count    768.000000\n",
       "mean      31.992578\n",
       "std        7.884160\n",
       "min        0.000000\n",
       "25%       27.300000\n",
       "50%       32.000000\n",
       "75%       36.600000\n",
       "max       67.100000\n",
       "Name: BMI, dtype: float64"
      ]
     },
     "execution_count": 138,
     "metadata": {},
     "output_type": "execute_result"
    }
   ],
   "source": [
    "data[\"BMI\"].describe()"
   ]
  },
  {
   "cell_type": "code",
   "execution_count": 140,
   "id": "8b05e0c8-2dd5-45b5-8aed-b1be5fbc5fe2",
   "metadata": {},
   "outputs": [
    {
     "data": {
      "text/plain": [
       "<seaborn.axisgrid.FacetGrid at 0x7fdb9c144fd0>"
      ]
     },
     "execution_count": 140,
     "metadata": {},
     "output_type": "execute_result"
    },
    {
     "data": {
      "image/png": "[encoded data removed]",
      "text/plain": [
       "<Figure size 360x360 with 1 Axes>"
      ]
     },
     "metadata": {
      "needs_background": "light"
     },
     "output_type": "display_data"
    }
   ],
   "source": [
    "seaborn.displot(data=data, x=\"BMI\")"
   ]
  },
  {
   "cell_type": "markdown",
   "id": "65327788-5477-4207-86cd-6f3c77595aef",
   "metadata": {},
   "source": [
    "Let's start by removing the outliers"
   ]
  },
  {
   "cell_type": "code",
   "execution_count": 144,
   "id": "fd6d0892-0ac5-45e8-af27-b19a8862c107",
   "metadata": {},
   "outputs": [],
   "source": [
    "new=((data[\"BMI\"]>0)&(data[\"BMI\"]<55))\n",
    "bm=data[new]"
   ]
  },
  {
   "cell_type": "code",
   "execution_count": 145,
   "id": "bbf87992-cafb-4be3-8b2b-f54bd5bca278",
   "metadata": {},
   "outputs": [
    {
     "data": {
      "text/plain": [
       "<seaborn.axisgrid.FacetGrid at 0x7fdb9c571d90>"
      ]
     },
     "execution_count": 145,
     "metadata": {},
     "output_type": "execute_result"
    },
    {
     "data": {
      "image/png": "[encoded data removed]",
      "text/plain": [
       "<Figure size 360x360 with 1 Axes>"
      ]
     },
     "metadata": {
      "needs_background": "light"
     },
     "output_type": "display_data"
    }
   ],
   "source": [
    "seaborn.displot(data=bm, x=\"BMI\")"
   ]
  },
  {
   "cell_type": "markdown",
   "id": "2a963d8a-676a-4de9-b09c-2340f6594192",
   "metadata": {},
   "source": [
    "Let's identify a high BMI and low BMI"
   ]
  },
  {
   "cell_type": "code",
   "execution_count": 146,
   "id": "dcc5159b-b617-45b5-92bc-3ebce92c25f2",
   "metadata": {},
   "outputs": [],
   "source": [
    "high_BMI=bm[\"BMI\"]>bm[\"BMI\"].mean()"
   ]
  },
  {
   "cell_type": "code",
   "execution_count": 147,
   "id": "2f23277e-d965-4703-85aa-0053a070090a",
   "metadata": {},
   "outputs": [],
   "source": [
    "low_BMI=bm[\"BMI\"]<bm[\"BMI\"].mean()"
   ]
  },
  {
   "cell_type": "code",
   "execution_count": 152,
   "id": "ed66d74b-5fb3-4741-ace1-aad01c54490b",
   "metadata": {},
   "outputs": [
    {
     "data": {
      "text/html": [
       "<div>\n",
       "<style scoped>\n",
       "    .dataframe tbody tr th:only-of-type {\n",
       "        vertical-align: middle;\n",
       "    }\n",
       "\n",
       "    .dataframe tbody tr th {\n",
       "        vertical-align: top;\n",
       "    }\n",
       "\n",
       "    .dataframe thead th {\n",
       "        text-align: right;\n",
       "    }\n",
       "</style>\n",
       "<table border=\"1\" class=\"dataframe\">\n",
       "  <thead>\n",
       "    <tr style=\"text-align: right;\">\n",
       "      <th></th>\n",
       "      <th>BMI</th>\n",
       "    </tr>\n",
       "  </thead>\n",
       "  <tbody>\n",
       "    <tr>\n",
       "      <th>0</th>\n",
       "      <td>33.6</td>\n",
       "    </tr>\n",
       "    <tr>\n",
       "      <th>4</th>\n",
       "      <td>43.1</td>\n",
       "    </tr>\n",
       "    <tr>\n",
       "      <th>7</th>\n",
       "      <td>35.3</td>\n",
       "    </tr>\n",
       "    <tr>\n",
       "      <th>10</th>\n",
       "      <td>37.6</td>\n",
       "    </tr>\n",
       "    <tr>\n",
       "      <th>11</th>\n",
       "      <td>38.0</td>\n",
       "    </tr>\n",
       "    <tr>\n",
       "      <th>...</th>\n",
       "      <td>...</td>\n",
       "    </tr>\n",
       "    <tr>\n",
       "      <th>758</th>\n",
       "      <td>37.5</td>\n",
       "    </tr>\n",
       "    <tr>\n",
       "      <th>759</th>\n",
       "      <td>35.5</td>\n",
       "    </tr>\n",
       "    <tr>\n",
       "      <th>761</th>\n",
       "      <td>44.0</td>\n",
       "    </tr>\n",
       "    <tr>\n",
       "      <th>763</th>\n",
       "      <td>32.9</td>\n",
       "    </tr>\n",
       "    <tr>\n",
       "      <th>764</th>\n",
       "      <td>36.8</td>\n",
       "    </tr>\n",
       "  </tbody>\n",
       "</table>\n",
       "<p>373 rows × 1 columns</p>\n",
       "</div>"
      ],
      "text/plain": [
       "      BMI\n",
       "0    33.6\n",
       "4    43.1\n",
       "7    35.3\n",
       "10   37.6\n",
       "11   38.0\n",
       "..    ...\n",
       "758  37.5\n",
       "759  35.5\n",
       "761  44.0\n",
       "763  32.9\n",
       "764  36.8\n",
       "\n",
       "[373 rows x 1 columns]"
      ]
     },
     "execution_count": 152,
     "metadata": {},
     "output_type": "execute_result"
    }
   ],
   "source": [
    "high_Q=bm[high_BMI]\n",
    "high_Q[[\"BMI\"]]"
   ]
  },
  {
   "cell_type": "code",
   "execution_count": 154,
   "id": "a840ed3c-ba82-48cb-994b-8b7b6bfabc45",
   "metadata": {},
   "outputs": [
    {
     "data": {
      "text/html": [
       "<div>\n",
       "<style scoped>\n",
       "    .dataframe tbody tr th:only-of-type {\n",
       "        vertical-align: middle;\n",
       "    }\n",
       "\n",
       "    .dataframe tbody tr th {\n",
       "        vertical-align: top;\n",
       "    }\n",
       "\n",
       "    .dataframe thead th {\n",
       "        text-align: right;\n",
       "    }\n",
       "</style>\n",
       "<table border=\"1\" class=\"dataframe\">\n",
       "  <thead>\n",
       "    <tr style=\"text-align: right;\">\n",
       "      <th></th>\n",
       "      <th>BMI</th>\n",
       "    </tr>\n",
       "  </thead>\n",
       "  <tbody>\n",
       "    <tr>\n",
       "      <th>1</th>\n",
       "      <td>26.6</td>\n",
       "    </tr>\n",
       "    <tr>\n",
       "      <th>2</th>\n",
       "      <td>23.3</td>\n",
       "    </tr>\n",
       "    <tr>\n",
       "      <th>3</th>\n",
       "      <td>28.1</td>\n",
       "    </tr>\n",
       "    <tr>\n",
       "      <th>5</th>\n",
       "      <td>25.6</td>\n",
       "    </tr>\n",
       "    <tr>\n",
       "      <th>6</th>\n",
       "      <td>31.0</td>\n",
       "    </tr>\n",
       "    <tr>\n",
       "      <th>...</th>\n",
       "      <td>...</td>\n",
       "    </tr>\n",
       "    <tr>\n",
       "      <th>760</th>\n",
       "      <td>28.4</td>\n",
       "    </tr>\n",
       "    <tr>\n",
       "      <th>762</th>\n",
       "      <td>22.5</td>\n",
       "    </tr>\n",
       "    <tr>\n",
       "      <th>765</th>\n",
       "      <td>26.2</td>\n",
       "    </tr>\n",
       "    <tr>\n",
       "      <th>766</th>\n",
       "      <td>30.1</td>\n",
       "    </tr>\n",
       "    <tr>\n",
       "      <th>767</th>\n",
       "      <td>30.4</td>\n",
       "    </tr>\n",
       "  </tbody>\n",
       "</table>\n",
       "<p>380 rows × 1 columns</p>\n",
       "</div>"
      ],
      "text/plain": [
       "      BMI\n",
       "1    26.6\n",
       "2    23.3\n",
       "3    28.1\n",
       "5    25.6\n",
       "6    31.0\n",
       "..    ...\n",
       "760  28.4\n",
       "762  22.5\n",
       "765  26.2\n",
       "766  30.1\n",
       "767  30.4\n",
       "\n",
       "[380 rows x 1 columns]"
      ]
     },
     "execution_count": 154,
     "metadata": {},
     "output_type": "execute_result"
    }
   ],
   "source": [
    "low_Q=bm[low_BMI]\n",
    "low_Q[[\"BMI\"]]"
   ]
  },
  {
   "cell_type": "markdown",
   "id": "451769c0-fd59-4106-9baa-92806824dc39",
   "metadata": {},
   "source": [
    "Let's see the number of people with a low BMI, compared to the number of peoplee with a high BMI"
   ]
  },
  {
   "cell_type": "code",
   "execution_count": 261,
   "id": "a1b12535-07b4-4c22-ab8a-2c2572196f9f",
   "metadata": {},
   "outputs": [
    {
     "data": {
      "text/html": [
       "<div>\n",
       "<style scoped>\n",
       "    .dataframe tbody tr th:only-of-type {\n",
       "        vertical-align: middle;\n",
       "    }\n",
       "\n",
       "    .dataframe tbody tr th {\n",
       "        vertical-align: top;\n",
       "    }\n",
       "\n",
       "    .dataframe thead th {\n",
       "        text-align: right;\n",
       "    }\n",
       "</style>\n",
       "<table border=\"1\" class=\"dataframe\">\n",
       "  <thead>\n",
       "    <tr style=\"text-align: right;\">\n",
       "      <th></th>\n",
       "      <th>Pregnancies</th>\n",
       "      <th>Glucose</th>\n",
       "      <th>BloodPressure</th>\n",
       "      <th>SkinThickness</th>\n",
       "      <th>Insulin</th>\n",
       "      <th>BMI</th>\n",
       "      <th>DiabetesPedigreeFunction</th>\n",
       "      <th>Age</th>\n",
       "      <th>Outcome</th>\n",
       "    </tr>\n",
       "    <tr>\n",
       "      <th>BloodPressure</th>\n",
       "      <th></th>\n",
       "      <th></th>\n",
       "      <th></th>\n",
       "      <th></th>\n",
       "      <th></th>\n",
       "      <th></th>\n",
       "      <th></th>\n",
       "      <th></th>\n",
       "      <th></th>\n",
       "    </tr>\n",
       "  </thead>\n",
       "  <tbody>\n",
       "    <tr>\n",
       "      <th>False</th>\n",
       "      <td>164</td>\n",
       "      <td>164</td>\n",
       "      <td>164</td>\n",
       "      <td>164</td>\n",
       "      <td>164</td>\n",
       "      <td>164</td>\n",
       "      <td>164</td>\n",
       "      <td>164</td>\n",
       "      <td>164</td>\n",
       "    </tr>\n",
       "    <tr>\n",
       "      <th>True</th>\n",
       "      <td>216</td>\n",
       "      <td>216</td>\n",
       "      <td>216</td>\n",
       "      <td>216</td>\n",
       "      <td>216</td>\n",
       "      <td>216</td>\n",
       "      <td>216</td>\n",
       "      <td>216</td>\n",
       "      <td>216</td>\n",
       "    </tr>\n",
       "  </tbody>\n",
       "</table>\n",
       "</div>"
      ],
      "text/plain": [
       "               Pregnancies  Glucose  BloodPressure  SkinThickness  Insulin  \\\n",
       "BloodPressure                                                                \n",
       "False                  164      164            164            164      164   \n",
       "True                   216      216            216            216      216   \n",
       "\n",
       "               BMI  DiabetesPedigreeFunction  Age  Outcome  \n",
       "BloodPressure                                               \n",
       "False          164                       164  164      164  \n",
       "True           216                       216  216      216  "
      ]
     },
     "execution_count": 261,
     "metadata": {},
     "output_type": "execute_result"
    }
   ],
   "source": [
    "low_Q.groupby(low_Q[\"BloodPressure\"]>low_Q[\"BloodPressure\"].mean()).count()"
   ]
  },
  {
   "cell_type": "code",
   "execution_count": 262,
   "id": "a606c8fd-87c9-4235-bf7d-41329aa4e556",
   "metadata": {},
   "outputs": [
    {
     "data": {
      "text/plain": [
       "0.5684210526315789"
      ]
     },
     "execution_count": 262,
     "metadata": {},
     "output_type": "execute_result"
    }
   ],
   "source": [
    "216/(164+216)"
   ]
  },
  {
   "cell_type": "markdown",
   "id": "7d24a73a-109b-404c-8687-6f6d6715b0f3",
   "metadata": {},
   "source": [
    "Of the people with a low BMI, this is the percentage of people who have high bloodPressure"
   ]
  },
  {
   "cell_type": "code",
   "execution_count": 263,
   "id": "88e4d754-3ec4-466b-816c-05b9273c4ea3",
   "metadata": {},
   "outputs": [
    {
     "data": {
      "text/html": [
       "<div>\n",
       "<style scoped>\n",
       "    .dataframe tbody tr th:only-of-type {\n",
       "        vertical-align: middle;\n",
       "    }\n",
       "\n",
       "    .dataframe tbody tr th {\n",
       "        vertical-align: top;\n",
       "    }\n",
       "\n",
       "    .dataframe thead th {\n",
       "        text-align: right;\n",
       "    }\n",
       "</style>\n",
       "<table border=\"1\" class=\"dataframe\">\n",
       "  <thead>\n",
       "    <tr style=\"text-align: right;\">\n",
       "      <th></th>\n",
       "      <th>Pregnancies</th>\n",
       "      <th>Glucose</th>\n",
       "      <th>BloodPressure</th>\n",
       "      <th>SkinThickness</th>\n",
       "      <th>Insulin</th>\n",
       "      <th>BMI</th>\n",
       "      <th>DiabetesPedigreeFunction</th>\n",
       "      <th>Age</th>\n",
       "      <th>Outcome</th>\n",
       "    </tr>\n",
       "    <tr>\n",
       "      <th>BloodPressure</th>\n",
       "      <th></th>\n",
       "      <th></th>\n",
       "      <th></th>\n",
       "      <th></th>\n",
       "      <th></th>\n",
       "      <th></th>\n",
       "      <th></th>\n",
       "      <th></th>\n",
       "      <th></th>\n",
       "    </tr>\n",
       "  </thead>\n",
       "  <tbody>\n",
       "    <tr>\n",
       "      <th>False</th>\n",
       "      <td>168</td>\n",
       "      <td>168</td>\n",
       "      <td>168</td>\n",
       "      <td>168</td>\n",
       "      <td>168</td>\n",
       "      <td>168</td>\n",
       "      <td>168</td>\n",
       "      <td>168</td>\n",
       "      <td>168</td>\n",
       "    </tr>\n",
       "    <tr>\n",
       "      <th>True</th>\n",
       "      <td>205</td>\n",
       "      <td>205</td>\n",
       "      <td>205</td>\n",
       "      <td>205</td>\n",
       "      <td>205</td>\n",
       "      <td>205</td>\n",
       "      <td>205</td>\n",
       "      <td>205</td>\n",
       "      <td>205</td>\n",
       "    </tr>\n",
       "  </tbody>\n",
       "</table>\n",
       "</div>"
      ],
      "text/plain": [
       "               Pregnancies  Glucose  BloodPressure  SkinThickness  Insulin  \\\n",
       "BloodPressure                                                                \n",
       "False                  168      168            168            168      168   \n",
       "True                   205      205            205            205      205   \n",
       "\n",
       "               BMI  DiabetesPedigreeFunction  Age  Outcome  \n",
       "BloodPressure                                               \n",
       "False          168                       168  168      168  \n",
       "True           205                       205  205      205  "
      ]
     },
     "execution_count": 263,
     "metadata": {},
     "output_type": "execute_result"
    }
   ],
   "source": [
    "high_Q.groupby(high_Q[\"BloodPressure\"]>high_Q[\"BloodPressure\"].mean()).count()"
   ]
  },
  {
   "cell_type": "code",
   "execution_count": 264,
   "id": "815340f8-a566-46f8-8cb1-7289e7d1510d",
   "metadata": {},
   "outputs": [
    {
     "data": {
      "text/plain": [
       "0.5495978552278821"
      ]
     },
     "execution_count": 264,
     "metadata": {},
     "output_type": "execute_result"
    }
   ],
   "source": [
    "205/(168+205)"
   ]
  },
  {
   "cell_type": "markdown",
   "id": "6de05386-71b5-4e51-8146-26d43f9ff124",
   "metadata": {},
   "source": [
    "Of the people with a high BMI, 55% of them have high blood pressure"
   ]
  },
  {
   "cell_type": "markdown",
   "id": "5c957fb9-c79f-4f7f-b0fd-cef057088fe8",
   "metadata": {},
   "source": [
    "There is not a significant correlation between BMI and high blood pressure"
   ]
  },
  {
   "cell_type": "markdown",
   "id": "2bc40ee0-9cbd-451b-ad3a-f3989a570cb5",
   "metadata": {},
   "source": [
    "---\n",
    "\n",
    "## Outcome\n",
    "\n",
    "Analyzing the Outcome variable."
   ]
  },
  {
   "cell_type": "code",
   "execution_count": 163,
   "id": "cdec885f-79cc-4d6a-924d-e36d767c3c62",
   "metadata": {},
   "outputs": [
    {
     "data": {
      "text/plain": [
       "count    768.000000\n",
       "mean       0.348958\n",
       "std        0.476951\n",
       "min        0.000000\n",
       "25%        0.000000\n",
       "50%        0.000000\n",
       "75%        1.000000\n",
       "max        1.000000\n",
       "Name: Outcome, dtype: float64"
      ]
     },
     "execution_count": 163,
     "metadata": {},
     "output_type": "execute_result"
    }
   ],
   "source": [
    "data[\"Outcome\"].describe()"
   ]
  },
  {
   "cell_type": "code",
   "execution_count": 164,
   "id": "eb05b224-d84d-4383-9441-b10906b19128",
   "metadata": {},
   "outputs": [
    {
     "data": {
      "text/plain": [
       "<seaborn.axisgrid.FacetGrid at 0x7fdb9caa9490>"
      ]
     },
     "execution_count": 164,
     "metadata": {},
     "output_type": "execute_result"
    },
    {
     "data": {
      "image/png": "[encoded data removed]",
      "text/plain": [
       "<Figure size 360x360 with 1 Axes>"
      ]
     },
     "metadata": {
      "needs_background": "light"
     },
     "output_type": "display_data"
    }
   ],
   "source": [
    "seaborn.displot(data=data, x=\"Outcome\")"
   ]
  },
  {
   "cell_type": "markdown",
   "id": "4e6ec540-5d57-4fbd-bc5a-6a824608ac90",
   "metadata": {},
   "source": [
    "What is the percentage of people that had an outcome of 1?"
   ]
  },
  {
   "cell_type": "code",
   "execution_count": 185,
   "id": "621e0105-5d29-479c-b02c-727ea18949a8",
   "metadata": {},
   "outputs": [
    {
     "data": {
      "text/html": [
       "<div>\n",
       "<style scoped>\n",
       "    .dataframe tbody tr th:only-of-type {\n",
       "        vertical-align: middle;\n",
       "    }\n",
       "\n",
       "    .dataframe tbody tr th {\n",
       "        vertical-align: top;\n",
       "    }\n",
       "\n",
       "    .dataframe thead th {\n",
       "        text-align: right;\n",
       "    }\n",
       "</style>\n",
       "<table border=\"1\" class=\"dataframe\">\n",
       "  <thead>\n",
       "    <tr style=\"text-align: right;\">\n",
       "      <th></th>\n",
       "      <th>Pregnancies</th>\n",
       "      <th>Glucose</th>\n",
       "      <th>BloodPressure</th>\n",
       "      <th>SkinThickness</th>\n",
       "      <th>Insulin</th>\n",
       "      <th>BMI</th>\n",
       "      <th>DiabetesPedigreeFunction</th>\n",
       "      <th>Age</th>\n",
       "      <th>Outcome</th>\n",
       "    </tr>\n",
       "    <tr>\n",
       "      <th>Outcome</th>\n",
       "      <th></th>\n",
       "      <th></th>\n",
       "      <th></th>\n",
       "      <th></th>\n",
       "      <th></th>\n",
       "      <th></th>\n",
       "      <th></th>\n",
       "      <th></th>\n",
       "      <th></th>\n",
       "    </tr>\n",
       "  </thead>\n",
       "  <tbody>\n",
       "    <tr>\n",
       "      <th>False</th>\n",
       "      <td>500</td>\n",
       "      <td>500</td>\n",
       "      <td>500</td>\n",
       "      <td>500</td>\n",
       "      <td>500</td>\n",
       "      <td>500</td>\n",
       "      <td>500</td>\n",
       "      <td>500</td>\n",
       "      <td>500</td>\n",
       "    </tr>\n",
       "    <tr>\n",
       "      <th>True</th>\n",
       "      <td>268</td>\n",
       "      <td>268</td>\n",
       "      <td>268</td>\n",
       "      <td>268</td>\n",
       "      <td>268</td>\n",
       "      <td>268</td>\n",
       "      <td>268</td>\n",
       "      <td>268</td>\n",
       "      <td>268</td>\n",
       "    </tr>\n",
       "  </tbody>\n",
       "</table>\n",
       "</div>"
      ],
      "text/plain": [
       "         Pregnancies  Glucose  BloodPressure  SkinThickness  Insulin  BMI  \\\n",
       "Outcome                                                                     \n",
       "False            500      500            500            500      500  500   \n",
       "True             268      268            268            268      268  268   \n",
       "\n",
       "         DiabetesPedigreeFunction  Age  Outcome  \n",
       "Outcome                                          \n",
       "False                         500  500      500  \n",
       "True                          268  268      268  "
      ]
     },
     "execution_count": 185,
     "metadata": {},
     "output_type": "execute_result"
    }
   ],
   "source": [
    "data.groupby(data[\"Outcome\"]==1).count()"
   ]
  },
  {
   "cell_type": "code",
   "execution_count": 186,
   "id": "4f4451ee-9fd0-4a4e-8af7-062c801bd235",
   "metadata": {},
   "outputs": [
    {
     "data": {
      "text/plain": [
       "0.3489583333333333"
      ]
     },
     "execution_count": 186,
     "metadata": {},
     "output_type": "execute_result"
    }
   ],
   "source": [
    "268/768"
   ]
  },
  {
   "cell_type": "markdown",
   "id": "3485bfbf-e5b7-4965-8c5c-9696bb9f007f",
   "metadata": {},
   "source": [
    "Only about 35% of people tested positive for diabetes"
   ]
  },
  {
   "cell_type": "code",
   "execution_count": 197,
   "id": "10021c88-3732-4268-9f42-6d0056fe4324",
   "metadata": {},
   "outputs": [
    {
     "data": {
      "text/plain": [
       "<seaborn.axisgrid.FacetGrid at 0x7fdb9e1eb820>"
      ]
     },
     "execution_count": 197,
     "metadata": {},
     "output_type": "execute_result"
    },
    {
     "data": {
      "image/png": "[encoded data removed]",
      "text/plain": [
       "<Figure size 360x360 with 1 Axes>"
      ]
     },
     "metadata": {
      "needs_background": "light"
     },
     "output_type": "display_data"
    }
   ],
   "source": [
    "seaborn.catplot(data=data, x=\"Outcome\", y=\"Age\", kind=\"box\")"
   ]
  },
  {
   "cell_type": "markdown",
   "id": "73b3b1be-9a72-4cf9-94c6-27c5a3e338e4",
   "metadata": {},
   "source": [
    "On Average, people who were younger did not test positive for diabetes, compared to people who were older."
   ]
  },
  {
   "cell_type": "code",
   "execution_count": 199,
   "id": "44289a2a-7b33-458d-874d-1e362e144a39",
   "metadata": {},
   "outputs": [
    {
     "data": {
      "text/plain": [
       "37.06716417910448"
      ]
     },
     "execution_count": 199,
     "metadata": {},
     "output_type": "execute_result"
    }
   ],
   "source": [
    "diab=(data[\"Outcome\"]==1)\n",
    "not_diab=(data[\"Outcome\"]==0)\n",
    "data[diab][\"Age\"].mean()"
   ]
  },
  {
   "cell_type": "markdown",
   "id": "79e25fdb-9138-4b7b-a2de-a5f4aefeee50",
   "metadata": {},
   "source": [
    "The average age of someone diagnosed with diabetes is 37"
   ]
  },
  {
   "cell_type": "markdown",
   "id": "5a137564-fc57-4852-b412-bb77348fb02e",
   "metadata": {},
   "source": [
    "What about average Glucose?"
   ]
  },
  {
   "cell_type": "code",
   "execution_count": 198,
   "id": "bcd85a28-d253-46c1-99a9-cd76aadb9a77",
   "metadata": {},
   "outputs": [
    {
     "data": {
      "text/plain": [
       "141.25746268656715"
      ]
     },
     "execution_count": 198,
     "metadata": {},
     "output_type": "execute_result"
    }
   ],
   "source": [
    "data[diab][\"Glucose\"].mean()"
   ]
  },
  {
   "cell_type": "code",
   "execution_count": 200,
   "id": "a9430df4-8823-48b6-b9e9-ffa5e5977ab1",
   "metadata": {},
   "outputs": [
    {
     "data": {
      "text/plain": [
       "109.98"
      ]
     },
     "execution_count": 200,
     "metadata": {},
     "output_type": "execute_result"
    }
   ],
   "source": [
    "data[not_diab][\"Glucose\"].mean()"
   ]
  },
  {
   "cell_type": "markdown",
   "id": "1c45c46e-aa51-4b9c-8c17-74095d97334e",
   "metadata": {},
   "source": [
    "The average glucose of someone who tested positive for diabetes is much higher than someone who tested negative"
   ]
  },
  {
   "cell_type": "markdown",
   "id": "c6a0aa30-c867-4f30-af10-f25c0333cc0e",
   "metadata": {},
   "source": [
    "---\n",
    "\n",
    "## Which variable correlates most with Outcome?"
   ]
  },
  {
   "cell_type": "markdown",
   "id": "bd8a26c2-d949-4151-84fe-d07ebcf28119",
   "metadata": {},
   "source": [
    "I have already established that high Glucose results in an outcome of 1. Let's see what the percentage is. "
   ]
  },
  {
   "cell_type": "markdown",
   "id": "68a0b8fb-c76f-428a-bc0f-e5204a882432",
   "metadata": {},
   "source": [
    "## Glucose"
   ]
  },
  {
   "cell_type": "code",
   "execution_count": 203,
   "id": "a922984f-b9ce-4f08-98f8-a2f96c0e8b86",
   "metadata": {},
   "outputs": [
    {
     "data": {
      "text/html": [
       "<div>\n",
       "<style scoped>\n",
       "    .dataframe tbody tr th:only-of-type {\n",
       "        vertical-align: middle;\n",
       "    }\n",
       "\n",
       "    .dataframe tbody tr th {\n",
       "        vertical-align: top;\n",
       "    }\n",
       "\n",
       "    .dataframe thead th {\n",
       "        text-align: right;\n",
       "    }\n",
       "</style>\n",
       "<table border=\"1\" class=\"dataframe\">\n",
       "  <thead>\n",
       "    <tr style=\"text-align: right;\">\n",
       "      <th></th>\n",
       "      <th>Pregnancies</th>\n",
       "      <th>Glucose</th>\n",
       "      <th>BloodPressure</th>\n",
       "      <th>SkinThickness</th>\n",
       "      <th>Insulin</th>\n",
       "      <th>BMI</th>\n",
       "      <th>DiabetesPedigreeFunction</th>\n",
       "      <th>Age</th>\n",
       "      <th>Outcome</th>\n",
       "    </tr>\n",
       "    <tr>\n",
       "      <th>Glucose</th>\n",
       "      <th></th>\n",
       "      <th></th>\n",
       "      <th></th>\n",
       "      <th></th>\n",
       "      <th></th>\n",
       "      <th></th>\n",
       "      <th></th>\n",
       "      <th></th>\n",
       "      <th></th>\n",
       "    </tr>\n",
       "  </thead>\n",
       "  <tbody>\n",
       "    <tr>\n",
       "      <th>False</th>\n",
       "      <td>73</td>\n",
       "      <td>73</td>\n",
       "      <td>73</td>\n",
       "      <td>73</td>\n",
       "      <td>73</td>\n",
       "      <td>73</td>\n",
       "      <td>73</td>\n",
       "      <td>73</td>\n",
       "      <td>73</td>\n",
       "    </tr>\n",
       "    <tr>\n",
       "      <th>True</th>\n",
       "      <td>195</td>\n",
       "      <td>195</td>\n",
       "      <td>195</td>\n",
       "      <td>195</td>\n",
       "      <td>195</td>\n",
       "      <td>195</td>\n",
       "      <td>195</td>\n",
       "      <td>195</td>\n",
       "      <td>195</td>\n",
       "    </tr>\n",
       "  </tbody>\n",
       "</table>\n",
       "</div>"
      ],
      "text/plain": [
       "         Pregnancies  Glucose  BloodPressure  SkinThickness  Insulin  BMI  \\\n",
       "Glucose                                                                     \n",
       "False             73       73             73             73       73   73   \n",
       "True             195      195            195            195      195  195   \n",
       "\n",
       "         DiabetesPedigreeFunction  Age  Outcome  \n",
       "Glucose                                          \n",
       "False                          73   73       73  \n",
       "True                          195  195      195  "
      ]
     },
     "execution_count": 203,
     "metadata": {},
     "output_type": "execute_result"
    }
   ],
   "source": [
    "data[diab].groupby(data[\"Glucose\"]>data[\"Glucose\"].mean()).count()"
   ]
  },
  {
   "cell_type": "code",
   "execution_count": 205,
   "id": "37b22513-6227-4dfa-a0d2-b64a162c6ec9",
   "metadata": {},
   "outputs": [
    {
     "data": {
      "text/plain": [
       "0.7330827067669173"
      ]
     },
     "execution_count": 205,
     "metadata": {},
     "output_type": "execute_result"
    }
   ],
   "source": [
    "195/(73+193)"
   ]
  },
  {
   "cell_type": "markdown",
   "id": "4b2108dd-894f-4d6f-b3d9-219f2a28d6b8",
   "metadata": {},
   "source": [
    "Of those who tested positive for diabetes, 73% of them have high Glucose"
   ]
  },
  {
   "cell_type": "code",
   "execution_count": 207,
   "id": "2ba087f6-d3dc-4cfa-9c88-739b1618fdd3",
   "metadata": {},
   "outputs": [
    {
     "data": {
      "text/html": [
       "<div>\n",
       "<style scoped>\n",
       "    .dataframe tbody tr th:only-of-type {\n",
       "        vertical-align: middle;\n",
       "    }\n",
       "\n",
       "    .dataframe tbody tr th {\n",
       "        vertical-align: top;\n",
       "    }\n",
       "\n",
       "    .dataframe thead th {\n",
       "        text-align: right;\n",
       "    }\n",
       "</style>\n",
       "<table border=\"1\" class=\"dataframe\">\n",
       "  <thead>\n",
       "    <tr style=\"text-align: right;\">\n",
       "      <th></th>\n",
       "      <th>Pregnancies</th>\n",
       "      <th>Glucose</th>\n",
       "      <th>BloodPressure</th>\n",
       "      <th>SkinThickness</th>\n",
       "      <th>Insulin</th>\n",
       "      <th>BMI</th>\n",
       "      <th>DiabetesPedigreeFunction</th>\n",
       "      <th>Age</th>\n",
       "      <th>Outcome</th>\n",
       "    </tr>\n",
       "    <tr>\n",
       "      <th>Glucose</th>\n",
       "      <th></th>\n",
       "      <th></th>\n",
       "      <th></th>\n",
       "      <th></th>\n",
       "      <th></th>\n",
       "      <th></th>\n",
       "      <th></th>\n",
       "      <th></th>\n",
       "      <th></th>\n",
       "    </tr>\n",
       "  </thead>\n",
       "  <tbody>\n",
       "    <tr>\n",
       "      <th>False</th>\n",
       "      <td>346</td>\n",
       "      <td>346</td>\n",
       "      <td>346</td>\n",
       "      <td>346</td>\n",
       "      <td>346</td>\n",
       "      <td>346</td>\n",
       "      <td>346</td>\n",
       "      <td>346</td>\n",
       "      <td>346</td>\n",
       "    </tr>\n",
       "    <tr>\n",
       "      <th>True</th>\n",
       "      <td>154</td>\n",
       "      <td>154</td>\n",
       "      <td>154</td>\n",
       "      <td>154</td>\n",
       "      <td>154</td>\n",
       "      <td>154</td>\n",
       "      <td>154</td>\n",
       "      <td>154</td>\n",
       "      <td>154</td>\n",
       "    </tr>\n",
       "  </tbody>\n",
       "</table>\n",
       "</div>"
      ],
      "text/plain": [
       "         Pregnancies  Glucose  BloodPressure  SkinThickness  Insulin  BMI  \\\n",
       "Glucose                                                                     \n",
       "False            346      346            346            346      346  346   \n",
       "True             154      154            154            154      154  154   \n",
       "\n",
       "         DiabetesPedigreeFunction  Age  Outcome  \n",
       "Glucose                                          \n",
       "False                         346  346      346  \n",
       "True                          154  154      154  "
      ]
     },
     "execution_count": 207,
     "metadata": {},
     "output_type": "execute_result"
    }
   ],
   "source": [
    "data[not_diab].groupby(data[\"Glucose\"]>data[\"Glucose\"].mean()).count()"
   ]
  },
  {
   "cell_type": "code",
   "execution_count": 208,
   "id": "9dc32c96-860e-438d-8f1c-569eab0ab13c",
   "metadata": {},
   "outputs": [
    {
     "data": {
      "text/plain": [
       "0.308"
      ]
     },
     "execution_count": 208,
     "metadata": {},
     "output_type": "execute_result"
    }
   ],
   "source": [
    "154/(154+346)"
   ]
  },
  {
   "cell_type": "markdown",
   "id": "4ff4bf2b-0e7e-4c51-a6fb-fd778c31bbe0",
   "metadata": {},
   "source": [
    "Of those who did not test positive for diabetes, 31% of them had high Glucose. This means that high Glucose levels is a very good indicator of diabetes"
   ]
  },
  {
   "cell_type": "markdown",
   "id": "1823e58d-8e80-4e6e-8d80-68bba97605d9",
   "metadata": {},
   "source": [
    "## Pregnancies"
   ]
  },
  {
   "cell_type": "markdown",
   "id": "0bd02d52-19fb-442d-986c-fd5631b7703f",
   "metadata": {},
   "source": [
    "Now, let's look at Pregnancies"
   ]
  },
  {
   "cell_type": "code",
   "execution_count": 209,
   "id": "828d24a7-4cad-40d9-b05f-bedde59ffe53",
   "metadata": {},
   "outputs": [
    {
     "data": {
      "text/plain": [
       "4.865671641791045"
      ]
     },
     "execution_count": 209,
     "metadata": {},
     "output_type": "execute_result"
    }
   ],
   "source": [
    "data[diab][\"Pregnancies\"].mean()"
   ]
  },
  {
   "cell_type": "code",
   "execution_count": 210,
   "id": "0cc8caf5-d532-47fa-b24b-d5c0347f2b4e",
   "metadata": {},
   "outputs": [
    {
     "data": {
      "text/plain": [
       "3.298"
      ]
     },
     "execution_count": 210,
     "metadata": {},
     "output_type": "execute_result"
    }
   ],
   "source": [
    "data[not_diab][\"Pregnancies\"].mean()"
   ]
  },
  {
   "cell_type": "markdown",
   "id": "6a6cdb4a-2537-41f3-9db1-fde00cec305e",
   "metadata": {},
   "source": [
    "Looks like people who have had more pregnancies test positive for diabetes. Let's look at the percentages."
   ]
  },
  {
   "cell_type": "code",
   "execution_count": 211,
   "id": "77776d83-9dac-4724-9fa8-d321bfa8d6ba",
   "metadata": {},
   "outputs": [
    {
     "data": {
      "text/html": [
       "<div>\n",
       "<style scoped>\n",
       "    .dataframe tbody tr th:only-of-type {\n",
       "        vertical-align: middle;\n",
       "    }\n",
       "\n",
       "    .dataframe tbody tr th {\n",
       "        vertical-align: top;\n",
       "    }\n",
       "\n",
       "    .dataframe thead th {\n",
       "        text-align: right;\n",
       "    }\n",
       "</style>\n",
       "<table border=\"1\" class=\"dataframe\">\n",
       "  <thead>\n",
       "    <tr style=\"text-align: right;\">\n",
       "      <th></th>\n",
       "      <th>Pregnancies</th>\n",
       "      <th>Glucose</th>\n",
       "      <th>BloodPressure</th>\n",
       "      <th>SkinThickness</th>\n",
       "      <th>Insulin</th>\n",
       "      <th>BMI</th>\n",
       "      <th>DiabetesPedigreeFunction</th>\n",
       "      <th>Age</th>\n",
       "      <th>Outcome</th>\n",
       "    </tr>\n",
       "    <tr>\n",
       "      <th>Pregnancies</th>\n",
       "      <th></th>\n",
       "      <th></th>\n",
       "      <th></th>\n",
       "      <th></th>\n",
       "      <th></th>\n",
       "      <th></th>\n",
       "      <th></th>\n",
       "      <th></th>\n",
       "      <th></th>\n",
       "    </tr>\n",
       "  </thead>\n",
       "  <tbody>\n",
       "    <tr>\n",
       "      <th>False</th>\n",
       "      <td>113</td>\n",
       "      <td>113</td>\n",
       "      <td>113</td>\n",
       "      <td>113</td>\n",
       "      <td>113</td>\n",
       "      <td>113</td>\n",
       "      <td>113</td>\n",
       "      <td>113</td>\n",
       "      <td>113</td>\n",
       "    </tr>\n",
       "    <tr>\n",
       "      <th>True</th>\n",
       "      <td>155</td>\n",
       "      <td>155</td>\n",
       "      <td>155</td>\n",
       "      <td>155</td>\n",
       "      <td>155</td>\n",
       "      <td>155</td>\n",
       "      <td>155</td>\n",
       "      <td>155</td>\n",
       "      <td>155</td>\n",
       "    </tr>\n",
       "  </tbody>\n",
       "</table>\n",
       "</div>"
      ],
      "text/plain": [
       "             Pregnancies  Glucose  BloodPressure  SkinThickness  Insulin  BMI  \\\n",
       "Pregnancies                                                                     \n",
       "False                113      113            113            113      113  113   \n",
       "True                 155      155            155            155      155  155   \n",
       "\n",
       "             DiabetesPedigreeFunction  Age  Outcome  \n",
       "Pregnancies                                          \n",
       "False                             113  113      113  \n",
       "True                              155  155      155  "
      ]
     },
     "execution_count": 211,
     "metadata": {},
     "output_type": "execute_result"
    }
   ],
   "source": [
    "data[diab].groupby(data[\"Pregnancies\"]>data[\"Pregnancies\"].mean()).count()"
   ]
  },
  {
   "cell_type": "code",
   "execution_count": 213,
   "id": "7006f396-9649-4916-a6f7-dcb17d9f4953",
   "metadata": {},
   "outputs": [
    {
     "data": {
      "text/plain": [
       "0.5381944444444444"
      ]
     },
     "execution_count": 213,
     "metadata": {},
     "output_type": "execute_result"
    }
   ],
   "source": [
    "155/(133+155)"
   ]
  },
  {
   "cell_type": "markdown",
   "id": "ea947518-aeb3-4d42-af45-ec63b89c8485",
   "metadata": {},
   "source": [
    "Of those who tested positive for diabetes, 54% of them had more pregnancies than the average woman"
   ]
  },
  {
   "cell_type": "code",
   "execution_count": 212,
   "id": "27d08c66-1851-4133-a850-5dff1b668397",
   "metadata": {},
   "outputs": [
    {
     "data": {
      "text/html": [
       "<div>\n",
       "<style scoped>\n",
       "    .dataframe tbody tr th:only-of-type {\n",
       "        vertical-align: middle;\n",
       "    }\n",
       "\n",
       "    .dataframe tbody tr th {\n",
       "        vertical-align: top;\n",
       "    }\n",
       "\n",
       "    .dataframe thead th {\n",
       "        text-align: right;\n",
       "    }\n",
       "</style>\n",
       "<table border=\"1\" class=\"dataframe\">\n",
       "  <thead>\n",
       "    <tr style=\"text-align: right;\">\n",
       "      <th></th>\n",
       "      <th>Pregnancies</th>\n",
       "      <th>Glucose</th>\n",
       "      <th>BloodPressure</th>\n",
       "      <th>SkinThickness</th>\n",
       "      <th>Insulin</th>\n",
       "      <th>BMI</th>\n",
       "      <th>DiabetesPedigreeFunction</th>\n",
       "      <th>Age</th>\n",
       "      <th>Outcome</th>\n",
       "    </tr>\n",
       "    <tr>\n",
       "      <th>Pregnancies</th>\n",
       "      <th></th>\n",
       "      <th></th>\n",
       "      <th></th>\n",
       "      <th></th>\n",
       "      <th></th>\n",
       "      <th></th>\n",
       "      <th></th>\n",
       "      <th></th>\n",
       "      <th></th>\n",
       "    </tr>\n",
       "  </thead>\n",
       "  <tbody>\n",
       "    <tr>\n",
       "      <th>False</th>\n",
       "      <td>311</td>\n",
       "      <td>311</td>\n",
       "      <td>311</td>\n",
       "      <td>311</td>\n",
       "      <td>311</td>\n",
       "      <td>311</td>\n",
       "      <td>311</td>\n",
       "      <td>311</td>\n",
       "      <td>311</td>\n",
       "    </tr>\n",
       "    <tr>\n",
       "      <th>True</th>\n",
       "      <td>189</td>\n",
       "      <td>189</td>\n",
       "      <td>189</td>\n",
       "      <td>189</td>\n",
       "      <td>189</td>\n",
       "      <td>189</td>\n",
       "      <td>189</td>\n",
       "      <td>189</td>\n",
       "      <td>189</td>\n",
       "    </tr>\n",
       "  </tbody>\n",
       "</table>\n",
       "</div>"
      ],
      "text/plain": [
       "             Pregnancies  Glucose  BloodPressure  SkinThickness  Insulin  BMI  \\\n",
       "Pregnancies                                                                     \n",
       "False                311      311            311            311      311  311   \n",
       "True                 189      189            189            189      189  189   \n",
       "\n",
       "             DiabetesPedigreeFunction  Age  Outcome  \n",
       "Pregnancies                                          \n",
       "False                             311  311      311  \n",
       "True                              189  189      189  "
      ]
     },
     "execution_count": 212,
     "metadata": {},
     "output_type": "execute_result"
    }
   ],
   "source": [
    "data[not_diab].groupby(data[\"Pregnancies\"]>data[\"Pregnancies\"].mean()).count()"
   ]
  },
  {
   "cell_type": "code",
   "execution_count": 214,
   "id": "3660c34f-ce34-4c90-93c4-4f072b8147a0",
   "metadata": {},
   "outputs": [
    {
     "data": {
      "text/plain": [
       "0.378"
      ]
     },
     "execution_count": 214,
     "metadata": {},
     "output_type": "execute_result"
    }
   ],
   "source": [
    "189/(189+311)"
   ]
  },
  {
   "cell_type": "markdown",
   "id": "ba61e28a-2028-4a18-bc84-f4d2a1b419fd",
   "metadata": {},
   "source": [
    "Of those who did not test positive for diabetes, 38% of them did not have more pregnancies than average. This means number of pregnancies is a good indicator for whether or not someone is more likely to have diabetes, but not as much as Glucose"
   ]
  },
  {
   "cell_type": "markdown",
   "id": "4e64d4c4-e985-436b-b4e2-93a8ae06ef17",
   "metadata": {},
   "source": [
    "## BMI"
   ]
  },
  {
   "cell_type": "code",
   "execution_count": 217,
   "id": "06451106-30b4-4a23-ac69-9c2a8ec09092",
   "metadata": {},
   "outputs": [
    {
     "data": {
      "text/plain": [
       "35.14253731343278"
      ]
     },
     "execution_count": 217,
     "metadata": {},
     "output_type": "execute_result"
    }
   ],
   "source": [
    "data[diab][\"BMI\"].mean()"
   ]
  },
  {
   "cell_type": "code",
   "execution_count": 218,
   "id": "7e62b55e-85ea-433e-8129-7bdf433e2d02",
   "metadata": {},
   "outputs": [
    {
     "data": {
      "text/plain": [
       "30.30419999999996"
      ]
     },
     "execution_count": 218,
     "metadata": {},
     "output_type": "execute_result"
    }
   ],
   "source": [
    "data[not_diab][\"BMI\"].mean()"
   ]
  },
  {
   "cell_type": "markdown",
   "id": "9c5d0f7a-b8e7-40b4-adb2-657ae03d7ca6",
   "metadata": {},
   "source": [
    "BMI is a little higher in people who tested positive for diabetes, but not much. Let's look at the percentages. "
   ]
  },
  {
   "cell_type": "code",
   "execution_count": 219,
   "id": "95f7a6d1-2f93-450d-bb3e-522f24bcbc4b",
   "metadata": {},
   "outputs": [
    {
     "data": {
      "text/html": [
       "<div>\n",
       "<style scoped>\n",
       "    .dataframe tbody tr th:only-of-type {\n",
       "        vertical-align: middle;\n",
       "    }\n",
       "\n",
       "    .dataframe tbody tr th {\n",
       "        vertical-align: top;\n",
       "    }\n",
       "\n",
       "    .dataframe thead th {\n",
       "        text-align: right;\n",
       "    }\n",
       "</style>\n",
       "<table border=\"1\" class=\"dataframe\">\n",
       "  <thead>\n",
       "    <tr style=\"text-align: right;\">\n",
       "      <th></th>\n",
       "      <th>Pregnancies</th>\n",
       "      <th>Glucose</th>\n",
       "      <th>BloodPressure</th>\n",
       "      <th>SkinThickness</th>\n",
       "      <th>Insulin</th>\n",
       "      <th>BMI</th>\n",
       "      <th>DiabetesPedigreeFunction</th>\n",
       "      <th>Age</th>\n",
       "      <th>Outcome</th>\n",
       "    </tr>\n",
       "    <tr>\n",
       "      <th>BMI</th>\n",
       "      <th></th>\n",
       "      <th></th>\n",
       "      <th></th>\n",
       "      <th></th>\n",
       "      <th></th>\n",
       "      <th></th>\n",
       "      <th></th>\n",
       "      <th></th>\n",
       "      <th></th>\n",
       "    </tr>\n",
       "  </thead>\n",
       "  <tbody>\n",
       "    <tr>\n",
       "      <th>False</th>\n",
       "      <td>84</td>\n",
       "      <td>84</td>\n",
       "      <td>84</td>\n",
       "      <td>84</td>\n",
       "      <td>84</td>\n",
       "      <td>84</td>\n",
       "      <td>84</td>\n",
       "      <td>84</td>\n",
       "      <td>84</td>\n",
       "    </tr>\n",
       "    <tr>\n",
       "      <th>True</th>\n",
       "      <td>184</td>\n",
       "      <td>184</td>\n",
       "      <td>184</td>\n",
       "      <td>184</td>\n",
       "      <td>184</td>\n",
       "      <td>184</td>\n",
       "      <td>184</td>\n",
       "      <td>184</td>\n",
       "      <td>184</td>\n",
       "    </tr>\n",
       "  </tbody>\n",
       "</table>\n",
       "</div>"
      ],
      "text/plain": [
       "       Pregnancies  Glucose  BloodPressure  SkinThickness  Insulin  BMI  \\\n",
       "BMI                                                                       \n",
       "False           84       84             84             84       84   84   \n",
       "True           184      184            184            184      184  184   \n",
       "\n",
       "       DiabetesPedigreeFunction  Age  Outcome  \n",
       "BMI                                            \n",
       "False                        84   84       84  \n",
       "True                        184  184      184  "
      ]
     },
     "execution_count": 219,
     "metadata": {},
     "output_type": "execute_result"
    }
   ],
   "source": [
    "data[diab].groupby(data[\"BMI\"]>data[\"BMI\"].mean()).count()"
   ]
  },
  {
   "cell_type": "code",
   "execution_count": 220,
   "id": "a3944e0a-8fc8-46a8-8f84-4efa1ea1fc3b",
   "metadata": {},
   "outputs": [
    {
     "data": {
      "text/plain": [
       "0.6865671641791045"
      ]
     },
     "execution_count": 220,
     "metadata": {},
     "output_type": "execute_result"
    }
   ],
   "source": [
    "184/(184+84)"
   ]
  },
  {
   "cell_type": "markdown",
   "id": "9745cc62-1a3d-4c72-bcf1-b84d2a67cfa2",
   "metadata": {},
   "source": [
    "Of the people who tested positive for diabetes, 69% of them had an above average BMI"
   ]
  },
  {
   "cell_type": "code",
   "execution_count": 222,
   "id": "76a0ff9a-cfe4-464f-9c2d-35d1cc8f9bae",
   "metadata": {},
   "outputs": [
    {
     "data": {
      "text/html": [
       "<div>\n",
       "<style scoped>\n",
       "    .dataframe tbody tr th:only-of-type {\n",
       "        vertical-align: middle;\n",
       "    }\n",
       "\n",
       "    .dataframe tbody tr th {\n",
       "        vertical-align: top;\n",
       "    }\n",
       "\n",
       "    .dataframe thead th {\n",
       "        text-align: right;\n",
       "    }\n",
       "</style>\n",
       "<table border=\"1\" class=\"dataframe\">\n",
       "  <thead>\n",
       "    <tr style=\"text-align: right;\">\n",
       "      <th></th>\n",
       "      <th>Pregnancies</th>\n",
       "      <th>Glucose</th>\n",
       "      <th>BloodPressure</th>\n",
       "      <th>SkinThickness</th>\n",
       "      <th>Insulin</th>\n",
       "      <th>BMI</th>\n",
       "      <th>DiabetesPedigreeFunction</th>\n",
       "      <th>Age</th>\n",
       "      <th>Outcome</th>\n",
       "    </tr>\n",
       "    <tr>\n",
       "      <th>BMI</th>\n",
       "      <th></th>\n",
       "      <th></th>\n",
       "      <th></th>\n",
       "      <th></th>\n",
       "      <th></th>\n",
       "      <th></th>\n",
       "      <th></th>\n",
       "      <th></th>\n",
       "      <th></th>\n",
       "    </tr>\n",
       "  </thead>\n",
       "  <tbody>\n",
       "    <tr>\n",
       "      <th>False</th>\n",
       "      <td>289</td>\n",
       "      <td>289</td>\n",
       "      <td>289</td>\n",
       "      <td>289</td>\n",
       "      <td>289</td>\n",
       "      <td>289</td>\n",
       "      <td>289</td>\n",
       "      <td>289</td>\n",
       "      <td>289</td>\n",
       "    </tr>\n",
       "    <tr>\n",
       "      <th>True</th>\n",
       "      <td>211</td>\n",
       "      <td>211</td>\n",
       "      <td>211</td>\n",
       "      <td>211</td>\n",
       "      <td>211</td>\n",
       "      <td>211</td>\n",
       "      <td>211</td>\n",
       "      <td>211</td>\n",
       "      <td>211</td>\n",
       "    </tr>\n",
       "  </tbody>\n",
       "</table>\n",
       "</div>"
      ],
      "text/plain": [
       "       Pregnancies  Glucose  BloodPressure  SkinThickness  Insulin  BMI  \\\n",
       "BMI                                                                       \n",
       "False          289      289            289            289      289  289   \n",
       "True           211      211            211            211      211  211   \n",
       "\n",
       "       DiabetesPedigreeFunction  Age  Outcome  \n",
       "BMI                                            \n",
       "False                       289  289      289  \n",
       "True                        211  211      211  "
      ]
     },
     "execution_count": 222,
     "metadata": {},
     "output_type": "execute_result"
    }
   ],
   "source": [
    "data[not_diab].groupby(data[\"BMI\"]>data[\"BMI\"].mean()).count()"
   ]
  },
  {
   "cell_type": "code",
   "execution_count": 223,
   "id": "2a0da6e0-ae71-4493-9db6-f57175ba25b4",
   "metadata": {},
   "outputs": [
    {
     "data": {
      "text/plain": [
       "0.422"
      ]
     },
     "execution_count": 223,
     "metadata": {},
     "output_type": "execute_result"
    }
   ],
   "source": [
    "211/(289+211)"
   ]
  },
  {
   "cell_type": "markdown",
   "id": "e726327d-a231-4f9f-a7dd-9f1791449328",
   "metadata": {},
   "source": [
    "Of people who did not test positive for diabetes, 42% of them had an above average BMI"
   ]
  },
  {
   "cell_type": "markdown",
   "id": "3b8485e0-1ba3-476b-a2a9-dab8dd1b9970",
   "metadata": {},
   "source": [
    "So having a high BMI is a good indicator of testing positive for diabetes, but not as much as Glucose"
   ]
  },
  {
   "cell_type": "markdown",
   "id": "a7afbe47-acc8-4a8e-b5cb-6ded9bae2198",
   "metadata": {},
   "source": [
    "## Conclusion"
   ]
  },
  {
   "cell_type": "markdown",
   "id": "af699e09-986c-4504-8694-9b021cf9d751",
   "metadata": {},
   "source": [
    "Of the three variables, Glucose correlates the most with an Outcome of 1, or testing positive for diabetes"
   ]
  },
  {
   "cell_type": "markdown",
   "id": "918dfa99-5b43-40d8-b6b7-57133030551c",
   "metadata": {},
   "source": [
    "---\n",
    "\n",
    "\n",
    "\n",
    "**Selecting all patients whose BMI's and Glucose levels are 2 standard deviations higher than average**\n"
   ]
  },
  {
   "cell_type": "code",
   "execution_count": 265,
   "id": "fbdc9450-7c92-46b2-9ab2-aff6b0ccd0c1",
   "metadata": {},
   "outputs": [
    {
     "data": {
      "text/html": [
       "<div>\n",
       "<style scoped>\n",
       "    .dataframe tbody tr th:only-of-type {\n",
       "        vertical-align: middle;\n",
       "    }\n",
       "\n",
       "    .dataframe tbody tr th {\n",
       "        vertical-align: top;\n",
       "    }\n",
       "\n",
       "    .dataframe thead th {\n",
       "        text-align: right;\n",
       "    }\n",
       "</style>\n",
       "<table border=\"1\" class=\"dataframe\">\n",
       "  <thead>\n",
       "    <tr style=\"text-align: right;\">\n",
       "      <th></th>\n",
       "      <th>Pregnancies</th>\n",
       "      <th>Glucose</th>\n",
       "      <th>BloodPressure</th>\n",
       "      <th>SkinThickness</th>\n",
       "      <th>Insulin</th>\n",
       "      <th>BMI</th>\n",
       "      <th>DiabetesPedigreeFunction</th>\n",
       "      <th>Age</th>\n",
       "      <th>Outcome</th>\n",
       "    </tr>\n",
       "  </thead>\n",
       "  <tbody>\n",
       "    <tr>\n",
       "      <th>84</th>\n",
       "      <td>5</td>\n",
       "      <td>137</td>\n",
       "      <td>108</td>\n",
       "      <td>0</td>\n",
       "      <td>0</td>\n",
       "      <td>48.8</td>\n",
       "      <td>0.227</td>\n",
       "      <td>37</td>\n",
       "      <td>1</td>\n",
       "    </tr>\n",
       "    <tr>\n",
       "      <th>99</th>\n",
       "      <td>1</td>\n",
       "      <td>122</td>\n",
       "      <td>90</td>\n",
       "      <td>51</td>\n",
       "      <td>220</td>\n",
       "      <td>49.7</td>\n",
       "      <td>0.325</td>\n",
       "      <td>31</td>\n",
       "      <td>1</td>\n",
       "    </tr>\n",
       "    <tr>\n",
       "      <th>120</th>\n",
       "      <td>0</td>\n",
       "      <td>162</td>\n",
       "      <td>76</td>\n",
       "      <td>56</td>\n",
       "      <td>100</td>\n",
       "      <td>53.2</td>\n",
       "      <td>0.759</td>\n",
       "      <td>25</td>\n",
       "      <td>1</td>\n",
       "    </tr>\n",
       "    <tr>\n",
       "      <th>125</th>\n",
       "      <td>1</td>\n",
       "      <td>88</td>\n",
       "      <td>30</td>\n",
       "      <td>42</td>\n",
       "      <td>99</td>\n",
       "      <td>55.0</td>\n",
       "      <td>0.496</td>\n",
       "      <td>26</td>\n",
       "      <td>1</td>\n",
       "    </tr>\n",
       "    <tr>\n",
       "      <th>154</th>\n",
       "      <td>8</td>\n",
       "      <td>188</td>\n",
       "      <td>78</td>\n",
       "      <td>0</td>\n",
       "      <td>0</td>\n",
       "      <td>47.9</td>\n",
       "      <td>0.137</td>\n",
       "      <td>43</td>\n",
       "      <td>1</td>\n",
       "    </tr>\n",
       "    <tr>\n",
       "      <th>155</th>\n",
       "      <td>7</td>\n",
       "      <td>152</td>\n",
       "      <td>88</td>\n",
       "      <td>44</td>\n",
       "      <td>0</td>\n",
       "      <td>50.0</td>\n",
       "      <td>0.337</td>\n",
       "      <td>36</td>\n",
       "      <td>1</td>\n",
       "    </tr>\n",
       "    <tr>\n",
       "      <th>177</th>\n",
       "      <td>0</td>\n",
       "      <td>129</td>\n",
       "      <td>110</td>\n",
       "      <td>46</td>\n",
       "      <td>130</td>\n",
       "      <td>67.1</td>\n",
       "      <td>0.319</td>\n",
       "      <td>26</td>\n",
       "      <td>1</td>\n",
       "    </tr>\n",
       "    <tr>\n",
       "      <th>193</th>\n",
       "      <td>11</td>\n",
       "      <td>135</td>\n",
       "      <td>0</td>\n",
       "      <td>0</td>\n",
       "      <td>0</td>\n",
       "      <td>52.3</td>\n",
       "      <td>0.578</td>\n",
       "      <td>40</td>\n",
       "      <td>1</td>\n",
       "    </tr>\n",
       "    <tr>\n",
       "      <th>247</th>\n",
       "      <td>0</td>\n",
       "      <td>165</td>\n",
       "      <td>90</td>\n",
       "      <td>33</td>\n",
       "      <td>680</td>\n",
       "      <td>52.3</td>\n",
       "      <td>0.427</td>\n",
       "      <td>23</td>\n",
       "      <td>0</td>\n",
       "    </tr>\n",
       "    <tr>\n",
       "      <th>303</th>\n",
       "      <td>5</td>\n",
       "      <td>115</td>\n",
       "      <td>98</td>\n",
       "      <td>0</td>\n",
       "      <td>0</td>\n",
       "      <td>52.9</td>\n",
       "      <td>0.209</td>\n",
       "      <td>28</td>\n",
       "      <td>1</td>\n",
       "    </tr>\n",
       "    <tr>\n",
       "      <th>335</th>\n",
       "      <td>0</td>\n",
       "      <td>165</td>\n",
       "      <td>76</td>\n",
       "      <td>43</td>\n",
       "      <td>255</td>\n",
       "      <td>47.9</td>\n",
       "      <td>0.259</td>\n",
       "      <td>26</td>\n",
       "      <td>0</td>\n",
       "    </tr>\n",
       "    <tr>\n",
       "      <th>378</th>\n",
       "      <td>4</td>\n",
       "      <td>156</td>\n",
       "      <td>75</td>\n",
       "      <td>0</td>\n",
       "      <td>0</td>\n",
       "      <td>48.3</td>\n",
       "      <td>0.238</td>\n",
       "      <td>32</td>\n",
       "      <td>1</td>\n",
       "    </tr>\n",
       "    <tr>\n",
       "      <th>445</th>\n",
       "      <td>0</td>\n",
       "      <td>180</td>\n",
       "      <td>78</td>\n",
       "      <td>63</td>\n",
       "      <td>14</td>\n",
       "      <td>59.4</td>\n",
       "      <td>2.420</td>\n",
       "      <td>25</td>\n",
       "      <td>1</td>\n",
       "    </tr>\n",
       "    <tr>\n",
       "      <th>673</th>\n",
       "      <td>3</td>\n",
       "      <td>123</td>\n",
       "      <td>100</td>\n",
       "      <td>35</td>\n",
       "      <td>240</td>\n",
       "      <td>57.3</td>\n",
       "      <td>0.880</td>\n",
       "      <td>22</td>\n",
       "      <td>0</td>\n",
       "    </tr>\n",
       "    <tr>\n",
       "      <th>681</th>\n",
       "      <td>0</td>\n",
       "      <td>162</td>\n",
       "      <td>76</td>\n",
       "      <td>36</td>\n",
       "      <td>0</td>\n",
       "      <td>49.6</td>\n",
       "      <td>0.364</td>\n",
       "      <td>26</td>\n",
       "      <td>1</td>\n",
       "    </tr>\n",
       "    <tr>\n",
       "      <th>746</th>\n",
       "      <td>1</td>\n",
       "      <td>147</td>\n",
       "      <td>94</td>\n",
       "      <td>41</td>\n",
       "      <td>0</td>\n",
       "      <td>49.3</td>\n",
       "      <td>0.358</td>\n",
       "      <td>27</td>\n",
       "      <td>1</td>\n",
       "    </tr>\n",
       "  </tbody>\n",
       "</table>\n",
       "</div>"
      ],
      "text/plain": [
       "     Pregnancies  Glucose  BloodPressure  SkinThickness  Insulin   BMI  \\\n",
       "84             5      137            108              0        0  48.8   \n",
       "99             1      122             90             51      220  49.7   \n",
       "120            0      162             76             56      100  53.2   \n",
       "125            1       88             30             42       99  55.0   \n",
       "154            8      188             78              0        0  47.9   \n",
       "155            7      152             88             44        0  50.0   \n",
       "177            0      129            110             46      130  67.1   \n",
       "193           11      135              0              0        0  52.3   \n",
       "247            0      165             90             33      680  52.3   \n",
       "303            5      115             98              0        0  52.9   \n",
       "335            0      165             76             43      255  47.9   \n",
       "378            4      156             75              0        0  48.3   \n",
       "445            0      180             78             63       14  59.4   \n",
       "673            3      123            100             35      240  57.3   \n",
       "681            0      162             76             36        0  49.6   \n",
       "746            1      147             94             41        0  49.3   \n",
       "\n",
       "     DiabetesPedigreeFunction  Age  Outcome  \n",
       "84                      0.227   37        1  \n",
       "99                      0.325   31        1  \n",
       "120                     0.759   25        1  \n",
       "125                     0.496   26        1  \n",
       "154                     0.137   43        1  \n",
       "155                     0.337   36        1  \n",
       "177                     0.319   26        1  \n",
       "193                     0.578   40        1  \n",
       "247                     0.427   23        0  \n",
       "303                     0.209   28        1  \n",
       "335                     0.259   26        0  \n",
       "378                     0.238   32        1  \n",
       "445                     2.420   25        1  \n",
       "673                     0.880   22        0  \n",
       "681                     0.364   26        1  \n",
       "746                     0.358   27        1  "
      ]
     },
     "execution_count": 265,
     "metadata": {},
     "output_type": "execute_result"
    }
   ],
   "source": [
    "\n",
    "Q = (data[\"BMI\"] >= data[\"BMI\"].mean()+ 2*data[\"BMI\"].std())\n",
    "data[Q]"
   ]
  },
  {
   "cell_type": "code",
   "execution_count": 230,
   "id": "da1279db-a5cd-4fae-a65b-7ac1b252542f",
   "metadata": {},
   "outputs": [
    {
     "data": {
      "text/plain": [
       "31.992578124999977"
      ]
     },
     "execution_count": 230,
     "metadata": {},
     "output_type": "execute_result"
    }
   ],
   "source": [
    "data[\"BMI\"].mean()"
   ]
  },
  {
   "cell_type": "code",
   "execution_count": 231,
   "id": "df7f031c-5f78-45b1-a6e9-93f32480865e",
   "metadata": {},
   "outputs": [
    {
     "data": {
      "text/plain": [
       "7.8841603203754405"
      ]
     },
     "execution_count": 231,
     "metadata": {},
     "output_type": "execute_result"
    }
   ],
   "source": [
    "data[\"BMI\"].std()"
   ]
  },
  {
   "cell_type": "code",
   "execution_count": 242,
   "id": "524f5490-68fb-491c-aa1c-207dfd958151",
   "metadata": {},
   "outputs": [
    {
     "data": {
      "text/html": [
       "<div>\n",
       "<style scoped>\n",
       "    .dataframe tbody tr th:only-of-type {\n",
       "        vertical-align: middle;\n",
       "    }\n",
       "\n",
       "    .dataframe tbody tr th {\n",
       "        vertical-align: top;\n",
       "    }\n",
       "\n",
       "    .dataframe thead th {\n",
       "        text-align: right;\n",
       "    }\n",
       "</style>\n",
       "<table border=\"1\" class=\"dataframe\">\n",
       "  <thead>\n",
       "    <tr style=\"text-align: right;\">\n",
       "      <th></th>\n",
       "      <th>Pregnancies</th>\n",
       "      <th>Glucose</th>\n",
       "      <th>BloodPressure</th>\n",
       "      <th>SkinThickness</th>\n",
       "      <th>Insulin</th>\n",
       "      <th>BMI</th>\n",
       "      <th>DiabetesPedigreeFunction</th>\n",
       "      <th>Age</th>\n",
       "      <th>Outcome</th>\n",
       "    </tr>\n",
       "    <tr>\n",
       "      <th>Outcome</th>\n",
       "      <th></th>\n",
       "      <th></th>\n",
       "      <th></th>\n",
       "      <th></th>\n",
       "      <th></th>\n",
       "      <th></th>\n",
       "      <th></th>\n",
       "      <th></th>\n",
       "      <th></th>\n",
       "    </tr>\n",
       "  </thead>\n",
       "  <tbody>\n",
       "    <tr>\n",
       "      <th>False</th>\n",
       "      <td>3</td>\n",
       "      <td>3</td>\n",
       "      <td>3</td>\n",
       "      <td>3</td>\n",
       "      <td>3</td>\n",
       "      <td>3</td>\n",
       "      <td>3</td>\n",
       "      <td>3</td>\n",
       "      <td>3</td>\n",
       "    </tr>\n",
       "    <tr>\n",
       "      <th>True</th>\n",
       "      <td>13</td>\n",
       "      <td>13</td>\n",
       "      <td>13</td>\n",
       "      <td>13</td>\n",
       "      <td>13</td>\n",
       "      <td>13</td>\n",
       "      <td>13</td>\n",
       "      <td>13</td>\n",
       "      <td>13</td>\n",
       "    </tr>\n",
       "  </tbody>\n",
       "</table>\n",
       "</div>"
      ],
      "text/plain": [
       "         Pregnancies  Glucose  BloodPressure  SkinThickness  Insulin  BMI  \\\n",
       "Outcome                                                                     \n",
       "False              3        3              3              3        3    3   \n",
       "True              13       13             13             13       13   13   \n",
       "\n",
       "         DiabetesPedigreeFunction  Age  Outcome  \n",
       "Outcome                                          \n",
       "False                           3    3        3  \n",
       "True                           13   13       13  "
      ]
     },
     "execution_count": 242,
     "metadata": {},
     "output_type": "execute_result"
    }
   ],
   "source": [
    "data[Q].groupby(data[\"Outcome\"]==1).count()"
   ]
  },
  {
   "cell_type": "code",
   "execution_count": 244,
   "id": "f7f7bf95-a91c-45a8-9b67-84c97c8dc2b6",
   "metadata": {},
   "outputs": [
    {
     "data": {
      "text/plain": [
       "0.8125"
      ]
     },
     "execution_count": 244,
     "metadata": {},
     "output_type": "execute_result"
    }
   ],
   "source": [
    "13/(13+3)"
   ]
  },
  {
   "cell_type": "markdown",
   "id": "4bc77bab-d33f-4025-b51c-a47f8c7cf608",
   "metadata": {},
   "source": [
    "There is an 81% Chance that someone with a BMI two standard deviations above average will test positive for diabetes"
   ]
  },
  {
   "cell_type": "code",
   "execution_count": 239,
   "id": "f3824a68-cef1-497f-a9ff-61ced9a7cb8a",
   "metadata": {},
   "outputs": [
    {
     "data": {
      "text/html": [
       "<div>\n",
       "<style scoped>\n",
       "    .dataframe tbody tr th:only-of-type {\n",
       "        vertical-align: middle;\n",
       "    }\n",
       "\n",
       "    .dataframe tbody tr th {\n",
       "        vertical-align: top;\n",
       "    }\n",
       "\n",
       "    .dataframe thead th {\n",
       "        text-align: right;\n",
       "    }\n",
       "</style>\n",
       "<table border=\"1\" class=\"dataframe\">\n",
       "  <thead>\n",
       "    <tr style=\"text-align: right;\">\n",
       "      <th></th>\n",
       "      <th>Pregnancies</th>\n",
       "      <th>Glucose</th>\n",
       "      <th>BloodPressure</th>\n",
       "      <th>SkinThickness</th>\n",
       "      <th>Insulin</th>\n",
       "      <th>BMI</th>\n",
       "      <th>DiabetesPedigreeFunction</th>\n",
       "      <th>Age</th>\n",
       "      <th>Outcome</th>\n",
       "    </tr>\n",
       "  </thead>\n",
       "  <tbody>\n",
       "    <tr>\n",
       "      <th>8</th>\n",
       "      <td>2</td>\n",
       "      <td>197</td>\n",
       "      <td>70</td>\n",
       "      <td>45</td>\n",
       "      <td>543</td>\n",
       "      <td>30.5</td>\n",
       "      <td>0.158</td>\n",
       "      <td>53</td>\n",
       "      <td>1</td>\n",
       "    </tr>\n",
       "    <tr>\n",
       "      <th>13</th>\n",
       "      <td>1</td>\n",
       "      <td>189</td>\n",
       "      <td>60</td>\n",
       "      <td>23</td>\n",
       "      <td>846</td>\n",
       "      <td>30.1</td>\n",
       "      <td>0.398</td>\n",
       "      <td>59</td>\n",
       "      <td>1</td>\n",
       "    </tr>\n",
       "    <tr>\n",
       "      <th>22</th>\n",
       "      <td>7</td>\n",
       "      <td>196</td>\n",
       "      <td>90</td>\n",
       "      <td>0</td>\n",
       "      <td>0</td>\n",
       "      <td>39.8</td>\n",
       "      <td>0.451</td>\n",
       "      <td>41</td>\n",
       "      <td>1</td>\n",
       "    </tr>\n",
       "    <tr>\n",
       "      <th>56</th>\n",
       "      <td>7</td>\n",
       "      <td>187</td>\n",
       "      <td>68</td>\n",
       "      <td>39</td>\n",
       "      <td>304</td>\n",
       "      <td>37.7</td>\n",
       "      <td>0.254</td>\n",
       "      <td>41</td>\n",
       "      <td>1</td>\n",
       "    </tr>\n",
       "    <tr>\n",
       "      <th>154</th>\n",
       "      <td>8</td>\n",
       "      <td>188</td>\n",
       "      <td>78</td>\n",
       "      <td>0</td>\n",
       "      <td>0</td>\n",
       "      <td>47.9</td>\n",
       "      <td>0.137</td>\n",
       "      <td>43</td>\n",
       "      <td>1</td>\n",
       "    </tr>\n",
       "    <tr>\n",
       "      <th>185</th>\n",
       "      <td>7</td>\n",
       "      <td>194</td>\n",
       "      <td>68</td>\n",
       "      <td>28</td>\n",
       "      <td>0</td>\n",
       "      <td>35.9</td>\n",
       "      <td>0.745</td>\n",
       "      <td>41</td>\n",
       "      <td>1</td>\n",
       "    </tr>\n",
       "    <tr>\n",
       "      <th>206</th>\n",
       "      <td>8</td>\n",
       "      <td>196</td>\n",
       "      <td>76</td>\n",
       "      <td>29</td>\n",
       "      <td>280</td>\n",
       "      <td>37.5</td>\n",
       "      <td>0.605</td>\n",
       "      <td>57</td>\n",
       "      <td>1</td>\n",
       "    </tr>\n",
       "    <tr>\n",
       "      <th>228</th>\n",
       "      <td>4</td>\n",
       "      <td>197</td>\n",
       "      <td>70</td>\n",
       "      <td>39</td>\n",
       "      <td>744</td>\n",
       "      <td>36.7</td>\n",
       "      <td>2.329</td>\n",
       "      <td>31</td>\n",
       "      <td>0</td>\n",
       "    </tr>\n",
       "    <tr>\n",
       "      <th>258</th>\n",
       "      <td>1</td>\n",
       "      <td>193</td>\n",
       "      <td>50</td>\n",
       "      <td>16</td>\n",
       "      <td>375</td>\n",
       "      <td>25.9</td>\n",
       "      <td>0.655</td>\n",
       "      <td>24</td>\n",
       "      <td>0</td>\n",
       "    </tr>\n",
       "    <tr>\n",
       "      <th>260</th>\n",
       "      <td>3</td>\n",
       "      <td>191</td>\n",
       "      <td>68</td>\n",
       "      <td>15</td>\n",
       "      <td>130</td>\n",
       "      <td>30.9</td>\n",
       "      <td>0.299</td>\n",
       "      <td>34</td>\n",
       "      <td>0</td>\n",
       "    </tr>\n",
       "    <tr>\n",
       "      <th>319</th>\n",
       "      <td>6</td>\n",
       "      <td>194</td>\n",
       "      <td>78</td>\n",
       "      <td>0</td>\n",
       "      <td>0</td>\n",
       "      <td>23.5</td>\n",
       "      <td>0.129</td>\n",
       "      <td>59</td>\n",
       "      <td>1</td>\n",
       "    </tr>\n",
       "    <tr>\n",
       "      <th>359</th>\n",
       "      <td>1</td>\n",
       "      <td>196</td>\n",
       "      <td>76</td>\n",
       "      <td>36</td>\n",
       "      <td>249</td>\n",
       "      <td>36.5</td>\n",
       "      <td>0.875</td>\n",
       "      <td>29</td>\n",
       "      <td>1</td>\n",
       "    </tr>\n",
       "    <tr>\n",
       "      <th>360</th>\n",
       "      <td>5</td>\n",
       "      <td>189</td>\n",
       "      <td>64</td>\n",
       "      <td>33</td>\n",
       "      <td>325</td>\n",
       "      <td>31.2</td>\n",
       "      <td>0.583</td>\n",
       "      <td>29</td>\n",
       "      <td>1</td>\n",
       "    </tr>\n",
       "    <tr>\n",
       "      <th>399</th>\n",
       "      <td>3</td>\n",
       "      <td>193</td>\n",
       "      <td>70</td>\n",
       "      <td>31</td>\n",
       "      <td>0</td>\n",
       "      <td>34.9</td>\n",
       "      <td>0.241</td>\n",
       "      <td>25</td>\n",
       "      <td>1</td>\n",
       "    </tr>\n",
       "    <tr>\n",
       "      <th>408</th>\n",
       "      <td>8</td>\n",
       "      <td>197</td>\n",
       "      <td>74</td>\n",
       "      <td>0</td>\n",
       "      <td>0</td>\n",
       "      <td>25.9</td>\n",
       "      <td>1.191</td>\n",
       "      <td>39</td>\n",
       "      <td>1</td>\n",
       "    </tr>\n",
       "    <tr>\n",
       "      <th>440</th>\n",
       "      <td>0</td>\n",
       "      <td>189</td>\n",
       "      <td>104</td>\n",
       "      <td>25</td>\n",
       "      <td>0</td>\n",
       "      <td>34.3</td>\n",
       "      <td>0.435</td>\n",
       "      <td>41</td>\n",
       "      <td>1</td>\n",
       "    </tr>\n",
       "    <tr>\n",
       "      <th>489</th>\n",
       "      <td>8</td>\n",
       "      <td>194</td>\n",
       "      <td>80</td>\n",
       "      <td>0</td>\n",
       "      <td>0</td>\n",
       "      <td>26.1</td>\n",
       "      <td>0.551</td>\n",
       "      <td>67</td>\n",
       "      <td>0</td>\n",
       "    </tr>\n",
       "    <tr>\n",
       "      <th>498</th>\n",
       "      <td>7</td>\n",
       "      <td>195</td>\n",
       "      <td>70</td>\n",
       "      <td>33</td>\n",
       "      <td>145</td>\n",
       "      <td>25.1</td>\n",
       "      <td>0.163</td>\n",
       "      <td>55</td>\n",
       "      <td>1</td>\n",
       "    </tr>\n",
       "    <tr>\n",
       "      <th>545</th>\n",
       "      <td>8</td>\n",
       "      <td>186</td>\n",
       "      <td>90</td>\n",
       "      <td>35</td>\n",
       "      <td>225</td>\n",
       "      <td>34.5</td>\n",
       "      <td>0.423</td>\n",
       "      <td>37</td>\n",
       "      <td>1</td>\n",
       "    </tr>\n",
       "    <tr>\n",
       "      <th>546</th>\n",
       "      <td>5</td>\n",
       "      <td>187</td>\n",
       "      <td>76</td>\n",
       "      <td>27</td>\n",
       "      <td>207</td>\n",
       "      <td>43.6</td>\n",
       "      <td>1.034</td>\n",
       "      <td>53</td>\n",
       "      <td>1</td>\n",
       "    </tr>\n",
       "    <tr>\n",
       "      <th>549</th>\n",
       "      <td>4</td>\n",
       "      <td>189</td>\n",
       "      <td>110</td>\n",
       "      <td>31</td>\n",
       "      <td>0</td>\n",
       "      <td>28.5</td>\n",
       "      <td>0.680</td>\n",
       "      <td>37</td>\n",
       "      <td>0</td>\n",
       "    </tr>\n",
       "    <tr>\n",
       "      <th>561</th>\n",
       "      <td>0</td>\n",
       "      <td>198</td>\n",
       "      <td>66</td>\n",
       "      <td>32</td>\n",
       "      <td>274</td>\n",
       "      <td>41.3</td>\n",
       "      <td>0.502</td>\n",
       "      <td>28</td>\n",
       "      <td>1</td>\n",
       "    </tr>\n",
       "    <tr>\n",
       "      <th>579</th>\n",
       "      <td>2</td>\n",
       "      <td>197</td>\n",
       "      <td>70</td>\n",
       "      <td>99</td>\n",
       "      <td>0</td>\n",
       "      <td>34.7</td>\n",
       "      <td>0.575</td>\n",
       "      <td>62</td>\n",
       "      <td>1</td>\n",
       "    </tr>\n",
       "    <tr>\n",
       "      <th>595</th>\n",
       "      <td>0</td>\n",
       "      <td>188</td>\n",
       "      <td>82</td>\n",
       "      <td>14</td>\n",
       "      <td>185</td>\n",
       "      <td>32.0</td>\n",
       "      <td>0.682</td>\n",
       "      <td>22</td>\n",
       "      <td>1</td>\n",
       "    </tr>\n",
       "    <tr>\n",
       "      <th>661</th>\n",
       "      <td>1</td>\n",
       "      <td>199</td>\n",
       "      <td>76</td>\n",
       "      <td>43</td>\n",
       "      <td>0</td>\n",
       "      <td>42.9</td>\n",
       "      <td>1.394</td>\n",
       "      <td>22</td>\n",
       "      <td>1</td>\n",
       "    </tr>\n",
       "    <tr>\n",
       "      <th>675</th>\n",
       "      <td>6</td>\n",
       "      <td>195</td>\n",
       "      <td>70</td>\n",
       "      <td>0</td>\n",
       "      <td>0</td>\n",
       "      <td>30.9</td>\n",
       "      <td>0.328</td>\n",
       "      <td>31</td>\n",
       "      <td>1</td>\n",
       "    </tr>\n",
       "    <tr>\n",
       "      <th>715</th>\n",
       "      <td>7</td>\n",
       "      <td>187</td>\n",
       "      <td>50</td>\n",
       "      <td>33</td>\n",
       "      <td>392</td>\n",
       "      <td>33.9</td>\n",
       "      <td>0.826</td>\n",
       "      <td>34</td>\n",
       "      <td>1</td>\n",
       "    </tr>\n",
       "    <tr>\n",
       "      <th>748</th>\n",
       "      <td>3</td>\n",
       "      <td>187</td>\n",
       "      <td>70</td>\n",
       "      <td>22</td>\n",
       "      <td>200</td>\n",
       "      <td>36.4</td>\n",
       "      <td>0.408</td>\n",
       "      <td>36</td>\n",
       "      <td>1</td>\n",
       "    </tr>\n",
       "    <tr>\n",
       "      <th>759</th>\n",
       "      <td>6</td>\n",
       "      <td>190</td>\n",
       "      <td>92</td>\n",
       "      <td>0</td>\n",
       "      <td>0</td>\n",
       "      <td>35.5</td>\n",
       "      <td>0.278</td>\n",
       "      <td>66</td>\n",
       "      <td>1</td>\n",
       "    </tr>\n",
       "  </tbody>\n",
       "</table>\n",
       "</div>"
      ],
      "text/plain": [
       "     Pregnancies  Glucose  BloodPressure  SkinThickness  Insulin   BMI  \\\n",
       "8              2      197             70             45      543  30.5   \n",
       "13             1      189             60             23      846  30.1   \n",
       "22             7      196             90              0        0  39.8   \n",
       "56             7      187             68             39      304  37.7   \n",
       "154            8      188             78              0        0  47.9   \n",
       "185            7      194             68             28        0  35.9   \n",
       "206            8      196             76             29      280  37.5   \n",
       "228            4      197             70             39      744  36.7   \n",
       "258            1      193             50             16      375  25.9   \n",
       "260            3      191             68             15      130  30.9   \n",
       "319            6      194             78              0        0  23.5   \n",
       "359            1      196             76             36      249  36.5   \n",
       "360            5      189             64             33      325  31.2   \n",
       "399            3      193             70             31        0  34.9   \n",
       "408            8      197             74              0        0  25.9   \n",
       "440            0      189            104             25        0  34.3   \n",
       "489            8      194             80              0        0  26.1   \n",
       "498            7      195             70             33      145  25.1   \n",
       "545            8      186             90             35      225  34.5   \n",
       "546            5      187             76             27      207  43.6   \n",
       "549            4      189            110             31        0  28.5   \n",
       "561            0      198             66             32      274  41.3   \n",
       "579            2      197             70             99        0  34.7   \n",
       "595            0      188             82             14      185  32.0   \n",
       "661            1      199             76             43        0  42.9   \n",
       "675            6      195             70              0        0  30.9   \n",
       "715            7      187             50             33      392  33.9   \n",
       "748            3      187             70             22      200  36.4   \n",
       "759            6      190             92              0        0  35.5   \n",
       "\n",
       "     DiabetesPedigreeFunction  Age  Outcome  \n",
       "8                       0.158   53        1  \n",
       "13                      0.398   59        1  \n",
       "22                      0.451   41        1  \n",
       "56                      0.254   41        1  \n",
       "154                     0.137   43        1  \n",
       "185                     0.745   41        1  \n",
       "206                     0.605   57        1  \n",
       "228                     2.329   31        0  \n",
       "258                     0.655   24        0  \n",
       "260                     0.299   34        0  \n",
       "319                     0.129   59        1  \n",
       "359                     0.875   29        1  \n",
       "360                     0.583   29        1  \n",
       "399                     0.241   25        1  \n",
       "408                     1.191   39        1  \n",
       "440                     0.435   41        1  \n",
       "489                     0.551   67        0  \n",
       "498                     0.163   55        1  \n",
       "545                     0.423   37        1  \n",
       "546                     1.034   53        1  \n",
       "549                     0.680   37        0  \n",
       "561                     0.502   28        1  \n",
       "579                     0.575   62        1  \n",
       "595                     0.682   22        1  \n",
       "661                     1.394   22        1  \n",
       "675                     0.328   31        1  \n",
       "715                     0.826   34        1  \n",
       "748                     0.408   36        1  \n",
       "759                     0.278   66        1  "
      ]
     },
     "execution_count": 239,
     "metadata": {},
     "output_type": "execute_result"
    }
   ],
   "source": [
    "Q2=(data[\"Glucose\"] >= data[\"Glucose\"].mean()+ 2*data[\"Glucose\"].std())\n",
    "data[Q2]"
   ]
  },
  {
   "cell_type": "code",
   "execution_count": 232,
   "id": "de939196-b37c-4846-a7f0-402875079211",
   "metadata": {},
   "outputs": [
    {
     "data": {
      "text/plain": [
       "120.89453125"
      ]
     },
     "execution_count": 232,
     "metadata": {},
     "output_type": "execute_result"
    }
   ],
   "source": [
    "data[\"Glucose\"].mean()"
   ]
  },
  {
   "cell_type": "code",
   "execution_count": 234,
   "id": "1f9f24cb-3a05-42d5-8a80-374c2b40d135",
   "metadata": {},
   "outputs": [
    {
     "data": {
      "text/plain": [
       "31.97261819513622"
      ]
     },
     "execution_count": 234,
     "metadata": {},
     "output_type": "execute_result"
    }
   ],
   "source": [
    "data[\"Glucose\"].std()"
   ]
  },
  {
   "cell_type": "code",
   "execution_count": 240,
   "id": "ae85d02f-ceea-4d71-aad8-f337ff7e4e66",
   "metadata": {},
   "outputs": [
    {
     "data": {
      "text/html": [
       "<div>\n",
       "<style scoped>\n",
       "    .dataframe tbody tr th:only-of-type {\n",
       "        vertical-align: middle;\n",
       "    }\n",
       "\n",
       "    .dataframe tbody tr th {\n",
       "        vertical-align: top;\n",
       "    }\n",
       "\n",
       "    .dataframe thead th {\n",
       "        text-align: right;\n",
       "    }\n",
       "</style>\n",
       "<table border=\"1\" class=\"dataframe\">\n",
       "  <thead>\n",
       "    <tr style=\"text-align: right;\">\n",
       "      <th></th>\n",
       "      <th>Pregnancies</th>\n",
       "      <th>Glucose</th>\n",
       "      <th>BloodPressure</th>\n",
       "      <th>SkinThickness</th>\n",
       "      <th>Insulin</th>\n",
       "      <th>BMI</th>\n",
       "      <th>DiabetesPedigreeFunction</th>\n",
       "      <th>Age</th>\n",
       "      <th>Outcome</th>\n",
       "    </tr>\n",
       "    <tr>\n",
       "      <th>Outcome</th>\n",
       "      <th></th>\n",
       "      <th></th>\n",
       "      <th></th>\n",
       "      <th></th>\n",
       "      <th></th>\n",
       "      <th></th>\n",
       "      <th></th>\n",
       "      <th></th>\n",
       "      <th></th>\n",
       "    </tr>\n",
       "  </thead>\n",
       "  <tbody>\n",
       "    <tr>\n",
       "      <th>False</th>\n",
       "      <td>5</td>\n",
       "      <td>5</td>\n",
       "      <td>5</td>\n",
       "      <td>5</td>\n",
       "      <td>5</td>\n",
       "      <td>5</td>\n",
       "      <td>5</td>\n",
       "      <td>5</td>\n",
       "      <td>5</td>\n",
       "    </tr>\n",
       "    <tr>\n",
       "      <th>True</th>\n",
       "      <td>24</td>\n",
       "      <td>24</td>\n",
       "      <td>24</td>\n",
       "      <td>24</td>\n",
       "      <td>24</td>\n",
       "      <td>24</td>\n",
       "      <td>24</td>\n",
       "      <td>24</td>\n",
       "      <td>24</td>\n",
       "    </tr>\n",
       "  </tbody>\n",
       "</table>\n",
       "</div>"
      ],
      "text/plain": [
       "         Pregnancies  Glucose  BloodPressure  SkinThickness  Insulin  BMI  \\\n",
       "Outcome                                                                     \n",
       "False              5        5              5              5        5    5   \n",
       "True              24       24             24             24       24   24   \n",
       "\n",
       "         DiabetesPedigreeFunction  Age  Outcome  \n",
       "Outcome                                          \n",
       "False                           5    5        5  \n",
       "True                           24   24       24  "
      ]
     },
     "execution_count": 240,
     "metadata": {},
     "output_type": "execute_result"
    }
   ],
   "source": [
    "data[Q2].groupby(data[\"Outcome\"]==1).count()"
   ]
  },
  {
   "cell_type": "code",
   "execution_count": 241,
   "id": "cb14e820-b26c-4821-a03c-40144e8e320f",
   "metadata": {},
   "outputs": [
    {
     "data": {
      "text/plain": [
       "0.8275862068965517"
      ]
     },
     "execution_count": 241,
     "metadata": {},
     "output_type": "execute_result"
    }
   ],
   "source": [
    "24/(5+24)"
   ]
  },
  {
   "cell_type": "markdown",
   "id": "899c5e6f-044a-44fe-9d2d-68ba09ba914a",
   "metadata": {},
   "source": [
    "So there is an 83% chance that someone with Glucose 2 standard deviations above average has diabetes"
   ]
  }
 ],
 "metadata": {
  "kernelspec": {
   "display_name": "Python 3 (ipykernel)",
   "language": "python",
   "name": "python3"
  },
  "language_info": {
   "codemirror_mode": {
    "name": "ipython",
    "version": 3
   },
   "file_extension": ".py",
   "mimetype": "text/x-python",
   "name": "python",
   "nbconvert_exporter": "python",
   "pygments_lexer": "ipython3",
   "version": "3.9.12"
  }
 },
 "nbformat": 4,
 "nbformat_minor": 5
}
